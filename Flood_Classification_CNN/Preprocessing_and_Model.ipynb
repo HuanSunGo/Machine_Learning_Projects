{
  "cells": [
    {
      "cell_type": "code",
      "execution_count": null,
      "metadata": {
        "id": "91FeCBgeQ5eH"
      },
      "outputs": [],
      "source": [
        "#import rasterio\n",
        "import numpy as np\n",
        "import subprocess \n",
        "from subprocess import PIPE\n",
        "#import rasterio\n",
        "import json\n",
        "import glob \n",
        "import pandas as pd\n",
        "import os\n",
        "import cv2\n",
        "from sklearn.model_selection import train_test_split\n"
      ]
    },
    {
      "cell_type": "code",
      "execution_count": null,
      "metadata": {
        "id": "EmkNdrgeZWZb"
      },
      "outputs": [],
      "source": [
        "#pip install opencv-python"
      ]
    },
    {
      "cell_type": "code",
      "execution_count": null,
      "metadata": {
        "colab": {
          "base_uri": "https://localhost:8080/"
        },
        "id": "4F69CKPnFmVj",
        "outputId": "1761c889-f3e1-4a1b-8173-f8676533171c"
      },
      "outputs": [
        {
          "name": "stdout",
          "output_type": "stream",
          "text": [
            "Mounted at /content/drive\n"
          ]
        }
      ],
      "source": [
        "from google.colab import drive\n",
        "drive.mount('/content/drive')"
      ]
    },
    {
      "cell_type": "markdown",
      "metadata": {
        "id": "tVjlH0OyZWZp"
      },
      "source": [
        "## Pre-processing"
      ]
    },
    {
      "cell_type": "code",
      "execution_count": null,
      "metadata": {
        "id": "uOajqc-2fjeh"
      },
      "outputs": [],
      "source": [
        "def load_data(path):\n",
        "    data = [] \n",
        "    images = list([])\n",
        "    labels = []\n",
        "    a=0\n",
        "    for folder in os.listdir(path):\n",
        "          if folder == 'flood':\n",
        "            label = [1]\n",
        "            for i in os.listdir(path + folder + \"/\"):\n",
        "              if i[-36:] == '3B_AnalyticMS_SR_harmonized_clip.tif':\n",
        "              #if i[-25:] == '3B_AnalyticMS_SR_clip.tif':\n",
        "                print(path + folder + \"/\" + i)\n",
        "                imarray = cv2.imread(path + folder + \"/\" + i)\n",
        "                image = cv2.resize(imarray,dsize=(128,128),interpolation = cv2.INTER_CUBIC)\n",
        "                #image = cv2.imread('data/flood/111921/5110385_1750918_2021-11-19_2459_BGRN_SR_clip.tif')\n",
        "                #image = cv2.imread('data/flood/111921/20211119_150418_67_2459_3B_Visual_clip.tif')\n",
        "                # Append the image and its corresponding label to the output\n",
        "                images.append(image)\n",
        "                labels.append(label)\n",
        "                \n",
        "          else:\n",
        "            label = [0]\n",
        "            for i in os.listdir(path + folder + \"/\"):\n",
        "              #if i[-20:] == '3B_AnalyticMS_SR.tif':\n",
        "              if i[-36:] == '3B_AnalyticMS_SR_harmonized_clip.tif':\n",
        "                print(path + folder + \"/\" + i)\n",
        "                imarray = cv2.imread(path + folder + \"/\" + i)\n",
        "                image = cv2.resize(imarray,dsize=(128,128),interpolation = cv2.INTER_CUBIC)\n",
        "                #image = cv2.imread('data/flood/111921/5110385_1750918_2021-11-19_2459_BGRN_SR_clip.tif')\n",
        "                #image = cv2.imread('data/flood/111921/20211119_150418_67_2459_3B_Visual_clip.tif')\n",
        "                # Append the image and its corresponding label to the output\n",
        "                images.append(image)\n",
        "                labels.append(label)\n",
        "                \n",
        "                \n",
        "                break\n",
        "    #images = list(images)\n",
        "    #print(labels)\n",
        "    images = np.array(images, dtype = 'float32')\n",
        "    labels = np.array(labels, dtype = 'int32')\n",
        "    #images = np.array(images)\n",
        "    data.append([images, labels])     \n",
        "    return images, labels"
      ]
    },
    {
      "cell_type": "code",
      "execution_count": null,
      "metadata": {
        "colab": {
          "base_uri": "https://localhost:8080/"
        },
        "id": "kQ3CMu19ZWZq",
        "outputId": "85e8b8a0-8c01-45f1-ea9d-0b408ffba4ae"
      },
      "outputs": [
        {
          "name": "stdout",
          "output_type": "stream",
          "text": [
            "/content/drive/MyDrive/KPMG Practicum/Data/flood/20190803_144444_0f4d_3B_AnalyticMS_SR_harmonized_clip.tif\n",
            "/content/drive/MyDrive/KPMG Practicum/Data/flood/20190803_144443_0f4d_3B_AnalyticMS_SR_harmonized_clip.tif\n",
            "/content/drive/MyDrive/KPMG Practicum/Data/flood/20190803_144442_0f4d_3B_AnalyticMS_SR_harmonized_clip.tif\n",
            "/content/drive/MyDrive/KPMG Practicum/Data/flood/20190803_144444_1_0f4d_3B_AnalyticMS_SR_harmonized_clip.tif\n",
            "/content/drive/MyDrive/KPMG Practicum/Data/flood/20190803_144445_0f4d_3B_AnalyticMS_SR_harmonized_clip.tif\n",
            "/content/drive/MyDrive/KPMG Practicum/Data/flood/20190803_144452_0f4d_3B_AnalyticMS_SR_harmonized_clip.tif\n",
            "/content/drive/MyDrive/KPMG Practicum/Data/flood/20190803_144451_0f4d_3B_AnalyticMS_SR_harmonized_clip.tif\n",
            "/content/drive/MyDrive/KPMG Practicum/Data/flood/20190803_144446_0f4d_3B_AnalyticMS_SR_harmonized_clip.tif\n",
            "/content/drive/MyDrive/KPMG Practicum/Data/flood/20190803_144453_0f4d_3B_AnalyticMS_SR_harmonized_clip.tif\n",
            "/content/drive/MyDrive/KPMG Practicum/Data/flood/20190803_152616_0e19_3B_AnalyticMS_SR_harmonized_clip.tif\n",
            "/content/drive/MyDrive/KPMG Practicum/Data/flood/20190803_152618_0e19_3B_AnalyticMS_SR_harmonized_clip.tif\n",
            "/content/drive/MyDrive/KPMG Practicum/Data/flood/20190803_152619_0e19_3B_AnalyticMS_SR_harmonized_clip.tif\n",
            "/content/drive/MyDrive/KPMG Practicum/Data/flood/20190803_152617_0e19_3B_AnalyticMS_SR_harmonized_clip.tif\n",
            "/content/drive/MyDrive/KPMG Practicum/Data/non_flood/20210309_151751_0e26_3B_AnalyticMS_SR_harmonized_clip.tif\n"
          ]
        }
      ],
      "source": [
        "#path = '/content/drive/MyDrive/KPMG Practicum/Data/'\n",
        "#path = '/content/drive/MyDrive/KPMG Practicum/Data/'\n",
        "train_images, train_labels = load_data(path)\n"
      ]
    },
    {
      "cell_type": "code",
      "execution_count": null,
      "metadata": {
        "colab": {
          "base_uri": "https://localhost:8080/"
        },
        "id": "L5AuIEz2VIXv",
        "outputId": "ca86aa8c-d5bf-4cb8-8a68-b3d498529571"
      },
      "outputs": [
        {
          "data": {
            "text/plain": [
              "(14, 128, 128, 3)"
            ]
          },
          "execution_count": 6,
          "metadata": {},
          "output_type": "execute_result"
        }
      ],
      "source": [
        "train_images.shape"
      ]
    },
    {
      "cell_type": "code",
      "execution_count": null,
      "metadata": {
        "colab": {
          "base_uri": "https://localhost:8080/"
        },
        "id": "tclRWAPsTA4b",
        "outputId": "7409f53c-5e56-4095-97fc-49b74fb2b3a2"
      },
      "outputs": [
        {
          "data": {
            "text/plain": [
              "(14, 1)"
            ]
          },
          "execution_count": 7,
          "metadata": {},
          "output_type": "execute_result"
        }
      ],
      "source": [
        "train_labels.shape"
      ]
    },
    {
      "cell_type": "markdown",
      "metadata": {
        "id": "v6yrrYCIK1Yl"
      },
      "source": [
        "## train test split"
      ]
    },
    {
      "cell_type": "code",
      "execution_count": null,
      "metadata": {
        "colab": {
          "base_uri": "https://localhost:8080/"
        },
        "id": "4Egr9R5pMdO0",
        "outputId": "65324f6f-99f6-442e-a71e-16ef4c0bf4ae"
      },
      "outputs": [
        {
          "data": {
            "text/plain": [
              "((8, 128, 128, 3), (8, 1))"
            ]
          },
          "execution_count": 8,
          "metadata": {},
          "output_type": "execute_result"
        }
      ],
      "source": [
        "X_train, X_test, y_train, y_test = train_test_split(train_images, train_labels, test_size=0.4, random_state=0)\n",
        "\n",
        "X_train.shape, y_train.shape\n",
        "\n"
      ]
    },
    {
      "cell_type": "markdown",
      "metadata": {
        "id": "TnZi_nrjc-kG"
      },
      "source": [
        "## Testing code for reading 4 band\n"
      ]
    },
    {
      "cell_type": "code",
      "execution_count": null,
      "metadata": {
        "colab": {
          "base_uri": "https://localhost:8080/",
          "height": 387
        },
        "id": "F5a4J3rmbMC6",
        "outputId": "074e76c3-6b1c-4732-a87f-0165920b6548"
      },
      "outputs": [
        {
          "ename": "FileNotFoundError",
          "evalue": "ignored",
          "output_type": "error",
          "traceback": [
            "\u001b[0;31m---------------------------------------------------------------------------\u001b[0m",
            "\u001b[0;31mFileNotFoundError\u001b[0m                         Traceback (most recent call last)",
            "\u001b[0;32m<ipython-input-9-bfc05d30acc0>\u001b[0m in \u001b[0;36m<module>\u001b[0;34m()\u001b[0m\n\u001b[1;32m      1\u001b[0m \u001b[0;32mfrom\u001b[0m \u001b[0mPIL\u001b[0m \u001b[0;32mimport\u001b[0m \u001b[0mImage\u001b[0m\u001b[0;34m\u001b[0m\u001b[0;34m\u001b[0m\u001b[0m\n\u001b[0;32m----> 2\u001b[0;31m \u001b[0mim\u001b[0m \u001b[0;34m=\u001b[0m \u001b[0mImage\u001b[0m\u001b[0;34m.\u001b[0m\u001b[0mopen\u001b[0m\u001b[0;34m(\u001b[0m\u001b[0;34m'/content/drive/MyDrive/KPMG Practicum/Model/data/flood/111921/20211119_150418_67_2459_3B_Visual_clip.tif'\u001b[0m\u001b[0;34m)\u001b[0m\u001b[0;34m\u001b[0m\u001b[0;34m\u001b[0m\u001b[0m\n\u001b[0m\u001b[1;32m      3\u001b[0m \u001b[0;31m#im = Image.open('/content/drive/MyDrive/KPMG Practicum/PlanetData/Miami2021-11-19_psscene4band_analytic_sr_udm2/file/111921/5110385_1750918_2021-11-19_2459_BGRN_SR_clip.tif')\u001b[0m\u001b[0;34m\u001b[0m\u001b[0;34m\u001b[0m\u001b[0;34m\u001b[0m\u001b[0m\n\u001b[1;32m      4\u001b[0m \u001b[0mim\u001b[0m\u001b[0;34m.\u001b[0m\u001b[0mshow\u001b[0m\u001b[0;34m(\u001b[0m\u001b[0;34m)\u001b[0m\u001b[0;34m\u001b[0m\u001b[0;34m\u001b[0m\u001b[0m\n",
            "\u001b[0;32m/usr/local/lib/python3.7/dist-packages/PIL/Image.py\u001b[0m in \u001b[0;36mopen\u001b[0;34m(fp, mode)\u001b[0m\n\u001b[1;32m   2841\u001b[0m \u001b[0;34m\u001b[0m\u001b[0m\n\u001b[1;32m   2842\u001b[0m     \u001b[0;32mif\u001b[0m \u001b[0mfilename\u001b[0m\u001b[0;34m:\u001b[0m\u001b[0;34m\u001b[0m\u001b[0;34m\u001b[0m\u001b[0m\n\u001b[0;32m-> 2843\u001b[0;31m         \u001b[0mfp\u001b[0m \u001b[0;34m=\u001b[0m \u001b[0mbuiltins\u001b[0m\u001b[0;34m.\u001b[0m\u001b[0mopen\u001b[0m\u001b[0;34m(\u001b[0m\u001b[0mfilename\u001b[0m\u001b[0;34m,\u001b[0m \u001b[0;34m\"rb\"\u001b[0m\u001b[0;34m)\u001b[0m\u001b[0;34m\u001b[0m\u001b[0;34m\u001b[0m\u001b[0m\n\u001b[0m\u001b[1;32m   2844\u001b[0m         \u001b[0mexclusive_fp\u001b[0m \u001b[0;34m=\u001b[0m \u001b[0;32mTrue\u001b[0m\u001b[0;34m\u001b[0m\u001b[0;34m\u001b[0m\u001b[0m\n\u001b[1;32m   2845\u001b[0m \u001b[0;34m\u001b[0m\u001b[0m\n",
            "\u001b[0;31mFileNotFoundError\u001b[0m: [Errno 2] No such file or directory: '/content/drive/MyDrive/KPMG Practicum/Model/data/flood/111921/20211119_150418_67_2459_3B_Visual_clip.tif'"
          ]
        }
      ],
      "source": [
        "from PIL import Image\n",
        "im = Image.open('/content/drive/MyDrive/KPMG Practicum/Model/data/flood/111921/20211119_150418_67_2459_3B_Visual_clip.tif')\n",
        "#im = Image.open('/content/drive/MyDrive/KPMG Practicum/PlanetData/Miami2021-11-19_psscene4band_analytic_sr_udm2/file/111921/5110385_1750918_2021-11-19_2459_BGRN_SR_clip.tif')\n",
        "im.show()"
      ]
    },
    {
      "cell_type": "code",
      "execution_count": null,
      "metadata": {
        "id": "lTEjE93WbZD4"
      },
      "outputs": [],
      "source": [
        "imarray = np.array(im)\n",
        "imarray.shape"
      ]
    },
    {
      "cell_type": "code",
      "execution_count": null,
      "metadata": {
        "id": "LUrFDoqOVyUX"
      },
      "outputs": [],
      "source": [
        " res = cv2.resize(imarray,dsize=(128,128),interpolation = cv2.INTER_CUBIC)\n",
        " res.shape"
      ]
    },
    {
      "cell_type": "markdown",
      "metadata": {
        "id": "hKp-5JXuZWZu"
      },
      "source": [
        "## Model"
      ]
    },
    {
      "cell_type": "markdown",
      "metadata": {
        "id": "tiM_F6YOt9lb"
      },
      "source": [
        "### Fit the model with available data"
      ]
    },
    {
      "cell_type": "code",
      "execution_count": null,
      "metadata": {
        "id": "hPhTkUJvZWZu"
      },
      "outputs": [],
      "source": [
        "# Import the Deep Learing modules\n",
        "import matplotlib.pyplot as plt\n",
        "import seaborn as sns\n",
        "\n",
        "import keras\n",
        "from keras.models import Sequential\n",
        "from keras.layers import Dense, Conv2D , MaxPool2D , Flatten , Dropout \n",
        "from keras.preprocessing.image import ImageDataGenerator\n",
        "#from keras.optimizers import Adam\n",
        "from tensorflow.keras.optimizers import Adam\n",
        "from keras.utils.vis_utils import plot_model\n",
        "#import pydot\n",
        "\n",
        "# from sklearn.metrics import classification_report,confusion_matrix\n",
        "\n",
        "import tensorflow as tf\n",
        "import cv2\n",
        "import os\n",
        "import numpy as np"
      ]
    },
    {
      "cell_type": "code",
      "execution_count": null,
      "metadata": {
        "id": "2pe7FcZjZWZv"
      },
      "outputs": [],
      "source": [
        "model1 = tf.keras.Sequential([\n",
        "    tf.keras.layers.Conv2D(32, (3, 3), activation = 'relu', input_shape = (128,128, 3)), \n",
        "    tf.keras.layers.MaxPooling2D(2,2),\n",
        "    tf.keras.layers.Conv2D(32, (3, 3), activation = 'relu'),\n",
        "    tf.keras.layers.MaxPooling2D(2,2),\n",
        "    tf.keras.layers.Flatten(),\n",
        "    tf.keras.layers.Dense(128, activation=tf.nn.relu),\n",
        "    tf.keras.layers.Dense(2, activation=tf.nn.softmax)\n",
        "])"
      ]
    },
    {
      "cell_type": "code",
      "execution_count": null,
      "metadata": {
        "id": "E9CNhSN5ZWZv"
      },
      "outputs": [],
      "source": [
        "model1.compile(optimizer = 'adam', loss = 'sparse_categorical_crossentropy', metrics=['accuracy'])"
      ]
    },
    {
      "cell_type": "code",
      "execution_count": null,
      "metadata": {
        "colab": {
          "base_uri": "https://localhost:8080/"
        },
        "id": "GNpUyaLeZWZv",
        "outputId": "b137fcf3-1991-4a78-d81d-2bcaebf3fb41"
      },
      "outputs": [
        {
          "name": "stdout",
          "output_type": "stream",
          "text": [
            "Epoch 1/2\n",
            "1/1 [==============================] - 1s 1s/step - loss: 0.1771 - accuracy: 1.0000 - val_loss: 0.0000e+00 - val_accuracy: 1.0000\n",
            "Epoch 2/2\n",
            "1/1 [==============================] - 0s 200ms/step - loss: 0.0000e+00 - accuracy: 1.0000 - val_loss: 0.0000e+00 - val_accuracy: 1.0000\n"
          ]
        }
      ],
      "source": [
        "#history = model.fit(train_images, train_labels, batch_size=28, epochs=2, validation_split = 0.2)\n",
        "history = model1.fit(X_train, y_train, batch_size=28, epochs=2, validation_split = 0.2)\n"
      ]
    },
    {
      "cell_type": "markdown",
      "metadata": {
        "id": "-A32vOhEuCUo"
      },
      "source": [
        "###Feature extraction with VGG ImageNet"
      ]
    },
    {
      "cell_type": "code",
      "execution_count": null,
      "metadata": {
        "colab": {
          "base_uri": "https://localhost:8080/"
        },
        "id": "du11oZW8ZWZw",
        "outputId": "80da030d-16ba-4769-df23-e0397d34d550"
      },
      "outputs": [
        {
          "name": "stdout",
          "output_type": "stream",
          "text": [
            "Downloading data from https://storage.googleapis.com/tensorflow/keras-applications/vgg16/vgg16_weights_tf_dim_ordering_tf_kernels_notop.h5\n",
            "58892288/58889256 [==============================] - 0s 0us/step\n",
            "58900480/58889256 [==============================] - 0s 0us/step\n"
          ]
        }
      ],
      "source": [
        "from keras.applications.vgg16 import VGG16\n",
        "from keras.preprocessing import image\n",
        "from keras.applications.vgg16 import preprocess_input\n",
        "\n",
        "model = VGG16(weights='imagenet', include_top=False)"
      ]
    },
    {
      "cell_type": "code",
      "execution_count": null,
      "metadata": {
        "id": "GmTVtStruV-Z"
      },
      "outputs": [],
      "source": [
        "train_features = model.predict(X_train)\n",
        "\n",
        "test_features = model.predict(X_test)"
      ]
    },
    {
      "cell_type": "code",
      "execution_count": null,
      "metadata": {
        "id": "9rXPiSIgETA3"
      },
      "outputs": [],
      "source": [
        "# Save the features calculated earlier\n",
        "np.save(\"train_features.npy\", train_features)\n",
        "np.save(\"test_features\", test_features)\n",
        "\n",
        "# Load the trained weights\n",
        "# loaded_array = np.load(\"train_features.npy\")\n",
        "# loaded_array = np.load(\"test_features.npy\")"
      ]
    },
    {
      "cell_type": "code",
      "execution_count": null,
      "metadata": {
        "colab": {
          "base_uri": "https://localhost:8080/"
        },
        "id": "iGXaNoUbEWu6",
        "outputId": "dd7f9e7c-fc89-4d6a-d9f7-278751c7959d"
      },
      "outputs": [
        {
          "data": {
            "text/plain": [
              "numpy.ndarray"
            ]
          },
          "execution_count": 60,
          "metadata": {},
          "output_type": "execute_result"
        }
      ],
      "source": [
        "type(train_features)"
      ]
    },
    {
      "cell_type": "code",
      "execution_count": null,
      "metadata": {
        "id": "qMsVcGLfEZnk"
      },
      "outputs": [],
      "source": [
        "n_train, x, y, z = train_features.shape\n",
        "n_test, x, y, z = test_features.shape\n",
        "numFeatures = x * y * z"
      ]
    },
    {
      "cell_type": "markdown",
      "metadata": {
        "id": "I6_u0hAxEe4o"
      },
      "source": [
        "### training on top of VGG"
      ]
    },
    {
      "cell_type": "code",
      "execution_count": null,
      "metadata": {
        "colab": {
          "base_uri": "https://localhost:8080/"
        },
        "id": "QWsJSo_uEcax",
        "outputId": "e41afd7a-68e2-41e4-f10f-1e38d3a2788e"
      },
      "outputs": [
        {
          "name": "stdout",
          "output_type": "stream",
          "text": [
            "Epoch 1/30\n",
            "1/1 [==============================] - 1s 515ms/step - loss: 1.9288 - accuracy: 0.2500 - val_loss: 10.7252 - val_accuracy: 0.3333\n",
            "Epoch 2/30\n",
            "1/1 [==============================] - 0s 38ms/step - loss: 1.4504e-06 - accuracy: 1.0000 - val_loss: 18.3550 - val_accuracy: 0.3333\n",
            "Epoch 3/30\n",
            "1/1 [==============================] - 0s 36ms/step - loss: 0.0000e+00 - accuracy: 1.0000 - val_loss: 24.2753 - val_accuracy: 0.3333\n",
            "Epoch 4/30\n",
            "1/1 [==============================] - 0s 43ms/step - loss: 0.0000e+00 - accuracy: 1.0000 - val_loss: 29.1693 - val_accuracy: 0.3333\n",
            "Epoch 5/30\n",
            "1/1 [==============================] - 0s 34ms/step - loss: 0.0000e+00 - accuracy: 1.0000 - val_loss: 33.3283 - val_accuracy: 0.3333\n",
            "Epoch 6/30\n",
            "1/1 [==============================] - 0s 41ms/step - loss: 0.0000e+00 - accuracy: 1.0000 - val_loss: 36.9412 - val_accuracy: 0.3333\n",
            "Epoch 7/30\n",
            "1/1 [==============================] - 0s 35ms/step - loss: 0.0000e+00 - accuracy: 1.0000 - val_loss: 40.1180 - val_accuracy: 0.3333\n",
            "Epoch 8/30\n",
            "1/1 [==============================] - 0s 37ms/step - loss: 0.0000e+00 - accuracy: 1.0000 - val_loss: 42.9352 - val_accuracy: 0.3333\n",
            "Epoch 9/30\n",
            "1/1 [==============================] - 0s 36ms/step - loss: 0.0000e+00 - accuracy: 1.0000 - val_loss: 45.4492 - val_accuracy: 0.3333\n",
            "Epoch 10/30\n",
            "1/1 [==============================] - 0s 37ms/step - loss: 0.0000e+00 - accuracy: 1.0000 - val_loss: 47.7033 - val_accuracy: 0.3333\n",
            "Epoch 11/30\n",
            "1/1 [==============================] - 0s 36ms/step - loss: 0.0000e+00 - accuracy: 1.0000 - val_loss: 49.7317 - val_accuracy: 0.3333\n",
            "Epoch 12/30\n",
            "1/1 [==============================] - 0s 37ms/step - loss: 0.0000e+00 - accuracy: 1.0000 - val_loss: 51.5622 - val_accuracy: 0.3333\n",
            "Epoch 13/30\n",
            "1/1 [==============================] - 0s 35ms/step - loss: 0.0000e+00 - accuracy: 1.0000 - val_loss: 53.2179 - val_accuracy: 0.3333\n",
            "Epoch 14/30\n",
            "1/1 [==============================] - 0s 35ms/step - loss: 0.0000e+00 - accuracy: 1.0000 - val_loss: 54.7181 - val_accuracy: 0.3333\n",
            "Epoch 15/30\n",
            "1/1 [==============================] - 0s 37ms/step - loss: 0.0000e+00 - accuracy: 1.0000 - val_loss: 56.0794 - val_accuracy: 0.3333\n",
            "Epoch 16/30\n",
            "1/1 [==============================] - 0s 35ms/step - loss: 0.0000e+00 - accuracy: 1.0000 - val_loss: 57.3161 - val_accuracy: 0.3333\n",
            "Epoch 17/30\n",
            "1/1 [==============================] - 0s 37ms/step - loss: 0.0000e+00 - accuracy: 1.0000 - val_loss: 58.4406 - val_accuracy: 0.3333\n",
            "Epoch 18/30\n",
            "1/1 [==============================] - 0s 43ms/step - loss: 0.0000e+00 - accuracy: 1.0000 - val_loss: 59.4638 - val_accuracy: 0.3333\n",
            "Epoch 19/30\n",
            "1/1 [==============================] - 0s 37ms/step - loss: 0.0000e+00 - accuracy: 1.0000 - val_loss: 60.3954 - val_accuracy: 0.3333\n",
            "Epoch 20/30\n",
            "1/1 [==============================] - 0s 41ms/step - loss: 0.0000e+00 - accuracy: 1.0000 - val_loss: 61.2441 - val_accuracy: 0.3333\n",
            "Epoch 21/30\n",
            "1/1 [==============================] - 0s 36ms/step - loss: 0.0000e+00 - accuracy: 1.0000 - val_loss: 62.0173 - val_accuracy: 0.3333\n",
            "Epoch 22/30\n",
            "1/1 [==============================] - 0s 37ms/step - loss: 0.0000e+00 - accuracy: 1.0000 - val_loss: 62.7221 - val_accuracy: 0.3333\n",
            "Epoch 23/30\n",
            "1/1 [==============================] - 0s 40ms/step - loss: 0.0000e+00 - accuracy: 1.0000 - val_loss: 63.3646 - val_accuracy: 0.3333\n",
            "Epoch 24/30\n",
            "1/1 [==============================] - 0s 48ms/step - loss: 0.0000e+00 - accuracy: 1.0000 - val_loss: 63.9504 - val_accuracy: 0.3333\n",
            "Epoch 25/30\n",
            "1/1 [==============================] - 0s 35ms/step - loss: 0.0000e+00 - accuracy: 1.0000 - val_loss: 64.4846 - val_accuracy: 0.3333\n",
            "Epoch 26/30\n",
            "1/1 [==============================] - 0s 38ms/step - loss: 0.0000e+00 - accuracy: 1.0000 - val_loss: 64.9716 - val_accuracy: 0.3333\n",
            "Epoch 27/30\n",
            "1/1 [==============================] - 0s 37ms/step - loss: 0.0000e+00 - accuracy: 1.0000 - val_loss: 65.4157 - val_accuracy: 0.3333\n",
            "Epoch 28/30\n",
            "1/1 [==============================] - 0s 39ms/step - loss: 0.0000e+00 - accuracy: 1.0000 - val_loss: 65.8207 - val_accuracy: 0.3333\n",
            "Epoch 29/30\n",
            "1/1 [==============================] - 0s 38ms/step - loss: 0.0000e+00 - accuracy: 1.0000 - val_loss: 66.1899 - val_accuracy: 0.3333\n",
            "Epoch 30/30\n",
            "1/1 [==============================] - 0s 47ms/step - loss: 0.0000e+00 - accuracy: 1.0000 - val_loss: 66.5265 - val_accuracy: 0.3333\n"
          ]
        }
      ],
      "source": [
        "model2 = tf.keras.Sequential([\n",
        "    tf.keras.layers.Flatten(input_shape = (x, y, z)),\n",
        "    tf.keras.layers.Dense(128, activation=tf.nn.relu),\n",
        "    tf.keras.layers.Dense(2, activation=tf.nn.softmax)\n",
        "])\n",
        "\n",
        "model2.compile(optimizer = 'adam', loss = 'sparse_categorical_crossentropy', metrics=['accuracy'])\n",
        "\n",
        "history2 = model2.fit(train_features, train_labels, batch_size=28, epochs=30, validation_split = 0.2)"
      ]
    },
    {
      "cell_type": "code",
      "execution_count": null,
      "metadata": {
        "id": "QKgLukTxEls2"
      },
      "outputs": [],
      "source": [
        "#plot_accuracy_loss(history)"
      ]
    },
    {
      "cell_type": "code",
      "execution_count": null,
      "metadata": {
        "colab": {
          "base_uri": "https://localhost:8080/"
        },
        "id": "Ch8fKT1_ErEK",
        "outputId": "497837bf-53d2-4df4-826e-60af62add0a3"
      },
      "outputs": [
        {
          "name": "stdout",
          "output_type": "stream",
          "text": [
            "1/1 [==============================] - 0s 23ms/step - loss: 58.2011 - accuracy: 0.2727\n"
          ]
        }
      ],
      "source": [
        "test_loss = model2.evaluate(test_features, y_test)\n"
      ]
    },
    {
      "cell_type": "markdown",
      "metadata": {
        "id": "AjM0UBRIEvOA"
      },
      "source": [
        "## Threshold - ROC"
      ]
    },
    {
      "cell_type": "code",
      "execution_count": null,
      "metadata": {
        "id": "eetDW3nOIT1i"
      },
      "outputs": [],
      "source": [
        "from numpy import sqrt\n",
        "from numpy import argmax\n",
        "from sklearn.datasets import make_classification\n",
        "from sklearn.linear_model import LogisticRegression\n",
        "from sklearn.model_selection import train_test_split\n",
        "from sklearn.metrics import roc_curve\n",
        "from matplotlib import pyplot"
      ]
    },
    {
      "cell_type": "code",
      "execution_count": null,
      "metadata": {
        "colab": {
          "base_uri": "https://localhost:8080/"
        },
        "id": "xgJ2a8GTsM5N",
        "outputId": "12a94f1b-88c9-43b1-b04e-9f8dad4304ff"
      },
      "outputs": [
        {
          "data": {
            "text/plain": [
              "(6, 1)"
            ]
          },
          "execution_count": 15,
          "metadata": {},
          "output_type": "execute_result"
        }
      ],
      "source": [
        "#roc_curve(y_test, yhat)\n",
        "y_test.shape\n",
        "#y_score = model.predict(X_test)\n",
        "#y_score.shape"
      ]
    },
    {
      "cell_type": "code",
      "execution_count": null,
      "metadata": {
        "colab": {
          "base_uri": "https://localhost:8080/",
          "height": 244
        },
        "id": "v9RedDDO03ys",
        "outputId": "d44e165f-cd85-4630-9726-13b458500d4e"
      },
      "outputs": [
        {
          "ename": "IndexError",
          "evalue": "ignored",
          "output_type": "error",
          "traceback": [
            "\u001b[0;31m---------------------------------------------------------------------------\u001b[0m",
            "\u001b[0;31mIndexError\u001b[0m                                Traceback (most recent call last)",
            "\u001b[0;32m<ipython-input-16-86d8f2d2b6f2>\u001b[0m in \u001b[0;36m<module>\u001b[0;34m()\u001b[0m\n\u001b[1;32m      2\u001b[0m \u001b[0my_probs\u001b[0m \u001b[0;34m=\u001b[0m \u001b[0mmodel\u001b[0m\u001b[0;34m.\u001b[0m\u001b[0mpredict\u001b[0m\u001b[0;34m(\u001b[0m\u001b[0mX_test\u001b[0m\u001b[0;34m)\u001b[0m\u001b[0;34m\u001b[0m\u001b[0;34m\u001b[0m\u001b[0m\n\u001b[1;32m      3\u001b[0m \u001b[0;31m# keep probabilities for the positive outcome only\u001b[0m\u001b[0;34m\u001b[0m\u001b[0;34m\u001b[0m\u001b[0;34m\u001b[0m\u001b[0m\n\u001b[0;32m----> 4\u001b[0;31m \u001b[0my_probs\u001b[0m \u001b[0;34m=\u001b[0m \u001b[0my_probs\u001b[0m\u001b[0;34m[\u001b[0m\u001b[0;34m:\u001b[0m\u001b[0;34m,\u001b[0m\u001b[0;34m:\u001b[0m\u001b[0;34m,\u001b[0m \u001b[0;36m1\u001b[0m\u001b[0;34m]\u001b[0m\u001b[0;34m\u001b[0m\u001b[0;34m\u001b[0m\u001b[0m\n\u001b[0m\u001b[1;32m      5\u001b[0m \u001b[0;34m\u001b[0m\u001b[0m\n\u001b[1;32m      6\u001b[0m \u001b[0my_probs\u001b[0m\u001b[0;34m.\u001b[0m\u001b[0mshape\u001b[0m\u001b[0;34m\u001b[0m\u001b[0;34m\u001b[0m\u001b[0m\n",
            "\u001b[0;31mIndexError\u001b[0m: too many indices for array: array is 2-dimensional, but 3 were indexed"
          ]
        }
      ],
      "source": [
        "# predict probabilities\n",
        "y_probs = model1.predict(X_test)\n",
        "# keep probabilities for the positive outcome only\n",
        "y_probs = y_probs[:,1]\n",
        "# calculate roc curves\n",
        "fpr, tpr, thresholds = roc_curve(y_test, y_probs)\n",
        "y_probs.shape"
      ]
    },
    {
      "cell_type": "code",
      "execution_count": null,
      "metadata": {
        "colab": {
          "base_uri": "https://localhost:8080/"
        },
        "id": "scghXpwmIJ84",
        "outputId": "e3f963a3-ec7f-4887-80ee-64310bfacafd"
      },
      "outputs": [
        {
          "name": "stdout",
          "output_type": "stream",
          "text": [
            "Best Threshold=2.000000, G-Mean=0.000\n"
          ]
        }
      ],
      "source": [
        "# calculate the g-mean for each threshold\n",
        "gmeans = sqrt(tpr * (1-fpr))\n",
        "# locate the index of the largest g-mean\n",
        "ix = argmax(gmeans)\n",
        "print('Best Threshold=%f, G-Mean=%.3f' % (thresholds[ix], gmeans[ix]))\n"
      ]
    },
    {
      "cell_type": "code",
      "execution_count": null,
      "metadata": {
        "colab": {
          "base_uri": "https://localhost:8080/",
          "height": 279
        },
        "id": "N1LufZBtIESt",
        "outputId": "6fa9ee78-9c48-43e1-fe4f-6115ac63d974"
      },
      "outputs": [
        {
          "data": {
            "image/png": "[encoded data removed]",
            "text/plain": [
              "<Figure size 432x288 with 1 Axes>"
            ]
          },
          "metadata": {
            "needs_background": "light"
          },
          "output_type": "display_data"
        }
      ],
      "source": [
        "# plot the roc curve for the model\n",
        "pyplot.plot([0,1], [0,1], linestyle='--', label='No Skill')\n",
        "pyplot.plot(fpr, tpr, marker='.', label='Logistic')\n",
        "# axis labels\n",
        "pyplot.xlabel('False Positive Rate')\n",
        "pyplot.ylabel('True Positive Rate')\n",
        "pyplot.legend()\n",
        "# show the plot\n",
        "pyplot.show()"
      ]
    }
  ],
  "metadata": {
    "colab": {
      "collapsed_sections": [
        "TnZi_nrjc-kG",
        "-A32vOhEuCUo",
        "I6_u0hAxEe4o"
      ],
      "name": "Preprocessing_and_Model.ipynb",
      "provenance": []
    },
    "kernelspec": {
      "display_name": "Python 3",
      "language": "python",
      "name": "python3"
    },
    "language_info": {
      "codemirror_mode": {
        "name": "ipython",
        "version": 3
      },
      "file_extension": ".py",
      "mimetype": "text/x-python",
      "name": "python",
      "nbconvert_exporter": "python",
      "pygments_lexer": "ipython3",
      "version": "3.8.8"
    }
  },
  "nbformat": 4,
  "nbformat_minor": 0
}
