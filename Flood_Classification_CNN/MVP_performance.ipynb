{
  "cells": [
    {
      "cell_type": "markdown",
      "metadata": {
        "id": "_qcASfVP2684"
      },
      "source": [
        "\n",
        "## Model Summary\n",
        "It took 10 minutes to load data\n",
        "3 minutes to run CNN model\n",
        "1. Dataset:\n",
        "(736, 128, 128, 3)\n",
        "2. Model\n",
        "- Initial model\n",
        "batch_size=28, epochs=30, validation_split = 0.2\n",
        "\n",
        " *need to update validation split*\n",
        "- Initial model performance:\n",
        "loss: 1.3892 - accuracy: 0.5483 - val_loss: 1.2721 - val_accuracy: 0.4045\n",
        "\n",
        "- VGG performance\n",
        "\n",
        "\n",
        "3. Threshold optimization\n",
        "- Gmeans\n",
        "Best Threshold=0.564815, G-Mean=0.271"
      ]
    },
    {
      "cell_type": "markdown",
      "metadata": {
        "id": "X-WradoVx7vT"
      },
      "source": [
        "## Import Packages"
      ]
    },
    {
      "cell_type": "code",
      "execution_count": null,
      "metadata": {
        "id": "djywmKFox1lF"
      },
      "outputs": [],
      "source": [
        "#import rasterio\n",
        "import numpy as np\n",
        "import subprocess \n",
        "from subprocess import PIPE\n",
        "#import rasterio\n",
        "import json\n",
        "import glob \n",
        "import pandas as pd\n",
        "import os\n",
        "import cv2\n",
        "from sklearn.model_selection import train_test_split\n",
        "from sklearn.metrics import precision_recall_curve\n"
      ]
    },
    {
      "cell_type": "code",
      "execution_count": null,
      "metadata": {
        "colab": {
          "base_uri": "https://localhost:8080/"
        },
        "id": "mVqIzvCcx-PL",
        "outputId": "0bc336aa-da93-4104-ad48-b7fa9ddec3dc"
      },
      "outputs": [
        {
          "name": "stdout",
          "output_type": "stream",
          "text": [
            "Mounted at /content/drive\n"
          ]
        }
      ],
      "source": [
        "from google.colab import drive\n",
        "drive.mount('/content/drive')"
      ]
    },
    {
      "cell_type": "markdown",
      "metadata": {
        "id": "oPTeR_7YyFXJ"
      },
      "source": [
        "## Load data "
      ]
    },
    {
      "cell_type": "code",
      "execution_count": null,
      "metadata": {
        "id": "emMzeRLkyBYV"
      },
      "outputs": [],
      "source": [
        "from IPython.core.display import Image\n",
        "def data_status(path,date_list):\n",
        "    data = [] \n",
        "    images = list([])\n",
        "    labels = []\n",
        "\n",
        "    folderlist = []\n",
        "    countlist = []\n",
        "    nonflood = 0\n",
        "    flood = 0\n",
        "    label = [0]\n",
        "    for folder in os.listdir(path):\n",
        "      #non-flood\n",
        "      if folder[-8:] in date_list:\n",
        "        label = [0]\n",
        "        folderlist.append(folder[-8:])\n",
        "        print(folder[-8:])\n",
        "        for i in os.listdir(path + folder + \"/\"):\n",
        "          if i == 'files':\n",
        "            count = 0\n",
        "            #for i, image in (os.listdir(path + folder + \"/\" + i + \"/\" )):\n",
        "            for count, image in enumerate(os.listdir(path + folder + \"/\" + i + \"/\" )):\n",
        "              if count == 20:\n",
        "                break\n",
        "              else:\n",
        "                if image[-36:] == '3B_AnalyticMS_SR_harmonized_clip.tif' or image[-18:] == '3B_Visual_clip.tif':\n",
        "                  count += 1\n",
        "                  nonflood += 1\n",
        "                  imarray = cv2.imread(path + folder + \"/\" + i + \"/\" + image)\n",
        "                  try:\n",
        "                    cur_image = cv2.resize(imarray,dsize=(128,128),interpolation = cv2.INTER_CUBIC)\n",
        "                  except Exception:\n",
        "                      continue\n",
        "                  images.append(cur_image)\n",
        "                  labels.append(label)\n",
        "              countlist.append(count)\n",
        "            #print(count)\n",
        "        #flood\n",
        "        else:\n",
        "          label = [1]\n",
        "          folderlist.append(folder[-8:])\n",
        "          print(folder[-8:])\n",
        "          for i in os.listdir(path + folder + \"/\"):\n",
        "            if i == 'files':\n",
        "              count = 0\n",
        "              for count, image in enumerate(os.listdir(path + folder + \"/\" + i + \"/\" )):\n",
        "              #for image in os.listdir(path + folder + \"/\" + i + \"/\" ):\n",
        "                if count == 20:\n",
        "                  break\n",
        "                else:            \n",
        "                  if image[-36:] == '3B_AnalyticMS_SR_harmonized_clip.tif' or image[-18:] == '3B_Visual_clip.tif':\n",
        "                    count += 1\n",
        "                    #nonflood += 1\n",
        "                    flood += 1\n",
        "                    imarray = cv2.imread(path + folder + \"/\" + i + \"/\" + image)\n",
        "                    try:\n",
        "                      cur_image = cv2.resize(imarray,dsize=(128,128),interpolation = cv2.INTER_CUBIC)\n",
        "                    except Exception:\n",
        "                      continue\n",
        "                    images.append(cur_image)\n",
        "                    labels.append(label)\n",
        "                countlist.append(count)\n",
        "            #print(count)\n",
        "\n",
        "    images = np.array(images, dtype = 'float32')\n",
        "    labels = np.array(labels, dtype = 'int32')\n",
        "    data.append([images, labels])     \n",
        "    #images = np.array(images)   \n",
        "    #images = list(images)\n",
        "    #print(labels)\n",
        "    #return nonflood, flood\n",
        "    return images, labels\n",
        "    #return nonflood, folderlist, countlist, images, labels"
      ]
    },
    {
      "cell_type": "code",
      "execution_count": null,
      "metadata": {
        "id": "ROwUliZPobda"
      },
      "outputs": [],
      "source": [
        "newpath = '/content/drive/MyDrive/KPMG Practicum/PlanetData/dataset/'\n",
        "date_list = ['20180816',\n",
        "'20180319',\n",
        "'20200622',\n",
        "'20200219',\n",
        "'20200206',\n",
        "'20201011',\n",
        "'20201211',\n",
        "'20200828',\n",
        "'20211230',\n",
        "'20210604']\n",
        "#label_date_list: ['20171105','20191013','20191001','20171007']\n",
        "#10 non flood date"
      ]
    },
    {
      "cell_type": "code",
      "execution_count": null,
      "metadata": {
        "colab": {
          "base_uri": "https://localhost:8080/",
          "height": 299
        },
        "id": "WRnr4-4YpWHy",
        "outputId": "3c14e85d-e3b5-4ce1-9e51-fa7227e787cf"
      },
      "outputs": [
        {
          "ename": "FileNotFoundError",
          "evalue": "ignored",
          "output_type": "error",
          "traceback": [
            "\u001b[0;31m---------------------------------------------------------------------------\u001b[0m",
            "\u001b[0;31mFileNotFoundError\u001b[0m                         Traceback (most recent call last)",
            "\u001b[0;32m<ipython-input-6-1f459d8c85de>\u001b[0m in \u001b[0;36m<module>\u001b[0;34m()\u001b[0m\n\u001b[0;32m----> 1\u001b[0;31m \u001b[0mtrain_images\u001b[0m\u001b[0;34m,\u001b[0m \u001b[0mtrain_labels\u001b[0m \u001b[0;34m=\u001b[0m \u001b[0mdata_status\u001b[0m\u001b[0;34m(\u001b[0m\u001b[0mnewpath\u001b[0m\u001b[0;34m,\u001b[0m \u001b[0mdate_list\u001b[0m\u001b[0;34m)\u001b[0m\u001b[0;34m\u001b[0m\u001b[0;34m\u001b[0m\u001b[0m\n\u001b[0m",
            "\u001b[0;32m<ipython-input-3-a01d2c775f99>\u001b[0m in \u001b[0;36mdata_status\u001b[0;34m(path, date_list)\u001b[0m\n\u001b[1;32m     10\u001b[0m     \u001b[0mflood\u001b[0m \u001b[0;34m=\u001b[0m \u001b[0;36m0\u001b[0m\u001b[0;34m\u001b[0m\u001b[0;34m\u001b[0m\u001b[0m\n\u001b[1;32m     11\u001b[0m     \u001b[0mlabel\u001b[0m \u001b[0;34m=\u001b[0m \u001b[0;34m[\u001b[0m\u001b[0;36m0\u001b[0m\u001b[0;34m]\u001b[0m\u001b[0;34m\u001b[0m\u001b[0;34m\u001b[0m\u001b[0m\n\u001b[0;32m---> 12\u001b[0;31m     \u001b[0;32mfor\u001b[0m \u001b[0mfolder\u001b[0m \u001b[0;32min\u001b[0m \u001b[0mos\u001b[0m\u001b[0;34m.\u001b[0m\u001b[0mlistdir\u001b[0m\u001b[0;34m(\u001b[0m\u001b[0mpath\u001b[0m\u001b[0;34m)\u001b[0m\u001b[0;34m:\u001b[0m\u001b[0;34m\u001b[0m\u001b[0;34m\u001b[0m\u001b[0m\n\u001b[0m\u001b[1;32m     13\u001b[0m       \u001b[0;31m#non-flood\u001b[0m\u001b[0;34m\u001b[0m\u001b[0;34m\u001b[0m\u001b[0;34m\u001b[0m\u001b[0m\n\u001b[1;32m     14\u001b[0m       \u001b[0;32mif\u001b[0m \u001b[0mfolder\u001b[0m\u001b[0;34m[\u001b[0m\u001b[0;34m-\u001b[0m\u001b[0;36m8\u001b[0m\u001b[0;34m:\u001b[0m\u001b[0;34m]\u001b[0m \u001b[0;32min\u001b[0m \u001b[0mdate_list\u001b[0m\u001b[0;34m:\u001b[0m\u001b[0;34m\u001b[0m\u001b[0;34m\u001b[0m\u001b[0m\n",
            "\u001b[0;31mFileNotFoundError\u001b[0m: [Errno 2] No such file or directory: '/content/drive/MyDrive/KPMG Practicum/PlanetData/dataset/'"
          ]
        }
      ],
      "source": [
        "train_images, train_labels = data_status(newpath, date_list)"
      ]
    },
    {
      "cell_type": "code",
      "execution_count": null,
      "metadata": {
        "colab": {
          "base_uri": "https://localhost:8080/",
          "height": 173
        },
        "id": "10HWmL-lxGEY",
        "outputId": "104a1310-289d-4d3d-f2f2-a1d443182e92"
      },
      "outputs": [
        {
          "ename": "NameError",
          "evalue": "ignored",
          "output_type": "error",
          "traceback": [
            "\u001b[0;31m---------------------------------------------------------------------------\u001b[0m",
            "\u001b[0;31mNameError\u001b[0m                                 Traceback (most recent call last)",
            "\u001b[0;32m<ipython-input-7-764c035ef32c>\u001b[0m in \u001b[0;36m<module>\u001b[0;34m()\u001b[0m\n\u001b[0;32m----> 1\u001b[0;31m \u001b[0mtrain_images\u001b[0m\u001b[0;34m.\u001b[0m\u001b[0mshape\u001b[0m\u001b[0;34m\u001b[0m\u001b[0;34m\u001b[0m\u001b[0m\n\u001b[0m",
            "\u001b[0;31mNameError\u001b[0m: name 'train_images' is not defined"
          ]
        }
      ],
      "source": [
        "train_images.shape"
      ]
    },
    {
      "cell_type": "markdown",
      "metadata": {
        "id": "t0T4H_Nqzvkr"
      },
      "source": [
        "(736, 128, 128, 3)"
      ]
    },
    {
      "cell_type": "code",
      "execution_count": null,
      "metadata": {
        "colab": {
          "base_uri": "https://localhost:8080/"
        },
        "id": "rI28F5lHxK7B",
        "outputId": "a08e2ff4-4745-4eb5-d871-b52f45188078"
      },
      "outputs": [
        {
          "data": {
            "text/plain": [
              "(80, 1)"
            ]
          },
          "execution_count": 9,
          "metadata": {},
          "output_type": "execute_result"
        }
      ],
      "source": [
        "train_labels.shape"
      ]
    },
    {
      "cell_type": "markdown",
      "metadata": {
        "id": "GO8t_xgyxtNH"
      },
      "source": [
        "## Train test split"
      ]
    },
    {
      "cell_type": "code",
      "execution_count": null,
      "metadata": {
        "colab": {
          "base_uri": "https://localhost:8080/"
        },
        "id": "iI_i3UutxTwS",
        "outputId": "e0d18b10-af6c-426a-b1bc-9a4855fd742e"
      },
      "outputs": [
        {
          "data": {
            "text/plain": [
              "((60, 128, 128, 3), (60, 1))"
            ]
          },
          "execution_count": 33,
          "metadata": {},
          "output_type": "execute_result"
        }
      ],
      "source": [
        "X_train, X_test, y_train, y_test = train_test_split(train_images, train_labels, random_state=0)\n",
        "\n",
        "X_train.shape, y_train.shape\n"
      ]
    },
    {
      "cell_type": "markdown",
      "metadata": {
        "id": "7VNrEAicxvTU"
      },
      "source": [
        "## Model"
      ]
    },
    {
      "cell_type": "code",
      "execution_count": null,
      "metadata": {
        "id": "T-4UVP-SxoWk"
      },
      "outputs": [],
      "source": [
        "# Import the Deep Learing modules\n",
        "import matplotlib.pyplot as plt\n",
        "import seaborn as sns\n",
        "\n",
        "import keras\n",
        "from keras.models import Sequential\n",
        "from keras.layers import Dense, Conv2D , MaxPool2D , Flatten , Dropout \n",
        "from keras.preprocessing.image import ImageDataGenerator\n",
        "#from keras.optimizers import Adam\n",
        "from tensorflow.keras.optimizers import Adam\n",
        "from keras.utils.vis_utils import plot_model\n",
        "#import pydot\n",
        "\n",
        "# from sklearn.metrics import classification_report,confusion_matrix\n",
        "\n",
        "import tensorflow as tf\n",
        "import cv2\n",
        "import os\n",
        "import numpy as np"
      ]
    },
    {
      "cell_type": "code",
      "execution_count": null,
      "metadata": {
        "id": "Af9oVjZ7xlfv"
      },
      "outputs": [],
      "source": [
        "model1 = tf.keras.Sequential([\n",
        "    tf.keras.layers.Conv2D(32, (3, 3), activation = 'relu', input_shape = (128,128, 3)), \n",
        "    tf.keras.layers.MaxPooling2D(2,2),\n",
        "    tf.keras.layers.Conv2D(32, (3, 3), activation = 'relu'),\n",
        "    tf.keras.layers.MaxPooling2D(2,2),\n",
        "    tf.keras.layers.Flatten(),\n",
        "    tf.keras.layers.Dense(128, activation=tf.nn.relu),\n",
        "    tf.keras.layers.Dense(1, activation=tf.nn.sigmoid)\n",
        "])\n"
      ]
    },
    {
      "cell_type": "markdown",
      "metadata": {
        "id": "ejzr00Pf6z6N"
      },
      "source": [
        "### Compile the Model"
      ]
    },
    {
      "cell_type": "code",
      "execution_count": null,
      "metadata": {
        "id": "8-GQRIBixxbC"
      },
      "outputs": [],
      "source": [
        "#model1.compile(optimizer = 'adam', loss = 'sparse_categorical_crossentropy', metrics=['accuracy'])\n",
        "#binary_crossentropy\n",
        "model1.compile(optimizer = 'adam', loss = 'binary_crossentropy', metrics=['accuracy'])"
      ]
    },
    {
      "cell_type": "markdown",
      "metadata": {
        "id": "YR_Eu2zI61AL"
      },
      "source": [
        "### Fit the model on the training data"
      ]
    },
    {
      "cell_type": "code",
      "execution_count": null,
      "metadata": {
        "colab": {
          "base_uri": "https://localhost:8080/"
        },
        "id": "IPhueTjmx0QK",
        "outputId": "6e11ee48-ad68-41d2-94ad-c1b0a35490b0"
      },
      "outputs": [
        {
          "name": "stdout",
          "output_type": "stream",
          "text": [
            "Epoch 1/30\n",
            "3/3 [==============================] - 3s 322ms/step - loss: 214.6152 - accuracy: 0.5333\n",
            "Epoch 2/30\n",
            "3/3 [==============================] - 1s 310ms/step - loss: 102.7378 - accuracy: 0.5000\n",
            "Epoch 3/30\n",
            "3/3 [==============================] - 1s 332ms/step - loss: 117.3699 - accuracy: 0.5667\n",
            "Epoch 4/30\n",
            "3/3 [==============================] - 1s 325ms/step - loss: 80.1139 - accuracy: 0.5667\n",
            "Epoch 5/30\n",
            "3/3 [==============================] - 1s 317ms/step - loss: 51.0092 - accuracy: 0.5667\n",
            "Epoch 6/30\n",
            "3/3 [==============================] - 2s 481ms/step - loss: 24.7017 - accuracy: 0.5667\n",
            "Epoch 7/30\n",
            "3/3 [==============================] - 2s 542ms/step - loss: 11.4050 - accuracy: 0.5667\n",
            "Epoch 8/30\n",
            "3/3 [==============================] - 3s 748ms/step - loss: 3.5020 - accuracy: 0.5833\n",
            "Epoch 9/30\n",
            "3/3 [==============================] - 3s 656ms/step - loss: 1.4333 - accuracy: 0.5833\n",
            "Epoch 10/30\n",
            "3/3 [==============================] - 3s 780ms/step - loss: 0.9222 - accuracy: 0.6333\n",
            "Epoch 11/30\n",
            "3/3 [==============================] - 2s 614ms/step - loss: 0.7666 - accuracy: 0.6000\n",
            "Epoch 12/30\n",
            "3/3 [==============================] - 2s 513ms/step - loss: 0.6712 - accuracy: 0.6000\n",
            "Epoch 13/30\n",
            "3/3 [==============================] - 2s 508ms/step - loss: 0.6594 - accuracy: 0.6500\n",
            "Epoch 14/30\n",
            "3/3 [==============================] - 2s 574ms/step - loss: 0.6365 - accuracy: 0.6000\n",
            "Epoch 15/30\n",
            "3/3 [==============================] - 2s 620ms/step - loss: 0.6381 - accuracy: 0.5667\n",
            "Epoch 16/30\n",
            "3/3 [==============================] - 1s 327ms/step - loss: 0.6322 - accuracy: 0.5500\n",
            "Epoch 17/30\n",
            "3/3 [==============================] - 1s 324ms/step - loss: 0.6533 - accuracy: 0.6000\n",
            "Epoch 18/30\n",
            "3/3 [==============================] - 1s 315ms/step - loss: 0.6092 - accuracy: 0.6167\n",
            "Epoch 19/30\n",
            "3/3 [==============================] - 1s 316ms/step - loss: 0.5846 - accuracy: 0.6000\n",
            "Epoch 20/30\n",
            "3/3 [==============================] - 1s 308ms/step - loss: 0.5751 - accuracy: 0.6167\n",
            "Epoch 21/30\n",
            "3/3 [==============================] - 1s 329ms/step - loss: 0.5684 - accuracy: 0.6000\n",
            "Epoch 22/30\n",
            "3/3 [==============================] - 1s 313ms/step - loss: 0.5686 - accuracy: 0.6000\n",
            "Epoch 23/30\n",
            "3/3 [==============================] - 1s 334ms/step - loss: 0.5926 - accuracy: 0.6000\n",
            "Epoch 24/30\n",
            "3/3 [==============================] - 1s 306ms/step - loss: 0.5605 - accuracy: 0.6167\n",
            "Epoch 25/30\n",
            "3/3 [==============================] - 1s 312ms/step - loss: 0.5646 - accuracy: 0.6333\n",
            "Epoch 26/30\n",
            "3/3 [==============================] - 1s 302ms/step - loss: 0.5686 - accuracy: 0.6500\n",
            "Epoch 27/30\n",
            "3/3 [==============================] - 1s 336ms/step - loss: 0.5702 - accuracy: 0.6500\n",
            "Epoch 28/30\n",
            "3/3 [==============================] - 1s 332ms/step - loss: 0.5644 - accuracy: 0.6500\n",
            "Epoch 29/30\n",
            "3/3 [==============================] - 1s 307ms/step - loss: 0.5547 - accuracy: 0.6500\n",
            "Epoch 30/30\n",
            "3/3 [==============================] - 1s 315ms/step - loss: 0.5482 - accuracy: 0.6500\n"
          ]
        }
      ],
      "source": [
        "#history = model.fit(train_images, train_labels, batch_size=28, epochs=2, validation_split = 0.2)\n",
        "history = model1.fit(X_train, y_train, batch_size=28, epochs=30)"
      ]
    },
    {
      "cell_type": "markdown",
      "metadata": {
        "id": "Hz3GnPg6zjMi"
      },
      "source": [
        "##### plot"
      ]
    },
    {
      "cell_type": "code",
      "execution_count": null,
      "metadata": {
        "colab": {
          "base_uri": "https://localhost:8080/",
          "height": 1000
        },
        "id": "hiiVjgoly-he",
        "outputId": "8f6f9d6b-b064-49ad-e64c-f295c65ed102"
      },
      "outputs": [
        {
          "name": "stdout",
          "output_type": "stream",
          "text": [
            "Epoch 1/30\n",
            "3/3 [==============================] - 2s 508ms/step - loss: 0.6436 - accuracy: 0.6167\n",
            "Epoch 2/30\n",
            "3/3 [==============================] - 2s 379ms/step - loss: 0.6629 - accuracy: 0.6167\n",
            "Epoch 3/30\n",
            "3/3 [==============================] - 1s 312ms/step - loss: 0.6805 - accuracy: 0.6167\n",
            "Epoch 4/30\n",
            "3/3 [==============================] - 1s 319ms/step - loss: 0.6608 - accuracy: 0.6167\n",
            "Epoch 5/30\n",
            "3/3 [==============================] - 1s 315ms/step - loss: 0.6362 - accuracy: 0.6167\n",
            "Epoch 6/30\n",
            "3/3 [==============================] - 1s 308ms/step - loss: 0.6252 - accuracy: 0.6167\n",
            "Epoch 7/30\n",
            "3/3 [==============================] - 1s 312ms/step - loss: 0.6160 - accuracy: 0.6167\n",
            "Epoch 8/30\n",
            "3/3 [==============================] - 1s 316ms/step - loss: 0.6177 - accuracy: 0.6167\n",
            "Epoch 9/30\n",
            "3/3 [==============================] - 1s 315ms/step - loss: 0.6210 - accuracy: 0.6167\n",
            "Epoch 10/30\n",
            "3/3 [==============================] - 1s 316ms/step - loss: 0.6236 - accuracy: 0.6167\n",
            "Epoch 11/30\n",
            "3/3 [==============================] - 1s 312ms/step - loss: 0.6164 - accuracy: 0.6167\n",
            "Epoch 12/30\n",
            "3/3 [==============================] - 1s 307ms/step - loss: 0.6146 - accuracy: 0.6167\n",
            "Epoch 13/30\n",
            "3/3 [==============================] - 1s 306ms/step - loss: 0.6252 - accuracy: 0.6167\n",
            "Epoch 14/30\n",
            "3/3 [==============================] - 1s 317ms/step - loss: 0.6290 - accuracy: 0.6167\n",
            "Epoch 15/30\n",
            "3/3 [==============================] - 1s 314ms/step - loss: 0.6325 - accuracy: 0.6167\n",
            "Epoch 16/30\n",
            "3/3 [==============================] - 1s 310ms/step - loss: 0.6333 - accuracy: 0.6167\n",
            "Epoch 17/30\n",
            "3/3 [==============================] - 1s 318ms/step - loss: 0.6286 - accuracy: 0.6167\n",
            "Epoch 18/30\n",
            "3/3 [==============================] - 1s 316ms/step - loss: 0.6214 - accuracy: 0.6167\n",
            "Epoch 19/30\n",
            "3/3 [==============================] - 1s 312ms/step - loss: 0.6096 - accuracy: 0.6167\n",
            "Epoch 20/30\n",
            "3/3 [==============================] - 1s 312ms/step - loss: 0.5988 - accuracy: 0.6167\n",
            "Epoch 21/30\n",
            "3/3 [==============================] - 1s 308ms/step - loss: 0.5924 - accuracy: 0.6167\n",
            "Epoch 22/30\n",
            "3/3 [==============================] - 1s 316ms/step - loss: 0.5878 - accuracy: 0.6167\n",
            "Epoch 23/30\n",
            "3/3 [==============================] - 1s 314ms/step - loss: 0.5910 - accuracy: 0.6167\n",
            "Epoch 24/30\n",
            "3/3 [==============================] - 1s 313ms/step - loss: 0.5998 - accuracy: 0.6000\n",
            "Epoch 25/30\n",
            "3/3 [==============================] - 1s 318ms/step - loss: 0.6012 - accuracy: 0.5833\n",
            "Epoch 26/30\n",
            "3/3 [==============================] - 1s 449ms/step - loss: 0.5955 - accuracy: 0.6167\n",
            "Epoch 27/30\n",
            "3/3 [==============================] - 2s 479ms/step - loss: 0.6013 - accuracy: 0.6167\n",
            "Epoch 28/30\n",
            "3/3 [==============================] - 2s 536ms/step - loss: 0.5961 - accuracy: 0.6333\n",
            "Epoch 29/30\n",
            "3/3 [==============================] - 3s 900ms/step - loss: 0.5855 - accuracy: 0.6333\n",
            "Epoch 30/30\n",
            "3/3 [==============================] - 2s 307ms/step - loss: 0.5659 - accuracy: 0.6333\n"
          ]
        },
        {
          "data": {
            "image/png": "[encoded data removed]",
            "text/plain": [
              "<Figure size 432x288 with 1 Axes>"
            ]
          },
          "metadata": {
            "needs_background": "light"
          },
          "output_type": "display_data"
        }
      ],
      "source": [
        "#history = model2.fit(X_train, y_train, validation_data=(X_test, y_test), batch_size=28, epochs=30, verbose=1)\n",
        "#history2 = model2.fit(train_features, y_train, batch_size=28, epochs=30)\n",
        "history = model1.fit(X_train, y_train, batch_size=28, epochs=30)\n",
        "# Get training and test loss histories\n",
        "training_loss = history.history['loss']\n",
        "test_loss = history.history['accuracy']\n",
        "\n",
        "# Create count of the number of epochs\n",
        "epoch_count = range(1, len(training_loss) + 1)\n",
        "\n",
        "# Visualize loss history\n",
        "plt.plot(epoch_count, training_loss, 'r--')\n",
        "plt.plot(epoch_count, test_loss, 'b-')\n",
        "plt.legend(['Training Loss', 'Test Loss'])\n",
        "plt.xlabel('Epoch')\n",
        "plt.ylabel('Loss')\n",
        "plt.show();"
      ]
    },
    {
      "cell_type": "code",
      "execution_count": null,
      "metadata": {
        "colab": {
          "base_uri": "https://localhost:8080/"
        },
        "id": "FFDdckFezllq",
        "outputId": "3900bdfc-5d26-47cb-a6c7-6139bf01de35"
      },
      "outputs": [
        {
          "data": {
            "text/plain": [
              "[0.5558328032493591, 0.6333333253860474]"
            ]
          },
          "execution_count": 129,
          "metadata": {},
          "output_type": "execute_result"
        }
      ],
      "source": [
        "loss, accuracy = model1.evaluate(X_train, y_train, verbose=False)\n",
        "model1.evaluate(X_train, y_train, verbose=False)"
      ]
    },
    {
      "cell_type": "code",
      "execution_count": null,
      "metadata": {
        "colab": {
          "base_uri": "https://localhost:8080/"
        },
        "id": "vOFQOFWb68qu",
        "outputId": "daf88ffb-dc3d-45a6-a766-7bd5ecb87a5b"
      },
      "outputs": [
        {
          "name": "stdout",
          "output_type": "stream",
          "text": [
            "INFO:tensorflow:Assets written to: my_model1/assets\n"
          ]
        }
      ],
      "source": [
        "# Save the trained model\n",
        "model1.save(\"my_model1\")\n",
        "# model = keras.models.load_model('path/to/location')"
      ]
    },
    {
      "cell_type": "markdown",
      "metadata": {
        "id": "2vJduzDtyIUP"
      },
      "source": [
        "### Feature extraction with VGG ImageNet"
      ]
    },
    {
      "cell_type": "code",
      "execution_count": null,
      "metadata": {
        "colab": {
          "base_uri": "https://localhost:8080/"
        },
        "id": "8iwvGlHex4bi",
        "outputId": "d6ddf9cb-ddf5-404e-d245-3d529967e10e"
      },
      "outputs": [
        {
          "name": "stdout",
          "output_type": "stream",
          "text": [
            "Downloading data from https://storage.googleapis.com/tensorflow/keras-applications/vgg16/vgg16_weights_tf_dim_ordering_tf_kernels_notop.h5\n",
            "58892288/58889256 [==============================] - 0s 0us/step\n",
            "58900480/58889256 [==============================] - 0s 0us/step\n"
          ]
        }
      ],
      "source": [
        "from keras.applications.vgg16 import VGG16\n",
        "from keras.preprocessing import image\n",
        "from keras.applications.vgg16 import preprocess_input\n",
        "\n",
        "model = VGG16(weights='imagenet', include_top=False)"
      ]
    },
    {
      "cell_type": "code",
      "execution_count": null,
      "metadata": {
        "id": "gY9Hv0mqx0SC"
      },
      "outputs": [],
      "source": [
        "train_features = model.predict(X_train)\n",
        "\n",
        "test_features = model.predict(X_test)"
      ]
    },
    {
      "cell_type": "code",
      "execution_count": null,
      "metadata": {
        "id": "kjVNUnRgyts5"
      },
      "outputs": [],
      "source": [
        "# Save the features calculated earlier\n",
        "np.save(\"train_features.npy\", train_features)\n",
        "np.save(\"test_features\", test_features)\n",
        "\n",
        "# Load the trained weights\n",
        "# loaded_array = np.load(\"train_features.npy\")\n",
        "# loaded_array = np.load(\"test_features.npy\")"
      ]
    },
    {
      "cell_type": "code",
      "execution_count": null,
      "metadata": {
        "colab": {
          "base_uri": "https://localhost:8080/"
        },
        "id": "io-4YbOIyvqX",
        "outputId": "4a2061c0-7dc0-464b-9b27-8ded4975d12c"
      },
      "outputs": [
        {
          "data": {
            "text/plain": [
              "numpy.ndarray"
            ]
          },
          "execution_count": 114,
          "metadata": {},
          "output_type": "execute_result"
        }
      ],
      "source": [
        "type(train_features)"
      ]
    },
    {
      "cell_type": "code",
      "execution_count": null,
      "metadata": {
        "id": "HFalu9j_yvtB"
      },
      "outputs": [],
      "source": [
        "n_train, x, y, z = train_features.shape\n",
        "n_test, x, y, z = test_features.shape\n",
        "numFeatures = x * y * z"
      ]
    },
    {
      "cell_type": "code",
      "execution_count": null,
      "metadata": {
        "colab": {
          "base_uri": "https://localhost:8080/"
        },
        "id": "LyjSbBERGg1l",
        "outputId": "1e093fc0-0d5d-4a18-ee65-c27d8109014e"
      },
      "outputs": [
        {
          "data": {
            "text/plain": [
              "(60, 4, 4, 512)"
            ]
          },
          "execution_count": 116,
          "metadata": {},
          "output_type": "execute_result"
        }
      ],
      "source": [
        "n_train, x, y, z\n",
        "n_test, x, y, z\n",
        "train_features.shape\n",
        "#test_features.shape\n",
        "#train_labels.shape\n"
      ]
    },
    {
      "cell_type": "markdown",
      "metadata": {
        "id": "M3lXZqYbzBOw"
      },
      "source": [
        "### Train on top of VGG"
      ]
    },
    {
      "cell_type": "code",
      "execution_count": null,
      "metadata": {
        "id": "yWeHeM33yx5a"
      },
      "outputs": [],
      "source": [
        "model2 = tf.keras.Sequential([\n",
        "    tf.keras.layers.Flatten(input_shape = (x, y, z)),\n",
        "    tf.keras.layers.Dense(128, activation=tf.nn.relu),\n",
        "    tf.keras.layers.Dense(1, activation=tf.nn.sigmoid)\n",
        "])\n",
        "\n",
        "#model2.compile(optimizer = 'adam', loss = 'sparse_categorical_crossentropy', metrics=['accuracy'])\n",
        "model2.compile(optimizer = 'adam', loss = 'binary_crossentropy', metrics=['accuracy'])\n",
        "\n",
        "#history2 = model2.fit(train_features, train_labels, batch_size=28, epochs=30)"
      ]
    },
    {
      "cell_type": "code",
      "execution_count": null,
      "metadata": {
        "id": "BTa8lPOQKdeT"
      },
      "outputs": [],
      "source": [
        "history2 = model2.fit(train_features, y_train, batch_size=28, epochs=30)"
      ]
    },
    {
      "cell_type": "markdown",
      "metadata": {
        "id": "iX7jBeeeyQFj"
      },
      "source": [
        "#### plot\n"
      ]
    },
    {
      "cell_type": "code",
      "execution_count": null,
      "metadata": {
        "colab": {
          "base_uri": "https://localhost:8080/"
        },
        "id": "b885r994yiMf",
        "outputId": "f1b9f3f4-c2ca-423f-9f1f-6e8c7eb26123"
      },
      "outputs": [
        {
          "data": {
            "text/plain": [
              "dict_keys(['loss', 'accuracy'])"
            ]
          },
          "execution_count": 122,
          "metadata": {},
          "output_type": "execute_result"
        }
      ],
      "source": [
        "history2.history.keys()"
      ]
    },
    {
      "cell_type": "code",
      "execution_count": null,
      "metadata": {
        "colab": {
          "base_uri": "https://localhost:8080/",
          "height": 1000
        },
        "id": "AtPAc3loyRFW",
        "outputId": "b03ca3d0-4e80-4b9b-d16a-f40cfafda353"
      },
      "outputs": [
        {
          "name": "stdout",
          "output_type": "stream",
          "text": [
            "Epoch 1/30\n",
            "3/3 [==============================] - 0s 9ms/step - loss: 0.8624 - accuracy: 0.6333\n",
            "Epoch 2/30\n",
            "3/3 [==============================] - 0s 13ms/step - loss: 0.7049 - accuracy: 0.6500\n",
            "Epoch 3/30\n",
            "3/3 [==============================] - 0s 12ms/step - loss: 0.7592 - accuracy: 0.6500\n",
            "Epoch 4/30\n",
            "3/3 [==============================] - 0s 10ms/step - loss: 0.8203 - accuracy: 0.6500\n",
            "Epoch 5/30\n",
            "3/3 [==============================] - 0s 9ms/step - loss: 0.8190 - accuracy: 0.6500\n",
            "Epoch 6/30\n",
            "3/3 [==============================] - 0s 10ms/step - loss: 0.7415 - accuracy: 0.6500\n",
            "Epoch 7/30\n",
            "3/3 [==============================] - 0s 10ms/step - loss: 0.6900 - accuracy: 0.6833\n",
            "Epoch 8/30\n",
            "3/3 [==============================] - 0s 11ms/step - loss: 0.7812 - accuracy: 0.6333\n",
            "Epoch 9/30\n",
            "3/3 [==============================] - 0s 12ms/step - loss: 0.7319 - accuracy: 0.6500\n",
            "Epoch 10/30\n",
            "3/3 [==============================] - 0s 9ms/step - loss: 0.6837 - accuracy: 0.6333\n",
            "Epoch 11/30\n",
            "3/3 [==============================] - 0s 12ms/step - loss: 0.7357 - accuracy: 0.6500\n",
            "Epoch 12/30\n",
            "3/3 [==============================] - 0s 11ms/step - loss: 0.8295 - accuracy: 0.6333\n",
            "Epoch 13/30\n",
            "3/3 [==============================] - 0s 9ms/step - loss: 0.8546 - accuracy: 0.6333\n",
            "Epoch 14/30\n",
            "3/3 [==============================] - 0s 10ms/step - loss: 0.7673 - accuracy: 0.6500\n",
            "Epoch 15/30\n",
            "3/3 [==============================] - 0s 10ms/step - loss: 0.6974 - accuracy: 0.6500\n",
            "Epoch 16/30\n",
            "3/3 [==============================] - 0s 10ms/step - loss: 0.5980 - accuracy: 0.6333\n",
            "Epoch 17/30\n",
            "3/3 [==============================] - 0s 9ms/step - loss: 0.8988 - accuracy: 0.6500\n",
            "Epoch 18/30\n",
            "3/3 [==============================] - 0s 11ms/step - loss: 0.9841 - accuracy: 0.6500\n",
            "Epoch 19/30\n",
            "3/3 [==============================] - 0s 9ms/step - loss: 0.9482 - accuracy: 0.6500\n",
            "Epoch 20/30\n",
            "3/3 [==============================] - 0s 10ms/step - loss: 0.8321 - accuracy: 0.6500\n",
            "Epoch 21/30\n",
            "3/3 [==============================] - 0s 10ms/step - loss: 0.7733 - accuracy: 0.6500\n",
            "Epoch 22/30\n",
            "3/3 [==============================] - 0s 10ms/step - loss: 0.7142 - accuracy: 0.6333\n",
            "Epoch 23/30\n",
            "3/3 [==============================] - 0s 9ms/step - loss: 0.6135 - accuracy: 0.6500\n",
            "Epoch 24/30\n",
            "3/3 [==============================] - 0s 10ms/step - loss: 0.5270 - accuracy: 0.6500\n",
            "Epoch 25/30\n",
            "3/3 [==============================] - 0s 11ms/step - loss: 0.6167 - accuracy: 0.6500\n",
            "Epoch 26/30\n",
            "3/3 [==============================] - 0s 12ms/step - loss: 0.6270 - accuracy: 0.6500\n",
            "Epoch 27/30\n",
            "3/3 [==============================] - 0s 10ms/step - loss: 0.5905 - accuracy: 0.6167\n",
            "Epoch 28/30\n",
            "3/3 [==============================] - 0s 9ms/step - loss: 0.5269 - accuracy: 0.6500\n",
            "Epoch 29/30\n",
            "3/3 [==============================] - 0s 10ms/step - loss: 0.5247 - accuracy: 0.6333\n",
            "Epoch 30/30\n",
            "3/3 [==============================] - 0s 9ms/step - loss: 0.5437 - accuracy: 0.6333\n"
          ]
        },
        {
          "data": {
            "image/png": "[encoded data removed]",
            "text/plain": [
              "<Figure size 432x288 with 1 Axes>"
            ]
          },
          "metadata": {
            "needs_background": "light"
          },
          "output_type": "display_data"
        }
      ],
      "source": [
        "#history = model2.fit(X_train, y_train, validation_data=(X_test, y_test), batch_size=28, epochs=30, verbose=1)\n",
        "history2 = model2.fit(train_features, y_train, batch_size=28, epochs=30)\n",
        "# Get training and test loss histories\n",
        "training_loss = history2.history['loss']\n",
        "test_loss = history2.history['accuracy']\n",
        "\n",
        "# Create count of the number of epochs\n",
        "epoch_count = range(1, len(training_loss) + 1)\n",
        "\n",
        "# Visualize loss history\n",
        "plt.plot(epoch_count, training_loss, 'r--')\n",
        "plt.plot(epoch_count, test_loss, 'b-')\n",
        "plt.legend(['Training Loss', 'Test Loss'])\n",
        "plt.xlabel('Epoch')\n",
        "plt.ylabel('Loss')\n",
        "plt.show();"
      ]
    },
    {
      "cell_type": "code",
      "execution_count": null,
      "metadata": {
        "id": "5NNmpzmJyx7p"
      },
      "outputs": [],
      "source": [
        "from numpy import sqrt\n",
        "from numpy import argmax\n",
        "from sklearn.datasets import make_classification\n",
        "from sklearn.linear_model import LogisticRegression\n",
        "from sklearn.model_selection import train_test_split\n",
        "from sklearn.metrics import roc_curve\n",
        "from matplotlib import pyplot"
      ]
    },
    {
      "cell_type": "markdown",
      "metadata": {
        "id": "2WaYa9C87dRi"
      },
      "source": [
        "## Evaluating the result"
      ]
    },
    {
      "cell_type": "code",
      "execution_count": null,
      "metadata": {
        "colab": {
          "base_uri": "https://localhost:8080/"
        },
        "id": "VSDlIOPeVEDW",
        "outputId": "f817505f-b553-40ce-84f8-e3b54566c41b"
      },
      "outputs": [
        {
          "data": {
            "text/plain": [
              "dict_keys(['loss', 'accuracy'])"
            ]
          },
          "execution_count": 17,
          "metadata": {},
          "output_type": "execute_result"
        }
      ],
      "source": [
        "history.history.keys()"
      ]
    },
    {
      "cell_type": "code",
      "execution_count": null,
      "metadata": {
        "id": "nQD74zYEFMO8"
      },
      "outputs": [],
      "source": [
        "def plot_model_history(model_history):\n",
        "    fig, axs = plt.subplots(1,2,figsize=(15,5))\n",
        "    # summarize history for accuracy\n",
        "    axs[0].plot(range(1,len(model_history.history['acc'])+1),model_history.history['acc'])\n",
        "    axs[0].plot(range(1,len(model_history.history['val_acc'])+1),model_history.history['val_acc'])\n",
        "    axs[0].set_title('Model Accuracy')\n",
        "    axs[0].set_ylabel('Accuracy')\n",
        "    axs[0].set_xlabel('Epoch')\n",
        "    axs[0].set_xticks(np.arange(1,len(model_history.history['acc'])+1),len(model_history.history['acc'])/10)\n",
        "    axs[0].legend(['train', 'val'], loc='best')\n",
        "    # summarize history for loss\n",
        "    axs[1].plot(range(1,len(model_history.history['loss'])+1),model_history.history['loss'])\n",
        "    axs[1].plot(range(1,len(model_history.history['val_loss'])+1),model_history.history['val_loss'])\n",
        "    axs[1].set_title('Model Loss')\n",
        "    axs[1].set_ylabel('Loss')\n",
        "    axs[1].set_xlabel('Epoch')\n",
        "    axs[1].set_xticks(np.arange(1,len(model_history.history['loss'])+1),len(model_history.history['loss'])/10)\n",
        "    axs[1].legend(['train', 'val'], loc='best')\n",
        "    plt.show()"
      ]
    },
    {
      "cell_type": "code",
      "execution_count": null,
      "metadata": {
        "colab": {
          "base_uri": "https://localhost:8080/",
          "height": 244
        },
        "id": "5W96ULAwInSM",
        "outputId": "078d0d3b-acb6-40f8-8d93-48a7313013ba"
      },
      "outputs": [
        {
          "ename": "KeyError",
          "evalue": "ignored",
          "output_type": "error",
          "traceback": [
            "\u001b[0;31m---------------------------------------------------------------------------\u001b[0m",
            "\u001b[0;31mKeyError\u001b[0m                                  Traceback (most recent call last)",
            "\u001b[0;32m<ipython-input-93-ab192aeb141e>\u001b[0m in \u001b[0;36m<module>\u001b[0;34m()\u001b[0m\n\u001b[1;32m      1\u001b[0m \u001b[0macc\u001b[0m \u001b[0;34m=\u001b[0m \u001b[0mhistory\u001b[0m\u001b[0;34m.\u001b[0m\u001b[0mhistory\u001b[0m\u001b[0;34m[\u001b[0m\u001b[0;34m'accuracy'\u001b[0m\u001b[0;34m]\u001b[0m\u001b[0;34m\u001b[0m\u001b[0;34m\u001b[0m\u001b[0m\n\u001b[0;32m----> 2\u001b[0;31m \u001b[0mval_acc\u001b[0m \u001b[0;34m=\u001b[0m \u001b[0mhistory\u001b[0m\u001b[0;34m.\u001b[0m\u001b[0mhistory\u001b[0m\u001b[0;34m[\u001b[0m\u001b[0;34m'val_accuracy'\u001b[0m\u001b[0;34m]\u001b[0m\u001b[0;34m\u001b[0m\u001b[0;34m\u001b[0m\u001b[0m\n\u001b[0m\u001b[1;32m      3\u001b[0m \u001b[0;34m\u001b[0m\u001b[0m\n\u001b[1;32m      4\u001b[0m \u001b[0mloss\u001b[0m \u001b[0;34m=\u001b[0m \u001b[0mhistory\u001b[0m\u001b[0;34m.\u001b[0m\u001b[0mhistory\u001b[0m\u001b[0;34m[\u001b[0m\u001b[0;34m'loss'\u001b[0m\u001b[0;34m]\u001b[0m\u001b[0;34m\u001b[0m\u001b[0;34m\u001b[0m\u001b[0m\n\u001b[1;32m      5\u001b[0m \u001b[0mval_loss\u001b[0m \u001b[0;34m=\u001b[0m \u001b[0mhistory\u001b[0m\u001b[0;34m.\u001b[0m\u001b[0mhistory\u001b[0m\u001b[0;34m[\u001b[0m\u001b[0;34m'val_loss'\u001b[0m\u001b[0;34m]\u001b[0m\u001b[0;34m\u001b[0m\u001b[0;34m\u001b[0m\u001b[0m\n",
            "\u001b[0;31mKeyError\u001b[0m: 'val_accuracy'"
          ]
        }
      ],
      "source": [
        "acc = history.history['accuracy']\n",
        "#val_acc = history.history['val_accuracy']\n",
        "\n",
        "loss = history.history['loss']\n",
        "#val_loss = history.history['val_loss']\n",
        "\n",
        "epochs_range = range(epochs)\n",
        "\n",
        "plt.figure(figsize=(8, 8))\n",
        "plt.subplot(1, 2, 1)\n",
        "plt.plot(epochs_range, acc, label='Training Accuracy')\n",
        "plt.plot(epochs_range, val_acc, label='Validation Accuracy')\n",
        "plt.legend(loc='lower right')\n",
        "plt.title('Training and Validation Accuracy')\n",
        "\n",
        "plt.subplot(1, 2, 2)\n",
        "plt.plot(epochs_range, loss, label='Training Loss')\n",
        "#plt.plot(epochs_range, val_loss, label='Validation Loss')\n",
        "plt.legend(loc='upper right')\n",
        "plt.title('Training and Validation Loss')\n",
        "plt.show()"
      ]
    },
    {
      "cell_type": "code",
      "execution_count": null,
      "metadata": {
        "colab": {
          "base_uri": "https://localhost:8080/"
        },
        "id": "Hw21bocuzNQ9",
        "outputId": "ad49cb34-c119-46f2-d126-2000ca8d77ec"
      },
      "outputs": [
        {
          "name": "stdout",
          "output_type": "stream",
          "text": [
            "2/2 [==============================] - 0s 78ms/step - loss: 0.6932 - accuracy: 0.5000\n",
            "2/2 [==============================] - 0s 60ms/step - loss: 0.6932 - accuracy: 0.5000\n",
            "Validation: accuracy = 0.500000  ;  loss_v = 0.693225\n"
          ]
        }
      ],
      "source": [
        "loss, accuracy = model1.evaluate(X_test, y_test, verbose=1)\n",
        "loss_v, accuracy_v = model1.evaluate(X_test, y_test, verbose=1)\n",
        "print(\"Validation: accuracy = %f  ;  loss_v = %f\" % (accuracy_v, loss_v))\n",
        "print(\"Test: accuracy = %f  ;  loss = %f\" % (accuracy, loss))\n",
        "model1.save(\"model.h5\")\n",
        "#plot_model_history(history)"
      ]
    },
    {
      "cell_type": "code",
      "execution_count": null,
      "metadata": {
        "colab": {
          "base_uri": "https://localhost:8080/"
        },
        "id": "KhRpM0CB-NMs",
        "outputId": "8a2301f5-1e98-4bd8-b41f-b2af83da9264"
      },
      "outputs": [
        {
          "name": "stdout",
          "output_type": "stream",
          "text": [
            "Model: \"sequential_7\"\n",
            "_________________________________________________________________\n",
            " Layer (type)                Output Shape              Param #   \n",
            "=================================================================\n",
            " conv2d_14 (Conv2D)          (None, 126, 126, 32)      896       \n",
            "                                                                 \n",
            " max_pooling2d_14 (MaxPoolin  (None, 63, 63, 32)       0         \n",
            " g2D)                                                            \n",
            "                                                                 \n",
            " conv2d_15 (Conv2D)          (None, 61, 61, 32)        9248      \n",
            "                                                                 \n",
            " max_pooling2d_15 (MaxPoolin  (None, 30, 30, 32)       0         \n",
            " g2D)                                                            \n",
            "                                                                 \n",
            " flatten_7 (Flatten)         (None, 28800)             0         \n",
            "                                                                 \n",
            " dense_14 (Dense)            (None, 128)               3686528   \n",
            "                                                                 \n",
            " dense_15 (Dense)            (None, 1)                 129       \n",
            "                                                                 \n",
            "=================================================================\n",
            "Total params: 3,696,801\n",
            "Trainable params: 3,696,801\n",
            "Non-trainable params: 0\n",
            "_________________________________________________________________\n"
          ]
        }
      ],
      "source": [
        "model1.summary()"
      ]
    },
    {
      "cell_type": "code",
      "execution_count": null,
      "metadata": {
        "colab": {
          "base_uri": "https://localhost:8080/"
        },
        "id": "J5jxbhc7-REv",
        "outputId": "7e111eff-23f3-4a8f-d8af-c3ad6b440fff"
      },
      "outputs": [
        {
          "name": "stdout",
          "output_type": "stream",
          "text": [
            "Model: \"vgg16\"\n",
            "_________________________________________________________________\n",
            " Layer (type)                Output Shape              Param #   \n",
            "=================================================================\n",
            " input_1 (InputLayer)        [(None, None, None, 3)]   0         \n",
            "                                                                 \n",
            " block1_conv1 (Conv2D)       (None, None, None, 64)    1792      \n",
            "                                                                 \n",
            " block1_conv2 (Conv2D)       (None, None, None, 64)    36928     \n",
            "                                                                 \n",
            " block1_pool (MaxPooling2D)  (None, None, None, 64)    0         \n",
            "                                                                 \n",
            " block2_conv1 (Conv2D)       (None, None, None, 128)   73856     \n",
            "                                                                 \n",
            " block2_conv2 (Conv2D)       (None, None, None, 128)   147584    \n",
            "                                                                 \n",
            " block2_pool (MaxPooling2D)  (None, None, None, 128)   0         \n",
            "                                                                 \n",
            " block3_conv1 (Conv2D)       (None, None, None, 256)   295168    \n",
            "                                                                 \n",
            " block3_conv2 (Conv2D)       (None, None, None, 256)   590080    \n",
            "                                                                 \n",
            " block3_conv3 (Conv2D)       (None, None, None, 256)   590080    \n",
            "                                                                 \n",
            " block3_pool (MaxPooling2D)  (None, None, None, 256)   0         \n",
            "                                                                 \n",
            " block4_conv1 (Conv2D)       (None, None, None, 512)   1180160   \n",
            "                                                                 \n",
            " block4_conv2 (Conv2D)       (None, None, None, 512)   2359808   \n",
            "                                                                 \n",
            " block4_conv3 (Conv2D)       (None, None, None, 512)   2359808   \n",
            "                                                                 \n",
            " block4_pool (MaxPooling2D)  (None, None, None, 512)   0         \n",
            "                                                                 \n",
            " block5_conv1 (Conv2D)       (None, None, None, 512)   2359808   \n",
            "                                                                 \n",
            " block5_conv2 (Conv2D)       (None, None, None, 512)   2359808   \n",
            "                                                                 \n",
            " block5_conv3 (Conv2D)       (None, None, None, 512)   2359808   \n",
            "                                                                 \n",
            " block5_pool (MaxPooling2D)  (None, None, None, 512)   0         \n",
            "                                                                 \n",
            "=================================================================\n",
            "Total params: 14,714,688\n",
            "Trainable params: 14,714,688\n",
            "Non-trainable params: 0\n",
            "_________________________________________________________________\n"
          ]
        }
      ],
      "source": [
        "model.summary()\n",
        "#VGG16"
      ]
    },
    {
      "cell_type": "code",
      "execution_count": null,
      "metadata": {
        "colab": {
          "base_uri": "https://localhost:8080/"
        },
        "id": "al5cFDUX8JSQ",
        "outputId": "9cea4506-4267-4bba-a32d-5396b1ab37ce"
      },
      "outputs": [
        {
          "name": "stdout",
          "output_type": "stream",
          "text": [
            "Model: \"sequential_12\"\n",
            "_________________________________________________________________\n",
            " Layer (type)                Output Shape              Param #   \n",
            "=================================================================\n",
            " flatten_12 (Flatten)        (None, 8192)              0         \n",
            "                                                                 \n",
            " dense_24 (Dense)            (None, 128)               1048704   \n",
            "                                                                 \n",
            " dense_25 (Dense)            (None, 1)                 129       \n",
            "                                                                 \n",
            "=================================================================\n",
            "Total params: 1,048,833\n",
            "Trainable params: 1,048,833\n",
            "Non-trainable params: 0\n",
            "_________________________________________________________________\n"
          ]
        }
      ],
      "source": [
        "model2.summary()"
      ]
    },
    {
      "cell_type": "code",
      "execution_count": null,
      "metadata": {
        "id": "aG2mzazGYFvD"
      },
      "outputs": [],
      "source": []
    },
    {
      "cell_type": "markdown",
      "metadata": {
        "id": "B_0gOb6ZYLE4"
      },
      "source": [
        "## performance metrics\n",
        "* Stratified K-Fold Cross-validation - due to unbalance class\n",
        "* Confusion Matrix\n",
        "* ROC AUC Curve\n",
        "* F-1 Score\n",
        "* Brier Score "
      ]
    },
    {
      "cell_type": "markdown",
      "metadata": {
        "id": "92btKGgbYQ7s"
      },
      "source": [
        "### Stratified K-Fold Cross-validation - due to unbalance class"
      ]
    },
    {
      "cell_type": "code",
      "execution_count": null,
      "metadata": {
        "id": "K_iLjjz6YSFU"
      },
      "outputs": [],
      "source": [
        "# 10-fold cross validation\n",
        "from keras.models import Sequential\n",
        "from keras.layers import Dense\n",
        "from sklearn.model_selection import StratifiedKFold\n",
        "import numpy\n",
        "# fix random seed for reproducibility\n",
        "seed = 7\n",
        "numpy.random.seed(seed)\n",
        "# load dataset\n",
        "\n",
        "X = X_train\n",
        "Y = y_train\n",
        "# define 10-fold cross validation test harness\n",
        "kfold = StratifiedKFold(n_splits=10, shuffle=True, random_state=seed)\n",
        "cvscores = []\n",
        "for train, test in kfold.split(X, Y):\n",
        "  # create model\n",
        "\tmodel1 = tf.keras.Sequential([\n",
        "    tf.keras.layers.Conv2D(32, (3, 3), activation = 'relu', input_shape = (128,128, 3)), \n",
        "    tf.keras.layers.MaxPooling2D(2,2),\n",
        "    tf.keras.layers.Conv2D(32, (3, 3), activation = 'relu'),\n",
        "    tf.keras.layers.MaxPooling2D(2,2),\n",
        "    tf.keras.layers.Flatten(),\n",
        "    tf.keras.layers.Dense(128, activation=tf.nn.relu),\n",
        "    tf.keras.layers.Dense(1, activation=tf.nn.sigmoid)\n",
        "\t])\n",
        "\t# Compile model\n",
        "\tmodel1.compile(loss='binary_crossentropy', optimizer='adam', metrics=['accuracy'])\n",
        "\t# Fit the model\n",
        "\tmodel1.fit(X_train, y_train, epochs=30, batch_size=28, verbose=0)\n",
        "\t# evaluate the model\n",
        "\tscores = model1.evaluate(X_test, y_test, verbose=0)\n",
        "\tprint(\"%s: %.2f%%\" % (model.metrics_names[1], scores[1]*100))\n",
        "\tcvscores.append(scores[1] * 100)\n",
        "print(\"%.2f%% (+/- %.2f%%)\" % (numpy.mean(cvscores), numpy.std(cvscores)))"
      ]
    },
    {
      "cell_type": "markdown",
      "metadata": {
        "id": "_nriYDunYSMy"
      },
      "source": [
        "### Confusion Matrix\n"
      ]
    },
    {
      "cell_type": "code",
      "execution_count": null,
      "metadata": {
        "colab": {
          "base_uri": "https://localhost:8080/"
        },
        "id": "_W92L3f-YU6_",
        "outputId": "46b5ba59-a7e0-4fe5-acab-3dbb3f8a9d9e"
      },
      "outputs": [
        {
          "name": "stderr",
          "output_type": "stream",
          "text": [
            "/usr/local/lib/python3.7/dist-packages/ipykernel_launcher.py:3: DeprecationWarning: `np.int` is a deprecated alias for the builtin `int`. To silence this warning, use `int` by itself. Doing this will not modify any behavior and is safe. When replacing `np.int`, you may wish to use e.g. `np.int64` or `np.int32` to specify the precision. If you wish to review your current use, check the release note link for additional information.\n",
            "Deprecated in NumPy 1.20; for more details and guidance: https://numpy.org/devdocs/release/1.20.0-notes.html#deprecations\n",
            "  This is separate from the ipykernel package so we can avoid doing imports until\n"
          ]
        }
      ],
      "source": [
        "from sklearn.metrics import confusion_matrix\n",
        "pred = model1.predict(X_test)\n",
        "labels = (pred > 0.353975).astype(np.int)\n",
        "#y_probs = pred[:,1]\n",
        "conf = confusion_matrix(y_test, labels)"
      ]
    },
    {
      "cell_type": "code",
      "execution_count": null,
      "metadata": {
        "colab": {
          "base_uri": "https://localhost:8080/"
        },
        "id": "oGesjIvApF45",
        "outputId": "ab50fb20-fed7-4e57-895c-95c0edac7c84"
      },
      "outputs": [
        {
          "data": {
            "text/plain": [
              "(1, 12, 6, 1)"
            ]
          },
          "execution_count": 31,
          "metadata": {},
          "output_type": "execute_result"
        }
      ],
      "source": [
        "tn, fp, fn, tp = confusion_matrix(y_test, labels).ravel()\n",
        "tn, fp, fn, tp"
      ]
    },
    {
      "cell_type": "code",
      "execution_count": null,
      "metadata": {
        "colab": {
          "base_uri": "https://localhost:8080/",
          "height": 287
        },
        "id": "DNJG7mT_YU9P",
        "outputId": "fab81116-bec5-4eca-c339-c414f2b7edf5"
      },
      "outputs": [
        {
          "data": {
            "text/plain": [
              "<matplotlib.axes._subplots.AxesSubplot at 0x7f852b501590>"
            ]
          },
          "execution_count": 32,
          "metadata": {},
          "output_type": "execute_result"
        },
        {
          "data": {
            "image/png": "[encoded data removed]",
            "text/plain": [
              "<Figure size 432x288 with 2 Axes>"
            ]
          },
          "metadata": {
            "needs_background": "light"
          },
          "output_type": "display_data"
        }
      ],
      "source": [
        "import seaborn as sns\n",
        "sns.heatmap(conf, annot=True)"
      ]
    },
    {
      "cell_type": "code",
      "execution_count": null,
      "metadata": {
        "colab": {
          "base_uri": "https://localhost:8080/"
        },
        "id": "ZQhprnzv5RQQ",
        "outputId": "1bded767-d783-46c7-c24e-921c4325f6ba"
      },
      "outputs": [
        {
          "name": "stderr",
          "output_type": "stream",
          "text": [
            "/usr/local/lib/python3.7/dist-packages/ipykernel_launcher.py:3: DeprecationWarning: `np.int` is a deprecated alias for the builtin `int`. To silence this warning, use `int` by itself. Doing this will not modify any behavior and is safe. When replacing `np.int`, you may wish to use e.g. `np.int64` or `np.int32` to specify the precision. If you wish to review your current use, check the release note link for additional information.\n",
            "Deprecated in NumPy 1.20; for more details and guidance: https://numpy.org/devdocs/release/1.20.0-notes.html#deprecations\n",
            "  This is separate from the ipykernel package so we can avoid doing imports until\n"
          ]
        },
        {
          "data": {
            "text/plain": [
              "0.0"
            ]
          },
          "execution_count": 28,
          "metadata": {},
          "output_type": "execute_result"
        }
      ],
      "source": [
        "from sklearn.metrics import confusion_matrix\n",
        "pred = model1.predict(X_test)\n",
        "labels_p2 = (pred > 0.6199619770050049).astype(np.int)\n",
        "recall_p2 = sklearn.metrics.recall_score(y_test, labels_p2, pos_label=1)\n",
        "recall_p2"
      ]
    },
    {
      "cell_type": "code",
      "execution_count": null,
      "metadata": {
        "colab": {
          "base_uri": "https://localhost:8080/",
          "height": 293
        },
        "id": "QEpfyizsqAwF",
        "outputId": "bee45dce-32c8-416b-bfee-853706ad54fb"
      },
      "outputs": [
        {
          "name": "stderr",
          "output_type": "stream",
          "text": [
            "/usr/local/lib/python3.7/dist-packages/ipykernel_launcher.py:2: DeprecationWarning: `np.int` is a deprecated alias for the builtin `int`. To silence this warning, use `int` by itself. Doing this will not modify any behavior and is safe. When replacing `np.int`, you may wish to use e.g. `np.int64` or `np.int32` to specify the precision. If you wish to review your current use, check the release note link for additional information.\n",
            "Deprecated in NumPy 1.20; for more details and guidance: https://numpy.org/devdocs/release/1.20.0-notes.html#deprecations\n",
            "  \n",
            "/usr/local/lib/python3.7/dist-packages/ipykernel_launcher.py:3: DeprecationWarning: `np.int` is a deprecated alias for the builtin `int`. To silence this warning, use `int` by itself. Doing this will not modify any behavior and is safe. When replacing `np.int`, you may wish to use e.g. `np.int64` or `np.int32` to specify the precision. If you wish to review your current use, check the release note link for additional information.\n",
            "Deprecated in NumPy 1.20; for more details and guidance: https://numpy.org/devdocs/release/1.20.0-notes.html#deprecations\n",
            "  This is separate from the ipykernel package so we can avoid doing imports until\n",
            "/usr/local/lib/python3.7/dist-packages/ipykernel_launcher.py:10: DeprecationWarning: `np.int` is a deprecated alias for the builtin `int`. To silence this warning, use `int` by itself. Doing this will not modify any behavior and is safe. When replacing `np.int`, you may wish to use e.g. `np.int64` or `np.int32` to specify the precision. If you wish to review your current use, check the release note link for additional information.\n",
            "Deprecated in NumPy 1.20; for more details and guidance: https://numpy.org/devdocs/release/1.20.0-notes.html#deprecations\n",
            "  # Remove the CWD from sys.path while we load stuff.\n"
          ]
        },
        {
          "data": {
            "text/html": [
              "\n",
              "  <div id=\"df-c374e592-403b-45e2-8a71-a8795f84e166\">\n",
              "    <div class=\"colab-df-container\">\n",
              "      <div>\n",
              "<style scoped>\n",
              "    .dataframe tbody tr th:only-of-type {\n",
              "        vertical-align: middle;\n",
              "    }\n",
              "\n",
              "    .dataframe tbody tr th {\n",
              "        vertical-align: top;\n",
              "    }\n",
              "\n",
              "    .dataframe thead th {\n",
              "        text-align: right;\n",
              "    }\n",
              "</style>\n",
              "<table border=\"1\" class=\"dataframe\">\n",
              "  <thead>\n",
              "    <tr style=\"text-align: right;\">\n",
              "      <th></th>\n",
              "      <th>acc</th>\n",
              "      <th>precision</th>\n",
              "      <th>recall</th>\n",
              "    </tr>\n",
              "  </thead>\n",
              "  <tbody>\n",
              "    <tr>\n",
              "      <th>0</th>\n",
              "      <td>0.05</td>\n",
              "      <td>0.000000</td>\n",
              "      <td>0.000000</td>\n",
              "    </tr>\n",
              "    <tr>\n",
              "      <th>1</th>\n",
              "      <td>0.10</td>\n",
              "      <td>0.076923</td>\n",
              "      <td>0.142857</td>\n",
              "    </tr>\n",
              "  </tbody>\n",
              "</table>\n",
              "</div>\n",
              "      <button class=\"colab-df-convert\" onclick=\"convertToInteractive('df-c374e592-403b-45e2-8a71-a8795f84e166')\"\n",
              "              title=\"Convert this dataframe to an interactive table.\"\n",
              "              style=\"display:none;\">\n",
              "        \n",
              "  <svg xmlns=\"http://www.w3.org/2000/svg\" height=\"24px\"viewBox=\"0 0 24 24\"\n",
              "       width=\"24px\">\n",
              "    <path d=\"M0 0h24v24H0V0z\" fill=\"none\"/>\n",
              "    <path d=\"M18.56 5.44l.94 2.06.94-2.06 2.06-.94-2.06-.94-.94-2.06-.94 2.06-2.06.94zm-11 1L8.5 8.5l.94-2.06 2.06-.94-2.06-.94L8.5 2.5l-.94 2.06-2.06.94zm10 10l.94 2.06.94-2.06 2.06-.94-2.06-.94-.94-2.06-.94 2.06-2.06.94z\"/><path d=\"M17.41 7.96l-1.37-1.37c-.4-.4-.92-.59-1.43-.59-.52 0-1.04.2-1.43.59L10.3 9.45l-7.72 7.72c-.78.78-.78 2.05 0 2.83L4 21.41c.39.39.9.59 1.41.59.51 0 1.02-.2 1.41-.59l7.78-7.78 2.81-2.81c.8-.78.8-2.07 0-2.86zM5.41 20L4 18.59l7.72-7.72 1.47 1.35L5.41 20z\"/>\n",
              "  </svg>\n",
              "      </button>\n",
              "      \n",
              "  <style>\n",
              "    .colab-df-container {\n",
              "      display:flex;\n",
              "      flex-wrap:wrap;\n",
              "      gap: 12px;\n",
              "    }\n",
              "\n",
              "    .colab-df-convert {\n",
              "      background-color: #E8F0FE;\n",
              "      border: none;\n",
              "      border-radius: 50%;\n",
              "      cursor: pointer;\n",
              "      display: none;\n",
              "      fill: #1967D2;\n",
              "      height: 32px;\n",
              "      padding: 0 0 0 0;\n",
              "      width: 32px;\n",
              "    }\n",
              "\n",
              "    .colab-df-convert:hover {\n",
              "      background-color: #E2EBFA;\n",
              "      box-shadow: 0px 1px 2px rgba(60, 64, 67, 0.3), 0px 1px 3px 1px rgba(60, 64, 67, 0.15);\n",
              "      fill: #174EA6;\n",
              "    }\n",
              "\n",
              "    [theme=dark] .colab-df-convert {\n",
              "      background-color: #3B4455;\n",
              "      fill: #D2E3FC;\n",
              "    }\n",
              "\n",
              "    [theme=dark] .colab-df-convert:hover {\n",
              "      background-color: #434B5C;\n",
              "      box-shadow: 0px 1px 3px 1px rgba(0, 0, 0, 0.15);\n",
              "      filter: drop-shadow(0px 1px 2px rgba(0, 0, 0, 0.3));\n",
              "      fill: #FFFFFF;\n",
              "    }\n",
              "  </style>\n",
              "\n",
              "      <script>\n",
              "        const buttonEl =\n",
              "          document.querySelector('#df-c374e592-403b-45e2-8a71-a8795f84e166 button.colab-df-convert');\n",
              "        buttonEl.style.display =\n",
              "          google.colab.kernel.accessAllowed ? 'block' : 'none';\n",
              "\n",
              "        async function convertToInteractive(key) {\n",
              "          const element = document.querySelector('#df-c374e592-403b-45e2-8a71-a8795f84e166');\n",
              "          const dataTable =\n",
              "            await google.colab.kernel.invokeFunction('convertToInteractive',\n",
              "                                                     [key], {});\n",
              "          if (!dataTable) return;\n",
              "\n",
              "          const docLinkHtml = 'Like what you see? Visit the ' +\n",
              "            '<a target=\"_blank\" href=https://colab.research.google.com/notebooks/data_table.ipynb>data table notebook</a>'\n",
              "            + ' to learn more about interactive tables.';\n",
              "          element.innerHTML = '';\n",
              "          dataTable['output_type'] = 'display_data';\n",
              "          await google.colab.output.renderOutput(dataTable, element);\n",
              "          const docLink = document.createElement('div');\n",
              "          docLink.innerHTML = docLinkHtml;\n",
              "          element.appendChild(docLink);\n",
              "        }\n",
              "      </script>\n",
              "    </div>\n",
              "  </div>\n",
              "  "
            ],
            "text/plain": [
              "    acc  precision    recall\n",
              "0  0.05   0.000000  0.000000\n",
              "1  0.10   0.076923  0.142857"
            ]
          },
          "execution_count": 29,
          "metadata": {},
          "output_type": "execute_result"
        }
      ],
      "source": [
        "import sklearn.metrics\n",
        "labels = (pred > 0.5).astype(np.int)\n",
        "labels_p = (pred > 0.353975).astype(np.int)\n",
        "\n",
        "acc = sklearn.metrics.accuracy_score(y_test, labels)\n",
        "#print(acc)\n",
        "precision = sklearn.metrics.precision_score(y_test, labels, pos_label=1)\n",
        "#print(precision)\n",
        "recall = sklearn.metrics.recall_score(y_test, labels, pos_label=1)\n",
        "#print(recall)\n",
        "labels_p = (pred > 0.353975).astype(np.int)\n",
        "acc_p = sklearn.metrics.accuracy_score(y_test, labels_p)\n",
        "precision_p = sklearn.metrics.precision_score(y_test, labels_p, pos_label=1)\n",
        "recall_p = sklearn.metrics.recall_score(y_test, labels_p, pos_label=1)\n",
        "metricdf = pd.DataFrame({'acc':[acc, acc_p], 'precision':[precision, precision_p], 'recall':[recall, recall_p]})\n",
        "metricdf"
      ]
    },
    {
      "cell_type": "markdown",
      "metadata": {
        "id": "NS8TsY7gYVQY"
      },
      "source": [
        "### ROC AUC Curve\n"
      ]
    },
    {
      "cell_type": "code",
      "execution_count": null,
      "metadata": {
        "colab": {
          "base_uri": "https://localhost:8080/"
        },
        "id": "7aftcBxsvDAL",
        "outputId": "d4b10cad-0790-473b-84e9-dab687feb5cd"
      },
      "outputs": [
        {
          "name": "stdout",
          "output_type": "stream",
          "text": [
            "0.5\n"
          ]
        }
      ],
      "source": [
        "#model1\n",
        "#pred_prob1 = model1.predict_proba(X_test)\n",
        "predict_prob=model1.predict(X_test)\n",
        "predict_classes=np.argmax(predict_prob,axis=1)\n",
        "# auc scores\n",
        "from sklearn.metrics import roc_auc_score\n",
        "auc_score1 = roc_auc_score(y_test, predict_classes)\n",
        "print(auc_score1)"
      ]
    },
    {
      "cell_type": "code",
      "execution_count": null,
      "metadata": {
        "colab": {
          "base_uri": "https://localhost:8080/"
        },
        "id": "MKIWL7ci0kbd",
        "outputId": "d3fb19dd-23d7-4440-a15b-e296485e5d59"
      },
      "outputs": [
        {
          "name": "stdout",
          "output_type": "stream",
          "text": [
            "0.5\n"
          ]
        }
      ],
      "source": [
        "#model2\n",
        "predict_prob2=model2.predict(test_features)\n",
        "predict_classes2=np.argmax(predict_prob2,axis=1)\n",
        "# auc scores\n",
        "from sklearn.metrics import roc_auc_score\n",
        "auc_score2 = roc_auc_score(y_test, predict_classes2)\n",
        "print(auc_score2)"
      ]
    },
    {
      "cell_type": "code",
      "execution_count": null,
      "metadata": {
        "colab": {
          "base_uri": "https://localhost:8080/"
        },
        "id": "T-lVLzIiu0lN",
        "outputId": "ab1cec6c-403b-485d-d71b-22ec1e1b6887"
      },
      "outputs": [
        {
          "name": "stdout",
          "output_type": "stream",
          "text": [
            "0.5\n"
          ]
        }
      ],
      "source": []
    },
    {
      "cell_type": "code",
      "execution_count": null,
      "metadata": {
        "colab": {
          "base_uri": "https://localhost:8080/",
          "height": 283
        },
        "id": "vzCD3iYOYXPe",
        "outputId": "53f18566-366d-4c65-c318-62f57b2e35aa"
      },
      "outputs": [
        {
          "data": {
            "text/plain": [
              "[<matplotlib.lines.Line2D at 0x7fbdaa1fdc50>]"
            ]
          },
          "execution_count": 83,
          "metadata": {},
          "output_type": "execute_result"
        },
        {
          "data": {
            "image/png": "[encoded data removed]",
            "text/plain": [
              "<Figure size 432x288 with 1 Axes>"
            ]
          },
          "metadata": {
            "needs_background": "light"
          },
          "output_type": "display_data"
        }
      ],
      "source": [
        "from sklearn.metrics import roc_curve, auc\n",
        "\n",
        "#history\n",
        "\n",
        "y_pred = model1.predict(X_test).ravel()\n",
        "\n",
        "nn_fpr_keras, nn_tpr_keras, nn_thresholds_keras = roc_curve(y_test, y_pred)\n",
        "auc_keras = auc(nn_fpr_keras, nn_tpr_keras)\n",
        "plt.plot(nn_fpr_keras, nn_tpr_keras, marker='.', label='Neural Network (auc = %0.3f)' % auc_keras)"
      ]
    },
    {
      "cell_type": "markdown",
      "metadata": {
        "id": "SIUBNvqwYXYs"
      },
      "source": [
        "### F-1 Score\n",
        "Brier Score"
      ]
    },
    {
      "cell_type": "code",
      "execution_count": null,
      "metadata": {
        "id": "Wn2BAUff7SXH"
      },
      "outputs": [],
      "source": [
        "def plot_accuracy_loss(history):\n",
        "    \"\"\"\n",
        "        Plot the accuracy and the loss during the training of the nn.\n",
        "    \"\"\"\n",
        "    fig = plt.figure(figsize=(10,5))\n",
        "\n",
        "    # Plot accuracy\n",
        "    plt.subplot(221)\n",
        "    plt.plot(history.history['acc'],'bo--', label = \"acc\")\n",
        "    plt.plot(history.history['val_acc'], 'ro--', label = \"val_acc\")\n",
        "    plt.title(\"train_acc vs val_acc\")\n",
        "    plt.ylabel(\"accuracy\")\n",
        "    plt.xlabel(\"epochs\")\n",
        "    plt.legend()\n",
        "\n",
        "    # Plot loss function\n",
        "    plt.subplot(222)\n",
        "    plt.plot(history.history['loss'],'bo--', label = \"loss\")\n",
        "    plt.plot(history.history['val_loss'], 'ro--', label = \"val_loss\")\n",
        "    plt.title(\"train_loss vs val_loss\")\n",
        "    plt.ylabel(\"loss\")\n",
        "    plt.xlabel(\"epochs\")\n",
        "\n",
        "    plt.legend()\n",
        "    plt.show()"
      ]
    },
    {
      "cell_type": "markdown",
      "metadata": {
        "id": "54alZMIKziPz"
      },
      "source": [
        "## Threshold - Gmeans"
      ]
    },
    {
      "cell_type": "code",
      "execution_count": null,
      "metadata": {
        "id": "LJUNbFgqzNbF"
      },
      "outputs": [],
      "source": [
        "from numpy import sqrt\n",
        "from numpy import argmax\n",
        "from sklearn.datasets import make_classification\n",
        "from sklearn.linear_model import LogisticRegression\n",
        "#from sklearn.model_selection import train_test_split\n",
        "from sklearn.metrics import roc_curve\n",
        "from matplotlib import pyplot"
      ]
    },
    {
      "cell_type": "code",
      "execution_count": null,
      "metadata": {
        "colab": {
          "base_uri": "https://localhost:8080/"
        },
        "id": "uohI25ONVYAo",
        "outputId": "66ab9cc1-eeb2-4dc5-8e53-a238f1386435"
      },
      "outputs": [
        {
          "data": {
            "text/plain": [
              "(20, 128, 128, 3)"
            ]
          },
          "execution_count": 18,
          "metadata": {},
          "output_type": "execute_result"
        }
      ],
      "source": [
        "X_test.shape"
      ]
    },
    {
      "cell_type": "code",
      "execution_count": null,
      "metadata": {
        "colab": {
          "base_uri": "https://localhost:8080/"
        },
        "id": "C4HxVX3UM4r4",
        "outputId": "002379c0-d405-43a1-e64f-080ed3515e24"
      },
      "outputs": [
        {
          "data": {
            "text/plain": [
              "(20, 1)"
            ]
          },
          "execution_count": 19,
          "metadata": {},
          "output_type": "execute_result"
        }
      ],
      "source": [
        "#X_train, X_test, y_train, y_test\n",
        "y_probs = model1.predict(X_test)\n",
        "y_probs.shape"
      ]
    },
    {
      "cell_type": "code",
      "execution_count": null,
      "metadata": {
        "colab": {
          "base_uri": "https://localhost:8080/"
        },
        "id": "VsR7Sghl6dq-",
        "outputId": "9b6d4ce9-1c16-4bf4-b7a1-313eedb67b98"
      },
      "outputs": [
        {
          "data": {
            "text/plain": [
              "(20, 1)"
            ]
          },
          "execution_count": 22,
          "metadata": {},
          "output_type": "execute_result"
        }
      ],
      "source": [
        "# predict probabilities\n",
        "y_probs = model1.predict(X_test)\n",
        "# keep probabilities for the positive outcome only\n",
        "#y_probs = y_probs[:,1]\n",
        "\n",
        "# calculate roc curves\n",
        "fpr, tpr, thresholds = roc_curve(y_test, y_probs)\n",
        "y_probs.shape"
      ]
    },
    {
      "cell_type": "code",
      "execution_count": null,
      "metadata": {
        "colab": {
          "base_uri": "https://localhost:8080/"
        },
        "id": "IEfOSOlh6k9V",
        "outputId": "9e5a5031-b2f0-4b6b-b714-0a4fb98bf9ea"
      },
      "outputs": [
        {
          "name": "stdout",
          "output_type": "stream",
          "text": [
            "Best Threshold=0.380780, G-Mean=0.105\n"
          ]
        }
      ],
      "source": [
        "# calculate the g-mean for each threshold\n",
        "gmeans = sqrt(tpr * (1-fpr))\n",
        "# locate the index of the largest g-mean\n",
        "ix = argmax(gmeans)\n",
        "print('Best Threshold=%f, G-Mean=%.3f' % (thresholds[ix], gmeans[ix]))\n"
      ]
    },
    {
      "cell_type": "code",
      "execution_count": null,
      "metadata": {
        "colab": {
          "base_uri": "https://localhost:8080/",
          "height": 279
        },
        "id": "9b3V3uYN7OYo",
        "outputId": "7a44368f-304d-42e5-9149-ccb936aae4a1"
      },
      "outputs": [
        {
          "data": {
            "image/png": "[encoded data removed]",
            "text/plain": [
              "<Figure size 432x288 with 1 Axes>"
            ]
          },
          "metadata": {
            "needs_background": "light"
          },
          "output_type": "display_data"
        }
      ],
      "source": [
        "# plot the roc curve for the model\n",
        "pyplot.plot([0,1], [0,1], linestyle='--', label='No Skill')\n",
        "pyplot.plot(fpr, tpr, marker='.', label='Logistic')\n",
        "# axis labels\n",
        "pyplot.xlabel('False Positive Rate')\n",
        "pyplot.ylabel('True Positive Rate')\n",
        "pyplot.legend()\n",
        "# show the plot\n",
        "pyplot.show()"
      ]
    },
    {
      "cell_type": "markdown",
      "metadata": {
        "id": "9lJLXlkOV1aG"
      },
      "source": [
        "#### Precision-Recall\n"
      ]
    },
    {
      "cell_type": "code",
      "execution_count": null,
      "metadata": {
        "id": "ywp8a57S_tMZ"
      },
      "outputs": [],
      "source": []
    },
    {
      "cell_type": "code",
      "execution_count": null,
      "metadata": {
        "colab": {
          "base_uri": "https://localhost:8080/",
          "height": 300
        },
        "id": "MUdZ1yXD_njb",
        "outputId": "0e487e6d-938d-4a51-9cf0-c7d37deb011a"
      },
      "outputs": [
        {
          "data": {
            "text/html": [
              "\n",
              "  <div id=\"df-c4418137-708e-486c-a978-920741aa4298\">\n",
              "    <div class=\"colab-df-container\">\n",
              "      <div>\n",
              "<style scoped>\n",
              "    .dataframe tbody tr th:only-of-type {\n",
              "        vertical-align: middle;\n",
              "    }\n",
              "\n",
              "    .dataframe tbody tr th {\n",
              "        vertical-align: top;\n",
              "    }\n",
              "\n",
              "    .dataframe thead th {\n",
              "        text-align: right;\n",
              "    }\n",
              "</style>\n",
              "<table border=\"1\" class=\"dataframe\">\n",
              "  <thead>\n",
              "    <tr style=\"text-align: right;\">\n",
              "      <th></th>\n",
              "      <th>Precision</th>\n",
              "      <th>Recall</th>\n",
              "      <th>Threshold</th>\n",
              "    </tr>\n",
              "  </thead>\n",
              "  <tbody>\n",
              "    <tr>\n",
              "      <th>0</th>\n",
              "      <td>0.350000</td>\n",
              "      <td>1.000000</td>\n",
              "      <td>0.000218</td>\n",
              "    </tr>\n",
              "    <tr>\n",
              "      <th>1</th>\n",
              "      <td>0.315789</td>\n",
              "      <td>0.857143</td>\n",
              "      <td>0.069396</td>\n",
              "    </tr>\n",
              "    <tr>\n",
              "      <th>2</th>\n",
              "      <td>0.277778</td>\n",
              "      <td>0.714286</td>\n",
              "      <td>0.123766</td>\n",
              "    </tr>\n",
              "    <tr>\n",
              "      <th>3</th>\n",
              "      <td>0.235294</td>\n",
              "      <td>0.571429</td>\n",
              "      <td>0.194784</td>\n",
              "    </tr>\n",
              "    <tr>\n",
              "      <th>4</th>\n",
              "      <td>0.187500</td>\n",
              "      <td>0.428571</td>\n",
              "      <td>0.311052</td>\n",
              "    </tr>\n",
              "    <tr>\n",
              "      <th>5</th>\n",
              "      <td>0.133333</td>\n",
              "      <td>0.285714</td>\n",
              "      <td>0.317065</td>\n",
              "    </tr>\n",
              "    <tr>\n",
              "      <th>6</th>\n",
              "      <td>0.076923</td>\n",
              "      <td>0.142857</td>\n",
              "      <td>0.380780</td>\n",
              "    </tr>\n",
              "    <tr>\n",
              "      <th>7</th>\n",
              "      <td>0.000000</td>\n",
              "      <td>0.000000</td>\n",
              "      <td>0.518901</td>\n",
              "    </tr>\n",
              "  </tbody>\n",
              "</table>\n",
              "</div>\n",
              "      <button class=\"colab-df-convert\" onclick=\"convertToInteractive('df-c4418137-708e-486c-a978-920741aa4298')\"\n",
              "              title=\"Convert this dataframe to an interactive table.\"\n",
              "              style=\"display:none;\">\n",
              "        \n",
              "  <svg xmlns=\"http://www.w3.org/2000/svg\" height=\"24px\"viewBox=\"0 0 24 24\"\n",
              "       width=\"24px\">\n",
              "    <path d=\"M0 0h24v24H0V0z\" fill=\"none\"/>\n",
              "    <path d=\"M18.56 5.44l.94 2.06.94-2.06 2.06-.94-2.06-.94-.94-2.06-.94 2.06-2.06.94zm-11 1L8.5 8.5l.94-2.06 2.06-.94-2.06-.94L8.5 2.5l-.94 2.06-2.06.94zm10 10l.94 2.06.94-2.06 2.06-.94-2.06-.94-.94-2.06-.94 2.06-2.06.94z\"/><path d=\"M17.41 7.96l-1.37-1.37c-.4-.4-.92-.59-1.43-.59-.52 0-1.04.2-1.43.59L10.3 9.45l-7.72 7.72c-.78.78-.78 2.05 0 2.83L4 21.41c.39.39.9.59 1.41.59.51 0 1.02-.2 1.41-.59l7.78-7.78 2.81-2.81c.8-.78.8-2.07 0-2.86zM5.41 20L4 18.59l7.72-7.72 1.47 1.35L5.41 20z\"/>\n",
              "  </svg>\n",
              "      </button>\n",
              "      \n",
              "  <style>\n",
              "    .colab-df-container {\n",
              "      display:flex;\n",
              "      flex-wrap:wrap;\n",
              "      gap: 12px;\n",
              "    }\n",
              "\n",
              "    .colab-df-convert {\n",
              "      background-color: #E8F0FE;\n",
              "      border: none;\n",
              "      border-radius: 50%;\n",
              "      cursor: pointer;\n",
              "      display: none;\n",
              "      fill: #1967D2;\n",
              "      height: 32px;\n",
              "      padding: 0 0 0 0;\n",
              "      width: 32px;\n",
              "    }\n",
              "\n",
              "    .colab-df-convert:hover {\n",
              "      background-color: #E2EBFA;\n",
              "      box-shadow: 0px 1px 2px rgba(60, 64, 67, 0.3), 0px 1px 3px 1px rgba(60, 64, 67, 0.15);\n",
              "      fill: #174EA6;\n",
              "    }\n",
              "\n",
              "    [theme=dark] .colab-df-convert {\n",
              "      background-color: #3B4455;\n",
              "      fill: #D2E3FC;\n",
              "    }\n",
              "\n",
              "    [theme=dark] .colab-df-convert:hover {\n",
              "      background-color: #434B5C;\n",
              "      box-shadow: 0px 1px 3px 1px rgba(0, 0, 0, 0.15);\n",
              "      filter: drop-shadow(0px 1px 2px rgba(0, 0, 0, 0.3));\n",
              "      fill: #FFFFFF;\n",
              "    }\n",
              "  </style>\n",
              "\n",
              "      <script>\n",
              "        const buttonEl =\n",
              "          document.querySelector('#df-c4418137-708e-486c-a978-920741aa4298 button.colab-df-convert');\n",
              "        buttonEl.style.display =\n",
              "          google.colab.kernel.accessAllowed ? 'block' : 'none';\n",
              "\n",
              "        async function convertToInteractive(key) {\n",
              "          const element = document.querySelector('#df-c4418137-708e-486c-a978-920741aa4298');\n",
              "          const dataTable =\n",
              "            await google.colab.kernel.invokeFunction('convertToInteractive',\n",
              "                                                     [key], {});\n",
              "          if (!dataTable) return;\n",
              "\n",
              "          const docLinkHtml = 'Like what you see? Visit the ' +\n",
              "            '<a target=\"_blank\" href=https://colab.research.google.com/notebooks/data_table.ipynb>data table notebook</a>'\n",
              "            + ' to learn more about interactive tables.';\n",
              "          element.innerHTML = '';\n",
              "          dataTable['output_type'] = 'display_data';\n",
              "          await google.colab.output.renderOutput(dataTable, element);\n",
              "          const docLink = document.createElement('div');\n",
              "          docLink.innerHTML = docLinkHtml;\n",
              "          element.appendChild(docLink);\n",
              "        }\n",
              "      </script>\n",
              "    </div>\n",
              "  </div>\n",
              "  "
            ],
            "text/plain": [
              "   Precision    Recall  Threshold\n",
              "0   0.350000  1.000000   0.000218\n",
              "1   0.315789  0.857143   0.069396\n",
              "2   0.277778  0.714286   0.123766\n",
              "3   0.235294  0.571429   0.194784\n",
              "4   0.187500  0.428571   0.311052\n",
              "5   0.133333  0.285714   0.317065\n",
              "6   0.076923  0.142857   0.380780\n",
              "7   0.000000  0.000000   0.518901"
            ]
          },
          "execution_count": 25,
          "metadata": {},
          "output_type": "execute_result"
        }
      ],
      "source": [
        "# Create the Precision-Recall curve\n",
        "y_probs = model1.predict(X_test)\n",
        "precision, recall, thresholds = precision_recall_curve(y_test, y_probs)\n",
        "\n",
        "# Plot the ROC curve\n",
        "df_recall_precision = pd.DataFrame({'Precision':precision[:-1],\n",
        "                                    'Recall':recall[:-1],\n",
        "                                    'Threshold':thresholds})\n",
        "df_recall_precision.head(8)\n"
      ]
    },
    {
      "cell_type": "code",
      "execution_count": null,
      "metadata": {
        "colab": {
          "base_uri": "https://localhost:8080/"
        },
        "id": "4QlwvRu9VmVQ",
        "outputId": "94ed0519-ea5c-4853-ad65-db0a840acd7a"
      },
      "outputs": [
        {
          "data": {
            "text/plain": [
              "0.0"
            ]
          },
          "execution_count": 26,
          "metadata": {},
          "output_type": "execute_result"
        }
      ],
      "source": [
        "df_recall_precision['Precision'][7]"
      ]
    },
    {
      "cell_type": "code",
      "execution_count": null,
      "metadata": {
        "colab": {
          "base_uri": "https://localhost:8080/"
        },
        "id": "QWGtwiBN24B0",
        "outputId": "41d57e18-bee6-4776-8444-0fb43ddd1063"
      },
      "outputs": [
        {
          "name": "stderr",
          "output_type": "stream",
          "text": [
            "/usr/local/lib/python3.7/dist-packages/ipykernel_launcher.py:2: RuntimeWarning: invalid value encountered in true_divide\n",
            "  \n"
          ]
        },
        {
          "data": {
            "text/plain": [
              "7"
            ]
          },
          "execution_count": 154,
          "metadata": {},
          "output_type": "execute_result"
        }
      ],
      "source": [
        "# Calculate the f-score\n",
        "fscore = (2 * precision * recall) / (precision + recall)\n",
        "# Find the optimal threshold\n",
        "index = np.argmax(fscore)\n",
        "index\n",
        "#thresholdOpt = round(thresholds[index], ndigits = 6)\n",
        "#print('Best Threshold: {} '.format(thresholdOpt))"
      ]
    },
    {
      "cell_type": "code",
      "execution_count": null,
      "metadata": {
        "colab": {
          "base_uri": "https://localhost:8080/"
        },
        "id": "MgKYgItu_g7A",
        "outputId": "a9b675d5-b4d2-43ff-c10e-25d8ed45dccc"
      },
      "outputs": [
        {
          "name": "stdout",
          "output_type": "stream",
          "text": [
            "Best Threshold: 0.6199619770050049 with F-Score: nan\n",
            "Recall: 0.0, Precision: 0.0\n"
          ]
        },
        {
          "name": "stderr",
          "output_type": "stream",
          "text": [
            "/usr/local/lib/python3.7/dist-packages/ipykernel_launcher.py:2: RuntimeWarning: invalid value encountered in true_divide\n",
            "  \n"
          ]
        }
      ],
      "source": [
        "# Calculate the f-score\n",
        "fscore = (2 * precision * recall) / (precision + recall)\n",
        "\n",
        "# Find the optimal threshold\n",
        "index = np.argmax(fscore)\n",
        "thresholdOpt = round(thresholds[index], ndigits = 6)\n",
        "fscoreOpt = round(fscore[index], ndigits = 6)\n",
        "recallOpt = round(recall[index], ndigits = 6)\n",
        "precisionOpt = round(precision[index], ndigits = 6)\n",
        "print('Best Threshold: {} with F-Score: {}'.format(thresholdOpt, fscoreOpt))\n",
        "print('Recall: {}, Precision: {}'.format(recallOpt, precisionOpt))\n"
      ]
    }
  ],
  "metadata": {
    "colab": {
      "collapsed_sections": [
        "2WaYa9C87dRi",
        "92btKGgbYQ7s"
      ],
      "name": "MVP_performance.ipynb",
      "provenance": []
    },
    "kernelspec": {
      "display_name": "Python 3",
      "name": "python3"
    },
    "language_info": {
      "name": "python"
    }
  },
  "nbformat": 4,
  "nbformat_minor": 0
}
