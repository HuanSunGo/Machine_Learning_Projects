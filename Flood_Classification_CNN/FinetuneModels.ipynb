{
  "cells": [
    {
      "cell_type": "markdown",
      "metadata": {
        "id": "9JajePGSnaYj"
      },
      "source": [
        "## Model Improvement - Finetune"
      ]
    },
    {
      "cell_type": "markdown",
      "metadata": {
        "id": "hK-Cgt0hnOgk"
      },
      "source": [
        "## 1)Connect to the data"
      ]
    },
    {
      "cell_type": "code",
      "execution_count": null,
      "metadata": {
        "id": "3VF8GY7W4gVu"
      },
      "outputs": [],
      "source": [
        "#20191013,20171105,20191001,20171007\n",
        "label_date = ['20171105','20191013','20191001','20171007']#flood\n",
        "\n",
        "unlabel_date = ['20171111','20190803','20190807','20191005','20191013','20191014','20191017']"
      ]
    },
    {
      "cell_type": "markdown",
      "metadata": {
        "id": "l70FDAv7ktqe"
      },
      "source": [
        "#### load the file directories"
      ]
    },
    {
      "cell_type": "code",
      "execution_count": null,
      "metadata": {
        "colab": {
          "base_uri": "https://localhost:8080/"
        },
        "id": "-bMnLXCcC8Tr",
        "outputId": "b8e08de5-31b1-42d2-d04d-47d11ffe4a02"
      },
      "outputs": [
        {
          "name": "stdout",
          "output_type": "stream",
          "text": [
            "/content/drive/MyDrive/KPMG Practicum/PlanetData/dataset/20171105/files\n",
            "/content/drive/MyDrive/KPMG Practicum/PlanetData/dataset/20191013/files\n",
            "/content/drive/MyDrive/KPMG Practicum/PlanetData/dataset/20191001/files\n",
            "/content/drive/MyDrive/KPMG Practicum/PlanetData/dataset/20171007/files\n",
            "/content/drive/MyDrive/KPMG Practicum/PlanetData/dataset/20171111/files\n",
            "/content/drive/MyDrive/KPMG Practicum/PlanetData/dataset/20190803/files\n",
            "/content/drive/MyDrive/KPMG Practicum/PlanetData/dataset/20190807/files\n",
            "/content/drive/MyDrive/KPMG Practicum/PlanetData/dataset/20191005/files\n",
            "/content/drive/MyDrive/KPMG Practicum/PlanetData/dataset/20191013/files\n",
            "/content/drive/MyDrive/KPMG Practicum/PlanetData/dataset/20191014/files\n",
            "/content/drive/MyDrive/KPMG Practicum/PlanetData/dataset/20191017/files\n"
          ]
        }
      ],
      "source": [
        "# Load file paths to fnames list object...\n",
        "import os\n",
        "\n",
        "base_path = '/content/drive/MyDrive/KPMG Practicum/PlanetData/dataset/'\n",
        "categories_pse = ['label', 'unlabel']\n",
        "\n",
        "fnames_pse = []\n",
        "n_image_l_pse = []\n",
        "\n",
        "for category in categories_pse:\n",
        "\n",
        "  if category == 'label':\n",
        "    datelist = label_date\n",
        "  if category == 'unlabel':\n",
        "    datelist = unlabel_date\n",
        "  \n",
        "  for date in datelist:\n",
        "    image_folder = os.path.join(base_path, date, 'files')\n",
        "    print(image_folder)\n",
        "    file_names = os.listdir(image_folder)\n",
        "    full_path = [os.path.join(image_folder, file_name) for file_name in file_names if file_name[-36:] == '3B_AnalyticMS_SR_harmonized_clip.tif' or file_name[-18:] == '3B_Visual_clip.tif']\n",
        "    n_image = len(full_path)\n",
        "    n_image_l_pse.append(n_image)\n",
        "    fnames_pse.append(full_path)\n",
        "\n",
        "#print('number of images for each category:', [len(f) for f in fnames])\n",
        "#print(fnames[0:4]) # Examples of file names..."
      ]
    },
    {
      "cell_type": "code",
      "execution_count": null,
      "metadata": {
        "colab": {
          "base_uri": "https://localhost:8080/"
        },
        "id": "FvbQnBdVGD-j",
        "outputId": "60366aff-38c8-4531-ee9a-00c19464fe7e"
      },
      "outputs": [
        {
          "name": "stdout",
          "output_type": "stream",
          "text": [
            "/content/drive/MyDrive/KPMG Practicum/PlanetData/non_flood/RuiLu_20200622/files\n",
            "/content/drive/MyDrive/KPMG Practicum/PlanetData/non_flood/RuiLu_20200219/files\n",
            "/content/drive/MyDrive/KPMG Practicum/PlanetData/non_flood/RuiLu_20200206/files\n",
            "/content/drive/MyDrive/KPMG Practicum/PlanetData/non_flood/YangHu_20201011/files\n",
            "/content/drive/MyDrive/KPMG Practicum/PlanetData/non_flood/YangHu_20201211/files\n",
            "/content/drive/MyDrive/KPMG Practicum/PlanetData/non_flood/YangHu_20200828/files\n",
            "/content/drive/MyDrive/KPMG Practicum/PlanetData/non_flood/CeceGu_20211230/files\n",
            "/content/drive/MyDrive/KPMG Practicum/PlanetData/non_flood/CeceGu_20210604/files\n",
            "/content/drive/MyDrive/KPMG Practicum/PlanetData/non_flood/CeceGu_20210710/files\n",
            "/content/drive/MyDrive/KPMG Practicum/PlanetData/non_flood/CeceGu_20211117/files\n",
            "/content/drive/MyDrive/KPMG Practicum/PlanetData/non_flood/CeceGu_20210309/files\n",
            "/content/drive/MyDrive/KPMG Practicum/PlanetData/non_flood/CeceGu_20211206/files\n",
            "/content/drive/MyDrive/KPMG Practicum/PlanetData/non_flood/JeffrayTsai_20190201/files\n",
            "/content/drive/MyDrive/KPMG Practicum/PlanetData/non_flood/JeffrayTsai_20191009/files\n",
            "/content/drive/MyDrive/KPMG Practicum/PlanetData/non_flood/JeffrayTsai_20191014/files\n",
            "/content/drive/MyDrive/KPMG Practicum/PlanetData/non_flood/Haylie_20180216/files\n",
            "/content/drive/MyDrive/KPMG Practicum/PlanetData/non_flood/Haylie_20180330/files\n",
            "/content/drive/MyDrive/KPMG Practicum/PlanetData/non_flood/Haylie_20181217/files\n",
            "/content/drive/MyDrive/KPMG Practicum/PlanetData/non_flood/Haylie_20181203/files\n",
            "/content/drive/MyDrive/KPMG Practicum/PlanetData/non_flood/Haylie_20180816/files\n",
            "/content/drive/MyDrive/KPMG Practicum/PlanetData/non_flood/Haylie_20180319/files\n"
          ]
        }
      ],
      "source": [
        "# Load file paths to fnames list object...\n",
        "import os\n",
        "\n",
        "base_path = '/content/drive/MyDrive/KPMG Practicum/PlanetData/non_flood/'\n",
        "\n",
        "fnames_pse_non_flood = []\n",
        "n_image_l_pse_non_flood = []\n",
        "\n",
        "fl = os.listdir(base_path)\n",
        "\n",
        "for f in fl:\n",
        "  image_folder = os.path.join(base_path, f, 'files')\n",
        "  print(image_folder)\n",
        "  file_names = os.listdir(image_folder)\n",
        "  full_path = [os.path.join(image_folder, file_name) for file_name in file_names if file_name[-36:] == '3B_AnalyticMS_SR_harmonized_clip.tif' or file_name[-18:] == '3B_Visual_clip.tif']\n",
        "  n_image = len(full_path)\n",
        "  n_image_l_pse_non_flood.append(n_image)\n",
        "  fnames_pse_non_flood.append(full_path)\n"
      ]
    },
    {
      "cell_type": "code",
      "execution_count": null,
      "metadata": {
        "id": "spE8t-YbA4WW"
      },
      "outputs": [],
      "source": [
        "n_label_date = len(label_date)\n",
        "fnames_labeled = fnames_pse[:n_label_date]"
      ]
    },
    {
      "cell_type": "code",
      "execution_count": null,
      "metadata": {
        "id": "jGBj4ei2lX02"
      },
      "outputs": [],
      "source": [
        "n_unlabel_date = len(label_date)\n",
        "fnames_unlabeled = fnames_pse[n_label_date:]"
      ]
    },
    {
      "cell_type": "markdown",
      "metadata": {
        "id": "K6P_yRU2k5RM"
      },
      "source": [
        "#### load the image data directories"
      ]
    },
    {
      "cell_type": "code",
      "execution_count": null,
      "metadata": {
        "id": "cLosswuVEfvj"
      },
      "outputs": [],
      "source": [
        "l_image_dir_pse = []\n",
        "for l in fnames_pse:\n",
        "  l_image_dir_pse.extend(l)"
      ]
    },
    {
      "cell_type": "code",
      "execution_count": null,
      "metadata": {
        "colab": {
          "base_uri": "https://localhost:8080/"
        },
        "id": "M_GJcIpkEjI_",
        "outputId": "bd531555-95be-424d-ac73-a59cbfb3a496"
      },
      "outputs": [
        {
          "data": {
            "text/plain": [
              "543"
            ]
          },
          "execution_count": 12,
          "metadata": {},
          "output_type": "execute_result"
        }
      ],
      "source": [
        "len(l_image_dir_pse)"
      ]
    },
    {
      "cell_type": "code",
      "execution_count": null,
      "metadata": {
        "id": "pBAqk1TBBil9"
      },
      "outputs": [],
      "source": [
        "l_image_dir_labeled = []\n",
        "for l in fnames_labeled:\n",
        "  l_image_dir_labeled.extend(l)"
      ]
    },
    {
      "cell_type": "code",
      "execution_count": null,
      "metadata": {
        "colab": {
          "base_uri": "https://localhost:8080/"
        },
        "id": "2uwRGF7ZBnLL",
        "outputId": "8a1fe107-74c9-4c7c-faa2-9a1679de30c1"
      },
      "outputs": [
        {
          "data": {
            "text/plain": [
              "193"
            ]
          },
          "execution_count": 14,
          "metadata": {},
          "output_type": "execute_result"
        }
      ],
      "source": [
        "len(l_image_dir_labeled)"
      ]
    },
    {
      "cell_type": "code",
      "execution_count": null,
      "metadata": {
        "id": "DNfLcuxYl4ye"
      },
      "outputs": [],
      "source": [
        "l_image_dir_unlabeled = []\n",
        "for l in fnames_unlabeled:\n",
        "  l_image_dir_unlabeled.extend(l)"
      ]
    },
    {
      "cell_type": "code",
      "execution_count": null,
      "metadata": {
        "colab": {
          "base_uri": "https://localhost:8080/"
        },
        "id": "8sX72pNzl2yP",
        "outputId": "b54742cf-0618-40d4-fdae-e3e1753ca3af"
      },
      "outputs": [
        {
          "data": {
            "text/plain": [
              "350"
            ]
          },
          "execution_count": 16,
          "metadata": {},
          "output_type": "execute_result"
        }
      ],
      "source": [
        "len(l_image_dir_unlabeled)"
      ]
    },
    {
      "cell_type": "code",
      "execution_count": null,
      "metadata": {
        "id": "m38GI3lOLXA5"
      },
      "outputs": [],
      "source": [
        "l_image_dir_pse_non_flood = []\n",
        "for l in fnames_pse_non_flood:\n",
        "  l_image_dir_pse_non_flood.extend(l)"
      ]
    },
    {
      "cell_type": "code",
      "execution_count": null,
      "metadata": {
        "colab": {
          "base_uri": "https://localhost:8080/"
        },
        "id": "WEzo4taSL0xN",
        "outputId": "675fb399-4d8f-421e-9b05-b8c9f76a78dc"
      },
      "outputs": [
        {
          "data": {
            "text/plain": [
              "925"
            ]
          },
          "execution_count": 23,
          "metadata": {},
          "output_type": "execute_result"
        }
      ],
      "source": [
        "len(l_image_dir_pse_non_flood)"
      ]
    },
    {
      "cell_type": "markdown",
      "metadata": {
        "id": "TkhkYu_mpP3u"
      },
      "source": [
        "## 2) Preprocess the data"
      ]
    },
    {
      "cell_type": "code",
      "execution_count": null,
      "metadata": {
        "id": "W5xCMJJCoOXG"
      },
      "outputs": [],
      "source": [
        "def preprocessor(data, shape=(244, 244)):\n",
        "        \"\"\"\n",
        "        This function preprocesses reads in images, resizes them to a fixed shape and\n",
        "        min/max transforms them before converting feature values to float32 numeric values\n",
        "        required by onnx files.\n",
        "        \n",
        "        params:\n",
        "            data\n",
        "                list of unprocessed images\n",
        "                      \n",
        "        returns:\n",
        "            X\n",
        "                numpy array of preprocessed image data\n",
        "                  \n",
        "        \"\"\"\n",
        "           \n",
        "        import cv2\n",
        "        import numpy as np\n",
        "\n",
        "        \"Resize a color image and min/max transform the image\"\n",
        "        img = cv2.imread(data) # Read in image from filepath.\n",
        "        img = cv2.cvtColor(img, cv2.COLOR_BGR2RGB) # cv2 reads in images in order of blue green and red, we reverse the order for ML.\n",
        "        img = cv2.resize(img, shape, interpolation = cv2.INTER_CUBIC) # Change height and width of image.\n",
        "        img = img / 255.0 # Min-max transform.\n",
        "\n",
        "\n",
        "        # Resize all the images...\n",
        "        X = np.array(img)\n",
        "        X = np.expand_dims(X, axis=0) # Expand dims to add \"1\" to object shape [1, h, w, channels].\n",
        "        X = np.array(X, dtype=np.float32) # Final shape for onnx runtime.\n",
        "        return X"
      ]
    },
    {
      "cell_type": "markdown",
      "metadata": {
        "id": "TAAb33G1jQTK"
      },
      "source": [
        "#### Preprocess the labeled data"
      ]
    },
    {
      "cell_type": "markdown",
      "metadata": {
        "id": "hkgeP8wtn7UB"
      },
      "source": [
        "**The following cell may take ~6 minutes**"
      ]
    },
    {
      "cell_type": "code",
      "execution_count": null,
      "metadata": {
        "id": "XeJiHLtYB7An"
      },
      "outputs": [],
      "source": [
        "# Import image, load to array of shape height, width, channels, then min/max transform...\n",
        "\n",
        "# Read in all images from filenames...\n",
        "preprocessed_image_data_labeled = [preprocessor(x) for x in l_image_dir_labeled] \n",
        "\n",
        "# tf.keras models require object to be an array rather than a list. (vstack converts above list to array object.)\n",
        "import numpy as np\n",
        "X_labeled = np.vstack(preprocessed_image_data_labeled) # Assigning to X to highlight that this represents feature input data for our model."
      ]
    },
    {
      "cell_type": "code",
      "execution_count": null,
      "metadata": {
        "id": "dW7WzoY1Q8e_"
      },
      "outputs": [],
      "source": [
        "train_images = X_labeled"
      ]
    },
    {
      "cell_type": "code",
      "execution_count": null,
      "metadata": {
        "colab": {
          "base_uri": "https://localhost:8080/"
        },
        "id": "Z4pAPJL3FZCl",
        "outputId": "774df29a-0648-4d82-a4d0-515c803a4b74"
      },
      "outputs": [
        {
          "data": {
            "text/plain": [
              "(193, 244, 244, 3)"
            ]
          },
          "execution_count": 19,
          "metadata": {},
          "output_type": "execute_result"
        }
      ],
      "source": [
        "train_images.shape"
      ]
    },
    {
      "cell_type": "code",
      "execution_count": null,
      "metadata": {
        "id": "zvMAykXhFnEs"
      },
      "outputs": [],
      "source": [
        "len_X_labeled = train_images.shape[0] #labeled data are all from flood days"
      ]
    },
    {
      "cell_type": "markdown",
      "metadata": {
        "id": "UtkUlw3Lk-Px"
      },
      "source": [
        "#### Preprocess the unlabeled data\n",
        "**Note: Use the same number of unlabeled images as the labeled images before pseudo labeling**"
      ]
    },
    {
      "cell_type": "code",
      "execution_count": null,
      "metadata": {
        "id": "RVXVQsiPL4ts"
      },
      "outputs": [],
      "source": [
        "count = 0\n",
        "preprocessed_image_data_pse_non_flood = []\n",
        "l_image_dir_pse_non_flood_2 = []\n",
        "\n",
        "for image_dir in l_image_dir_pse_non_flood:\n",
        "  print(count)\n",
        "  # Use the same number of unlabeled images as the labeled images before pseudo labeling\n",
        "  if count == len_X_labeled: \n",
        "    break\n",
        "  try:\n",
        "    tmp = preprocessor(image_dir)\n",
        "    preprocessed_image_data_pse_non_flood.append(tmp)\n",
        "    l_image_dir_pse_non_flood_2.append(image_dir)\n",
        "    count += 1\n",
        "  except:\n",
        "    continue\n"
      ]
    },
    {
      "cell_type": "code",
      "execution_count": null,
      "metadata": {
        "colab": {
          "base_uri": "https://localhost:8080/"
        },
        "id": "W9Z9HWa-UN4z",
        "outputId": "0f0ee063-3c5d-4ba2-8327-f83667c49b22"
      },
      "outputs": [
        {
          "data": {
            "text/plain": [
              "193"
            ]
          },
          "execution_count": 25,
          "metadata": {},
          "output_type": "execute_result"
        }
      ],
      "source": [
        "len(l_image_dir_pse_non_flood_2)"
      ]
    },
    {
      "cell_type": "code",
      "execution_count": null,
      "metadata": {
        "id": "aUAW0AbILNoK"
      },
      "outputs": [],
      "source": [
        "train_images_non_flood = np.vstack(preprocessed_image_data_pse_non_flood) # Assigning to X to highlight that this represents feature input data for our model."
      ]
    },
    {
      "cell_type": "code",
      "execution_count": null,
      "metadata": {
        "colab": {
          "base_uri": "https://localhost:8080/"
        },
        "id": "2-Rnf9CSUVZp",
        "outputId": "cb831287-4acc-466e-b04b-86230357f532"
      },
      "outputs": [
        {
          "data": {
            "text/plain": [
              "(193, 244, 244, 3)"
            ]
          },
          "execution_count": 27,
          "metadata": {},
          "output_type": "execute_result"
        }
      ],
      "source": [
        "train_images_non_flood.shape"
      ]
    },
    {
      "cell_type": "code",
      "execution_count": null,
      "metadata": {
        "id": "af3HPPWxQ3B5"
      },
      "outputs": [],
      "source": [
        "train_images_step1 = np.concatenate((train_images, train_images_non_flood))"
      ]
    },
    {
      "cell_type": "code",
      "execution_count": null,
      "metadata": {
        "colab": {
          "base_uri": "https://localhost:8080/"
        },
        "id": "1J9nTOl4UZBK",
        "outputId": "d3d7f431-a0df-4a01-e302-11545fce191b"
      },
      "outputs": [
        {
          "data": {
            "text/plain": [
              "(386, 244, 244, 3)"
            ]
          },
          "execution_count": 29,
          "metadata": {},
          "output_type": "execute_result"
        }
      ],
      "source": [
        "train_images_step1.shape"
      ]
    },
    {
      "cell_type": "code",
      "execution_count": null,
      "metadata": {
        "colab": {
          "base_uri": "https://localhost:8080/"
        },
        "id": "4UABp4cITRz9",
        "outputId": "4a40efbb-5f7d-47b9-9dbf-ea9f5c8f3c5f"
      },
      "outputs": [
        {
          "data": {
            "text/plain": [
              "((308, 244, 244, 3), (308, 2))"
            ]
          },
          "execution_count": 32,
          "metadata": {},
          "output_type": "execute_result"
        }
      ],
      "source": [
        "from sklearn.model_selection import train_test_split\n",
        "X_train, X_validation, y_train, y_validation = train_test_split(train_images_step1, train_labels_step1, test_size=0.20, random_state=0)\n",
        "X_train.shape, y_train.shape"
      ]
    },
    {
      "cell_type": "markdown",
      "metadata": {
        "id": "eqM20SyAlchk"
      },
      "source": [
        "## 3) Pseudo Labeling"
      ]
    },
    {
      "cell_type": "markdown",
      "metadata": {
        "id": "K4VOoKDDlghG"
      },
      "source": [
        "#### establish the nero networks for pseudo labeling"
      ]
    },
    {
      "cell_type": "code",
      "execution_count": null,
      "metadata": {
        "id": "Zw3dyt5OVHzZ"
      },
      "outputs": [],
      "source": [
        "\n",
        "from tensorflow.keras.models import Sequential\n",
        "from tensorflow.keras.layers import Dense, Activation, Dropout, BatchNormalization, Flatten\n",
        "from tensorflow.keras.optimizers import SGD\n",
        "from tensorflow.keras.layers import Conv2D, MaxPooling2D\n",
        "import tensorflow as tf"
      ]
    },
    {
      "cell_type": "code",
      "execution_count": null,
      "metadata": {
        "colab": {
          "base_uri": "https://localhost:8080/"
        },
        "id": "9f0KnrA8U4PU",
        "outputId": "2e963179-6a3c-4845-d093-775c7ab38877"
      },
      "outputs": [
        {
          "name": "stdout",
          "output_type": "stream",
          "text": [
            "Epoch 1/10\n",
            "10/10 [==============================] - 5s 274ms/step - loss: 0.6437 - accuracy: 0.5162 - val_loss: 0.6135 - val_accuracy: 0.4744\n",
            "Epoch 2/10\n",
            "10/10 [==============================] - 2s 190ms/step - loss: 0.6010 - accuracy: 0.6266 - val_loss: 0.5811 - val_accuracy: 0.5897\n",
            "Epoch 3/10\n",
            "10/10 [==============================] - 1s 144ms/step - loss: 0.5814 - accuracy: 0.6494 - val_loss: 0.5548 - val_accuracy: 0.6795\n",
            "Epoch 4/10\n",
            "10/10 [==============================] - 1s 141ms/step - loss: 0.5866 - accuracy: 0.6331 - val_loss: 0.5622 - val_accuracy: 0.7436\n",
            "Epoch 5/10\n",
            "10/10 [==============================] - 1s 142ms/step - loss: 0.5800 - accuracy: 0.6494 - val_loss: 0.5734 - val_accuracy: 0.6410\n",
            "Epoch 6/10\n",
            "10/10 [==============================] - 1s 144ms/step - loss: 0.5760 - accuracy: 0.6494 - val_loss: 0.5594 - val_accuracy: 0.7308\n",
            "Epoch 7/10\n",
            "10/10 [==============================] - 1s 142ms/step - loss: 0.5680 - accuracy: 0.6591 - val_loss: 0.5663 - val_accuracy: 0.6538\n",
            "Epoch 8/10\n",
            "10/10 [==============================] - 1s 142ms/step - loss: 0.5615 - accuracy: 0.6688 - val_loss: 0.5468 - val_accuracy: 0.7179\n",
            "Epoch 9/10\n",
            "10/10 [==============================] - 1s 143ms/step - loss: 0.5591 - accuracy: 0.6753 - val_loss: 0.5661 - val_accuracy: 0.6154\n",
            "Epoch 10/10\n",
            "10/10 [==============================] - 1s 139ms/step - loss: 0.5496 - accuracy: 0.6818 - val_loss: 0.5571 - val_accuracy: 0.6667\n"
          ]
        }
      ],
      "source": [
        "with tf.device('/device:GPU:0'): # \"/GPU:0\": Short-hand notation for the first GPU of your machine that is visible to TensorFlow.\n",
        "  keras_model = Sequential()\n",
        "  keras_model.add(Conv2D(filters=32, kernel_size=2, strides = (3,3), padding='same', activation='relu', input_shape=[244, 244, 3]))\n",
        "  keras_model.add(MaxPooling2D(pool_size=2))\n",
        "  keras_model.add(Conv2D(filters=32, kernel_size=2, strides = (3,3), padding='same', activation='relu'))\n",
        "  keras_model.add(MaxPooling2D(pool_size=2))\n",
        "\n",
        "  keras_model.add(Dropout(0.2))\n",
        "  keras_model.add(Flatten())\n",
        "  keras_model.add(Dense(128, activation='relu')) # One fully-connected layer of 16 neurons.\n",
        "  keras_model.add(Dropout(0.2))\n",
        "\n",
        "  keras_model.add(Dense(2, activation='softmax')) # Last fully-connected layer of 2 outputs (2 categories).\n",
        "\n",
        "  # Compile model...\n",
        "  keras_model.compile(loss='binary_crossentropy', optimizer='adam', metrics=['accuracy'])\n",
        "\n",
        "  # Fitting the NN to the Training set...\n",
        "  hist = keras_model.fit(X_train, y_train,\n",
        "                    epochs=10, verbose=1, validation_data=(X_validation, y_validation))"
      ]
    },
    {
      "cell_type": "code",
      "execution_count": null,
      "metadata": {
        "colab": {
          "base_uri": "https://localhost:8080/",
          "height": 374
        },
        "id": "Cp4bvxE1YPDx",
        "outputId": "e1f36f31-5ad7-47fd-e8ca-09368ba599e3"
      },
      "outputs": [
        {
          "name": "stderr",
          "output_type": "stream",
          "text": [
            "/usr/local/lib/python3.7/dist-packages/ipykernel_launcher.py:7: DeprecationWarning: `np.int` is a deprecated alias for the builtin `int`. To silence this warning, use `int` by itself. Doing this will not modify any behavior and is safe. When replacing `np.int`, you may wish to use e.g. `np.int64` or `np.int32` to specify the precision. If you wish to review your current use, check the release note link for additional information.\n",
            "Deprecated in NumPy 1.20; for more details and guidance: https://numpy.org/devdocs/release/1.20.0-notes.html#deprecations\n",
            "  import sys\n"
          ]
        },
        {
          "data": {
            "text/plain": [
              "[Text(0.5, 1.0, 'MVP - before pseudo labeling')]"
            ]
          },
          "execution_count": 35,
          "metadata": {},
          "output_type": "execute_result"
        },
        {
          "data": {
            "image/png": "[encoded data removed]",
            "text/plain": [
              "<Figure size 432x288 with 2 Axes>"
            ]
          },
          "metadata": {
            "needs_background": "light"
          },
          "output_type": "display_data"
        }
      ],
      "source": [
        "import seaborn as sns\n",
        "from sklearn.metrics import confusion_matrix\n",
        "pred = keras_model.predict(X_validation)\n",
        "\n",
        "#y_pred = model.predict_generator(test_generator,steps=n_pred//10,verbose=1)\n",
        "\n",
        "labels = (pred > 0.5).astype(np.int)\n",
        "\n",
        "conf = confusion_matrix(y_validation.iloc[:,0], labels[:,0])\n",
        "tn, fp, fn, tp = confusion_matrix(y_validation.iloc[:,0], labels[:,0]).ravel()\n",
        "\n",
        "group_names = ['True Neg','False Pos','False Neg','True Pos']\n",
        "group_counts = [\"{0:0.0f}\".format(value) for value in\n",
        "                conf.flatten()]\n",
        "group_percentages = [\"{0:.2%}\".format(value) for value in\n",
        "                     conf.flatten()/np.sum(conf)]\n",
        "labels = [f\"{v1}\\n{v2}\\n{v3}\" for v1, v2, v3 in\n",
        "          zip(group_names,group_counts,group_percentages)]\n",
        "labels = np.asarray(labels).reshape(2,2)\n",
        "sns.heatmap(conf, annot=labels, fmt='', cmap='Blues').set(title='MVP - before pseudo labeling')"
      ]
    },
    {
      "cell_type": "markdown",
      "metadata": {
        "id": "iuVKiLyy2g5w"
      },
      "source": [
        "### generate pseudo labels using previous model"
      ]
    },
    {
      "cell_type": "code",
      "execution_count": null,
      "metadata": {
        "id": "VsFvlihVo5bO"
      },
      "outputs": [],
      "source": [
        "\n",
        "preprocessed_image_data_unlabel = [preprocessor(x) for x in l_image_dir_unlabeled] \n",
        "\n",
        "# tf.keras models require object to be an array rather than a list. (vstack converts above list to array object.)\n",
        "import numpy as np\n",
        "unlabel_images = np.vstack(preprocessed_image_data_unlabel) # Assigning to X to highlight that this represents feature input data for our model."
      ]
    },
    {
      "cell_type": "code",
      "execution_count": null,
      "metadata": {
        "colab": {
          "base_uri": "https://localhost:8080/"
        },
        "id": "bkAMDkg5pbEY",
        "outputId": "93e0720a-2b9e-4cb0-e337-ef11aa81a5da"
      },
      "outputs": [
        {
          "data": {
            "text/plain": [
              "(350, 244, 244, 3)"
            ]
          },
          "execution_count": 37,
          "metadata": {},
          "output_type": "execute_result"
        }
      ],
      "source": [
        "unlabel_images.shape"
      ]
    },
    {
      "cell_type": "code",
      "execution_count": null,
      "metadata": {
        "id": "UWdByjUw2hz-"
      },
      "outputs": [],
      "source": [
        "# MVP model\n",
        "y_pred = (keras_model.predict(unlabel_images) > 0.5).astype(\"int32\")"
      ]
    },
    {
      "cell_type": "code",
      "execution_count": null,
      "metadata": {
        "id": "gMVf-mXus4nr"
      },
      "outputs": [],
      "source": [
        "y_pred"
      ]
    },
    {
      "cell_type": "code",
      "execution_count": null,
      "metadata": {
        "colab": {
          "base_uri": "https://localhost:8080/"
        },
        "id": "-tC1M1SC2znM",
        "outputId": "5566dbb7-0641-46e0-fcfc-c53c39470b16"
      },
      "outputs": [
        {
          "data": {
            "text/plain": [
              "(386, 2)"
            ]
          },
          "execution_count": 40,
          "metadata": {},
          "output_type": "execute_result"
        }
      ],
      "source": [
        "train_labels_step1.shape"
      ]
    },
    {
      "cell_type": "markdown",
      "metadata": {
        "id": "d6cRwSIrl37Y"
      },
      "source": [
        "#### merge the previous training data and pseudo-labeled data"
      ]
    },
    {
      "cell_type": "code",
      "execution_count": null,
      "metadata": {
        "id": "6jAvbu8opfrR"
      },
      "outputs": [],
      "source": [
        "new_dataset_images = np.concatenate((train_images_step1, unlabel_images))\n",
        "new_dataset_labels = np.concatenate((train_labels_step1, y_pred))"
      ]
    },
    {
      "cell_type": "code",
      "execution_count": null,
      "metadata": {
        "colab": {
          "base_uri": "https://localhost:8080/"
        },
        "id": "A1dRsT6wp4ss",
        "outputId": "f18e8828-e69a-4b85-9556-87b8577b9f19"
      },
      "outputs": [
        {
          "data": {
            "text/plain": [
              "(736, 244, 244, 3)"
            ]
          },
          "execution_count": 42,
          "metadata": {},
          "output_type": "execute_result"
        }
      ],
      "source": [
        "new_dataset_images.shape"
      ]
    },
    {
      "cell_type": "code",
      "execution_count": null,
      "metadata": {
        "colab": {
          "base_uri": "https://localhost:8080/"
        },
        "id": "MJJbUKDHp6Tj",
        "outputId": "52a33369-faf9-4022-f49b-b72e1fa6efdb"
      },
      "outputs": [
        {
          "data": {
            "text/plain": [
              "(736, 2)"
            ]
          },
          "execution_count": 43,
          "metadata": {},
          "output_type": "execute_result"
        }
      ],
      "source": [
        "new_dataset_labels.shape"
      ]
    },
    {
      "cell_type": "markdown",
      "metadata": {
        "id": "Yj0RCGgzp79j"
      },
      "source": [
        "#### Split combined data for training the final model"
      ]
    },
    {
      "cell_type": "code",
      "execution_count": null,
      "metadata": {
        "colab": {
          "base_uri": "https://localhost:8080/"
        },
        "id": "Z-fuxm1Z1FmA",
        "outputId": "7a0fb66d-c679-41da-f9a2-6488b94c796e"
      },
      "outputs": [
        {
          "data": {
            "text/plain": [
              "((658, 244, 244, 3), (658, 2), (78, 244, 244, 3), (78, 2))"
            ]
          },
          "execution_count": 44,
          "metadata": {},
          "output_type": "execute_result"
        }
      ],
      "source": [
        "X_train_new = np.concatenate((X_train, unlabel_images))\n",
        "y_train_new = np.concatenate((y_train, y_pred))\n",
        "X_validation_new = X_validation\n",
        "y_validation_new = y_validation\n",
        "X_train_new.shape, y_train_new.shape, X_validation_new.shape, y_validation_new.shape\n"
      ]
    },
    {
      "cell_type": "markdown",
      "metadata": {
        "id": "bhVeEcf3-owR"
      },
      "source": [
        "## 4) Model"
      ]
    },
    {
      "cell_type": "markdown",
      "metadata": {
        "id": "Guq1EYs2mY_0"
      },
      "source": [
        "#### Model Structure"
      ]
    },
    {
      "cell_type": "code",
      "execution_count": null,
      "metadata": {
        "id": "lu64_n_Gq4w6"
      },
      "outputs": [],
      "source": [
        "from tensorflow.keras.optimizers import Adam\n",
        "\n",
        "# Create a Function that Builds the Model\n",
        "def compile_model(learn_rate = 0.001, filter_number = 32, kernel_number = 2, d_strides = (3,3), activation_fun1 = 'relu', activation_fun2 = 'relu', d_pool_size = 2, neuron = 128):\n",
        "\n",
        "    with tf.device('/device:GPU:0'): # \"/GPU:0\": Short-hand notation for the first GPU of your machine that is visible to TensorFlow.\n",
        "      keras_model = Sequential()\n",
        "      keras_model.add(Conv2D(filters=filter_number, kernel_size=kernel_number, strides = d_strides, padding='same', activation=activation_fun1, input_shape=[244, 244, 3]))\n",
        "      keras_model.add(MaxPooling2D(pool_size=2))\n",
        "      keras_model.add(Conv2D(filters=filter_number, kernel_size=kernel_number, strides = d_strides, padding='same', activation=activation_fun1))\n",
        "      keras_model.add(MaxPooling2D(pool_size=2))\n",
        "\n",
        "      keras_model.add(Dropout(0.2))\n",
        "      keras_model.add(Flatten())\n",
        "      keras_model.add(Dense(neuron, activation=activation_fun2)) # One fully-connected layer of 16 neurons.\n",
        "      keras_model.add(Dropout(0.2))\n",
        "\n",
        "      keras_model.add(Dense(d_pool_size, activation='softmax')) # Last fully-connected layer of 2 outputs (2 categories).\n",
        "\n",
        "      # Compile model...\n",
        "      keras_model.compile(loss='binary_crossentropy', optimizer= Adam(learning_rate = learn_rate), metrics=['accuracy'])\n",
        "    return keras_model"
      ]
    },
    {
      "cell_type": "code",
      "execution_count": null,
      "metadata": {
        "colab": {
          "base_uri": "https://localhost:8080/"
        },
        "id": "V_KkD8xxq5sP",
        "outputId": "3d418d5f-dde4-43f4-e756-f26a66998d37"
      },
      "outputs": [
        {
          "name": "stdout",
          "output_type": "stream",
          "text": [
            "Epoch 1/5\n",
            "24/24 [==============================] - 4s 130ms/step - loss: 0.6504 - accuracy: 0.6398 - val_loss: 0.5756 - val_accuracy: 0.6667\n",
            "Epoch 2/5\n",
            "24/24 [==============================] - 3s 121ms/step - loss: 0.5404 - accuracy: 0.7432 - val_loss: 0.7025 - val_accuracy: 0.5641\n",
            "Epoch 3/5\n",
            "24/24 [==============================] - 3s 121ms/step - loss: 0.4929 - accuracy: 0.7690 - val_loss: 0.6364 - val_accuracy: 0.7051\n",
            "Epoch 4/5\n",
            "24/24 [==============================] - 3s 121ms/step - loss: 0.4541 - accuracy: 0.8191 - val_loss: 0.6391 - val_accuracy: 0.6795\n",
            "Epoch 5/5\n",
            "24/24 [==============================] - 3s 120ms/step - loss: 0.4466 - accuracy: 0.8237 - val_loss: 0.7144 - val_accuracy: 0.6154\n"
          ]
        }
      ],
      "source": [
        "model = compile_model(learn_rate = 0.001, filter_number = 32, kernel_number = 2, d_strides = (3,3), activation_fun1 = 'relu', activation_fun2 = 'relu', d_pool_size = 2, neuron = 128)\n",
        "hist = model.fit(X_train_new, y_train_new,\n",
        "                    epochs=5, batch_size = 28, validation_data=(X_validation_new, y_validation_new))"
      ]
    },
    {
      "cell_type": "code",
      "execution_count": null,
      "metadata": {
        "colab": {
          "base_uri": "https://localhost:8080/",
          "height": 573
        },
        "id": "fm76IslUtvzD",
        "outputId": "870ea32d-e9fa-4af8-db36-7a4d9486b15d"
      },
      "outputs": [
        {
          "data": {
            "image/png": "[encoded data removed]",
            "text/plain": [
              "<Figure size 432x288 with 1 Axes>"
            ]
          },
          "metadata": {
            "needs_background": "light"
          },
          "output_type": "display_data"
        },
        {
          "data": {
            "image/png": "[encoded data removed]",
            "text/plain": [
              "<Figure size 432x288 with 1 Axes>"
            ]
          },
          "metadata": {
            "needs_background": "light"
          },
          "output_type": "display_data"
        }
      ],
      "source": [
        "import matplotlib.pyplot as plt\n",
        "\"\"\" Plot the train and validation Loss \"\"\"\n",
        "\n",
        "plt.plot(hist.history['loss'])\n",
        "plt.plot(hist.history['val_loss'])\n",
        "plt.title('model loss(base model)')\n",
        "plt.ylabel('loss')\n",
        "plt.xlabel('epoch')\n",
        "#plt.ylim(0.4,0.8)\n",
        "plt.legend(['train', 'validation'], loc='upper left')\n",
        "plt.show()\n",
        "\n",
        "\"\"\" Plot the train and validation Accuracy \"\"\"\n",
        "\n",
        "plt.plot(hist.history['accuracy'])\n",
        "plt.plot(hist.history['val_accuracy'])\n",
        "plt.title('model accuracy(base model)')\n",
        "plt.ylabel('accuracy')\n",
        "plt.xlabel('epoch')\n",
        "#plt.ylim(0.5,0.8)\n",
        "plt.legend(['train', 'validation'], loc='upper left')\n",
        "plt.show()"
      ]
    },
    {
      "cell_type": "code",
      "execution_count": null,
      "metadata": {
        "colab": {
          "base_uri": "https://localhost:8080/",
          "height": 374
        },
        "id": "8lbTWbsurUoM",
        "outputId": "d2a3eb48-eabc-473a-b4d7-8f8e792e33ce"
      },
      "outputs": [
        {
          "name": "stderr",
          "output_type": "stream",
          "text": [
            "/usr/local/lib/python3.7/dist-packages/ipykernel_launcher.py:7: DeprecationWarning: `np.int` is a deprecated alias for the builtin `int`. To silence this warning, use `int` by itself. Doing this will not modify any behavior and is safe. When replacing `np.int`, you may wish to use e.g. `np.int64` or `np.int32` to specify the precision. If you wish to review your current use, check the release note link for additional information.\n",
            "Deprecated in NumPy 1.20; for more details and guidance: https://numpy.org/devdocs/release/1.20.0-notes.html#deprecations\n",
            "  import sys\n"
          ]
        },
        {
          "data": {
            "text/plain": [
              "[Text(0.5, 1.0, 'MVP - without preprocessing')]"
            ]
          },
          "execution_count": 48,
          "metadata": {},
          "output_type": "execute_result"
        },
        {
          "data": {
            "image/png": "[encoded data removed]",
            "text/plain": [
              "<Figure size 432x288 with 2 Axes>"
            ]
          },
          "metadata": {
            "needs_background": "light"
          },
          "output_type": "display_data"
        }
      ],
      "source": [
        "import seaborn as sns\n",
        "from sklearn.metrics import confusion_matrix\n",
        "pred = model.predict(X_validation_new)\n",
        "\n",
        "#y_pred = model.predict_generator(test_generator,steps=n_pred//10,verbose=1)\n",
        "\n",
        "labels = (pred > 0.5).astype(np.int)\n",
        "\n",
        "conf = confusion_matrix(y_validation_new.iloc[:,0], labels[:,0])\n",
        "tn, fp, fn, tp = confusion_matrix(y_validation_new.iloc[:,0], labels[:,0]).ravel()\n",
        "\n",
        "group_names = ['True Neg','False Pos','False Neg','True Pos']\n",
        "group_counts = [\"{0:0.0f}\".format(value) for value in\n",
        "                conf.flatten()]\n",
        "group_percentages = [\"{0:.2%}\".format(value) for value in\n",
        "                     conf.flatten()/np.sum(conf)]\n",
        "labels = [f\"{v1}\\n{v2}\\n{v3}\" for v1, v2, v3 in\n",
        "          zip(group_names,group_counts,group_percentages)]\n",
        "labels = np.asarray(labels).reshape(2,2)\n",
        "sns.heatmap(conf, annot=labels, fmt='', cmap='Blues').set(title='MVP - without preprocessing')"
      ]
    },
    {
      "cell_type": "markdown",
      "metadata": {
        "id": "jmjk2JLtmrZI"
      },
      "source": [
        "### Model Finetuning"
      ]
    },
    {
      "cell_type": "markdown",
      "metadata": {
        "id": "joEiQ73EAG1c"
      },
      "source": [
        "### Convolutional Layer"
      ]
    },
    {
      "cell_type": "markdown",
      "metadata": {
        "id": "Ds5cZ9dt1iYG"
      },
      "source": [
        "#### Learning Rate"
      ]
    },
    {
      "cell_type": "code",
      "execution_count": null,
      "metadata": {
        "id": "c_WbTw6H_sna"
      },
      "outputs": [],
      "source": [
        "# Let's build a convnet model...\n",
        "from tensorflow.keras.models import Sequential\n",
        "from tensorflow.keras.layers import Dense, Activation, Dropout, BatchNormalization, Flatten\n",
        "from tensorflow.keras.optimizers import SGD\n",
        "from tensorflow.keras.layers import Conv2D, MaxPooling2D\n",
        "import tensorflow as tf\n",
        "from keras.wrappers.scikit_learn import KerasClassifier\n",
        "from sklearn.model_selection import GridSearchCV"
      ]
    },
    {
      "cell_type": "code",
      "execution_count": null,
      "metadata": {
        "colab": {
          "base_uri": "https://localhost:8080/"
        },
        "id": "NxojIaoh_bL9",
        "outputId": "fa446c12-3c20-4b6f-8286-11cf48e648c7"
      },
      "outputs": [
        {
          "name": "stdout",
          "output_type": "stream",
          "text": [
            "Best score is 0.69, Best parameter is {'learn_rate': 0.001}\n",
            "0.4910 (0.0490) with {'learn_rate': 1e-05}\n",
            "0.5227 (0.0598) with {'learn_rate': 0.0001}\n",
            "0.6887 (0.0814) with {'learn_rate': 0.001}\n",
            "0.6761 (0.0821) with {'learn_rate': 0.01}\n",
            "0.6779 (0.1042) with {'learn_rate': 0.02}\n",
            "0.5910 (0.0829) with {'learn_rate': 0.05}\n",
            "0.5412 (0.1048) with {'learn_rate': 0.1}\n"
          ]
        }
      ],
      "source": [
        "import warnings\n",
        "warnings.simplefilter(action='ignore', category=DeprecationWarning)\n",
        "# Establish the Model Our New Function will Inform\n",
        "basemodel = compile_model()\n",
        "\n",
        "# Define the Grid Search Parameters\n",
        "learn_rate = [0.00001, 0.0001, 0.001, 0.01, 0.02, 0.05, 0.1]\n",
        "\n",
        "# Set Dictionary for the Parameters\n",
        "param_grid = dict(learn_rate=learn_rate) \n",
        "\n",
        "# Call the new Model Function in the KerasClassifier Package \n",
        "model = KerasClassifier(build_fn = compile_model, verbose=0) \n",
        "\n",
        "# Use n_jobs=-1 to Parallelize Across Available Processors (to speed it up)\n",
        "grid = GridSearchCV(estimator=model, param_grid=param_grid)\n",
        "grid = grid.fit(X_train_new, y_train_new)\n",
        "\n",
        "# Print Best Training Results\n",
        "print(\"Best score is {:.2f},\".format(grid.best_score_),\"Best parameter is {}\".format(grid.best_params_))\n",
        "\n",
        "# Summarize Training Results\n",
        "means = grid.cv_results_['mean_test_score']\n",
        "stds = grid.cv_results_['std_test_score']\n",
        "params = grid.cv_results_['params']\n",
        "for mean, stdev, param in zip(means, stds, params):\n",
        "    print(\"{:.4f} ({:.4f}) with {}\".format(mean, stdev, param))"
      ]
    },
    {
      "cell_type": "markdown",
      "metadata": {
        "id": "i27Z73lPBOnl"
      },
      "source": [
        "#### activation function"
      ]
    },
    {
      "cell_type": "code",
      "execution_count": null,
      "metadata": {
        "colab": {
          "base_uri": "https://localhost:8080/"
        },
        "id": "KjFIZ1BbBQz9",
        "outputId": "18342a29-094c-458c-93bf-63016e31cb11"
      },
      "outputs": [
        {
          "name": "stdout",
          "output_type": "stream",
          "text": [
            "Best score is 0.75, Best parameter is {'activation_fun1': 'relu', 'activation_fun2': 'tanh'}\n",
            "0.6795 (0.0610) with {'activation_fun1': 'relu', 'activation_fun2': 'relu'}\n",
            "0.7480 (0.0845) with {'activation_fun1': 'relu', 'activation_fun2': 'tanh'}\n",
            "0.6277 (0.0322) with {'activation_fun1': 'relu', 'activation_fun2': 'softmax'}\n",
            "0.7314 (0.1103) with {'activation_fun1': 'relu', 'activation_fun2': 'sigmoid'}\n",
            "0.7037 (0.0560) with {'activation_fun1': 'tanh', 'activation_fun2': 'relu'}\n",
            "0.7343 (0.0797) with {'activation_fun1': 'tanh', 'activation_fun2': 'tanh'}\n",
            "0.6337 (0.0431) with {'activation_fun1': 'tanh', 'activation_fun2': 'softmax'}\n",
            "0.6673 (0.0503) with {'activation_fun1': 'tanh', 'activation_fun2': 'sigmoid'}\n",
            "0.5579 (0.0695) with {'activation_fun1': 'softmax', 'activation_fun2': 'relu'}\n",
            "0.4893 (0.0899) with {'activation_fun1': 'softmax', 'activation_fun2': 'tanh'}\n",
            "0.5579 (0.0695) with {'activation_fun1': 'softmax', 'activation_fun2': 'softmax'}\n",
            "0.5579 (0.0695) with {'activation_fun1': 'softmax', 'activation_fun2': 'sigmoid'}\n",
            "0.4845 (0.0892) with {'activation_fun1': 'sigmoid', 'activation_fun2': 'relu'}\n",
            "0.5319 (0.0847) with {'activation_fun1': 'sigmoid', 'activation_fun2': 'tanh'}\n",
            "0.5579 (0.0695) with {'activation_fun1': 'sigmoid', 'activation_fun2': 'softmax'}\n",
            "0.5579 (0.0695) with {'activation_fun1': 'sigmoid', 'activation_fun2': 'sigmoid'}\n"
          ]
        }
      ],
      "source": [
        "import warnings\n",
        "warnings.simplefilter(action='ignore', category=DeprecationWarning)\n",
        "# Establish the Model Our New Function will Inform\n",
        "basemodel = compile_model()\n",
        "\n",
        "# Define the Grid Search Parameters\n",
        "activation_fun1 = ['relu', 'tanh', 'softmax', 'sigmoid']\n",
        "activation_fun2 = ['relu', 'tanh', 'softmax', 'sigmoid']\n",
        "\n",
        "# Set Dictionary for the Parameters\n",
        "param_grid = dict(activation_fun1=activation_fun1, activation_fun2 = activation_fun2) \n",
        "\n",
        "# Call the new Model Function in the KerasClassifier Package \n",
        "model = KerasClassifier(build_fn = compile_model, verbose=0) \n",
        "\n",
        "# Use n_jobs=-1 to Parallelize Across Available Processors (to speed it up)\n",
        "grid = GridSearchCV(estimator=model, param_grid=param_grid)\n",
        "grid = grid.fit(X_train_new, y_train_new)\n",
        "\n",
        "# Print Best Training Results\n",
        "print(\"Best score is {:.2f},\".format(grid.best_score_),\"Best parameter is {}\".format(grid.best_params_))\n",
        "\n",
        "# Summarize Training Results\n",
        "means = grid.cv_results_['mean_test_score']\n",
        "stds = grid.cv_results_['std_test_score']\n",
        "params = grid.cv_results_['params']\n",
        "for mean, stdev, param in zip(means, stds, params):\n",
        "    print(\"{:.4f} ({:.4f}) with {}\".format(mean, stdev, param))"
      ]
    },
    {
      "cell_type": "markdown",
      "metadata": {
        "id": "rNZg63PUAq9U"
      },
      "source": [
        "#### Adjusting Activation Function and learning rate"
      ]
    },
    {
      "cell_type": "code",
      "execution_count": null,
      "metadata": {
        "colab": {
          "base_uri": "https://localhost:8080/"
        },
        "id": "ymSwIhhv_bJN",
        "outputId": "92dfa7eb-3870-46ea-ab89-49b6211cc542"
      },
      "outputs": [
        {
          "name": "stderr",
          "output_type": "stream",
          "text": [
            "/usr/local/lib/python3.7/dist-packages/joblib/externals/loky/process_executor.py:705: UserWarning: A worker stopped while some jobs were given to the executor. This can be caused by a too short worker timeout or by a memory leak.\n",
            "  \"timeout or by a memory leak.\", UserWarning\n"
          ]
        },
        {
          "name": "stdout",
          "output_type": "stream",
          "text": [
            "Best score is 0.7541, Best parameter is {'activation_fun1': 'relu', 'learn_rate': 0.01}\n",
            "0.5181 (0.1052) with {'activation_fun1': 'relu', 'learn_rate': 0.0001}\n",
            "0.6963 (0.0701) with {'activation_fun1': 'relu', 'learn_rate': 0.001}\n",
            "0.7541 (0.0817) with {'activation_fun1': 'relu', 'learn_rate': 0.01}\n",
            "0.5488 (0.0762) with {'activation_fun1': 'relu', 'learn_rate': 0.1}\n",
            "0.5469 (0.0991) with {'activation_fun1': 'tanh', 'learn_rate': 0.0001}\n",
            "0.7236 (0.0547) with {'activation_fun1': 'tanh', 'learn_rate': 0.001}\n",
            "0.6094 (0.1370) with {'activation_fun1': 'tanh', 'learn_rate': 0.01}\n",
            "0.5549 (0.0875) with {'activation_fun1': 'tanh', 'learn_rate': 0.1}\n"
          ]
        }
      ],
      "source": [
        "warnings.simplefilter(action='ignore', category=DeprecationWarning)\n",
        "# Establish the Model Our New Function will Inform\n",
        "basemodel = compile_model()\n",
        "\n",
        "# Define the Grid Search Parameters \n",
        "learn_rate = [0.0001, 0.001, 0.01, 0.1]\n",
        "activation_fun1 = ['relu', 'tanh']\n",
        "\n",
        "param_grid = dict(learn_rate=learn_rate, activation_fun1=activation_fun1)\n",
        "\n",
        "# Call the new Model Function in the KerasClassifier Package \n",
        "model = KerasClassifier(build_fn = compile_model, verbose=0) \n",
        "\n",
        "# Use n_jobs=-1 to Parallelize Across Available Processors (to speed it up)\n",
        "grid = GridSearchCV(estimator=model, param_grid=param_grid, n_jobs = -1)\n",
        "grid = grid.fit(X_train_new, y_train_new)\n",
        "\n",
        "# Print Best Training Results\n",
        "print(\"Best score is {:.4f},\".format(grid.best_score_),\"Best parameter is {}\".format(grid.best_params_))\n",
        "\n",
        "# Summarize Training Results\n",
        "means = grid.cv_results_['mean_test_score']\n",
        "stds = grid.cv_results_['std_test_score']\n",
        "params = grid.cv_results_['params']\n",
        "for mean, stdev, param in zip(means, stds, params):\n",
        "    print(\"{:.4f} ({:.4f}) with {}\".format(mean, stdev, param))"
      ]
    },
    {
      "cell_type": "code",
      "execution_count": null,
      "metadata": {
        "colab": {
          "base_uri": "https://localhost:8080/"
        },
        "id": "xIMuW_O_CZ-V",
        "outputId": "beacba55-a9a2-4420-f7da-10b53a94ab32"
      },
      "outputs": [
        {
          "name": "stdout",
          "output_type": "stream",
          "text": [
            "Epoch 1/5\n",
            "24/24 [==============================] - 4s 129ms/step - loss: 0.6042 - accuracy: 0.6869 - val_loss: 0.5900 - val_accuracy: 0.6410\n",
            "Epoch 2/5\n",
            "24/24 [==============================] - 3s 119ms/step - loss: 0.5042 - accuracy: 0.7736 - val_loss: 0.6053 - val_accuracy: 0.7051\n",
            "Epoch 3/5\n",
            "24/24 [==============================] - 3s 120ms/step - loss: 0.5043 - accuracy: 0.7629 - val_loss: 0.5658 - val_accuracy: 0.7179\n",
            "Epoch 4/5\n",
            "24/24 [==============================] - 3s 119ms/step - loss: 0.4518 - accuracy: 0.7918 - val_loss: 0.6500 - val_accuracy: 0.6923\n",
            "Epoch 5/5\n",
            "24/24 [==============================] - 3s 118ms/step - loss: 0.4416 - accuracy: 0.8055 - val_loss: 0.7031 - val_accuracy: 0.6410\n"
          ]
        }
      ],
      "source": [
        "model = compile_model(learn_rate = 0.01, filter_number = 32, kernel_number = 2, d_strides = (3,3), activation_fun1 = 'relu', activation_fun2 = 'tanh', d_pool_size = 2, neuron = 128)\n",
        "hist = model.fit(X_train_new, y_train_new,\n",
        "                    epochs=5, batch_size = 28, validation_data=(X_validation_new, y_validation_new))"
      ]
    },
    {
      "cell_type": "code",
      "execution_count": null,
      "metadata": {
        "colab": {
          "base_uri": "https://localhost:8080/",
          "height": 573
        },
        "id": "y1t1Z82pCfN9",
        "outputId": "5f8d092d-620f-483c-aa6a-f66dfb75cc6d"
      },
      "outputs": [
        {
          "data": {
            "image/png": "[encoded data removed]",
            "text/plain": [
              "<Figure size 432x288 with 1 Axes>"
            ]
          },
          "metadata": {
            "needs_background": "light"
          },
          "output_type": "display_data"
        },
        {
          "data": {
            "image/png": "[encoded data removed]",
            "text/plain": [
              "<Figure size 432x288 with 1 Axes>"
            ]
          },
          "metadata": {
            "needs_background": "light"
          },
          "output_type": "display_data"
        }
      ],
      "source": [
        "import matplotlib.pyplot as plt\n",
        "\"\"\" Plot the train and validation Loss \"\"\"\n",
        "\n",
        "plt.plot(hist.history['loss'])\n",
        "plt.plot(hist.history['val_loss'])\n",
        "plt.title('model loss(base model)')\n",
        "plt.ylabel('loss')\n",
        "plt.xlabel('epoch')\n",
        "#plt.ylim(0.4,0.8)\n",
        "plt.legend(['train', 'validation'], loc='upper left')\n",
        "plt.show()\n",
        "\n",
        "\"\"\" Plot the train and validation Accuracy \"\"\"\n",
        "\n",
        "plt.plot(hist.history['accuracy'])\n",
        "plt.plot(hist.history['val_accuracy'])\n",
        "plt.title('model accuracy(base model)')\n",
        "plt.ylabel('accuracy')\n",
        "plt.xlabel('epoch')\n",
        "#plt.ylim(0.5,0.8)\n",
        "plt.legend(['train', 'validation'], loc='upper left')\n",
        "plt.show()"
      ]
    },
    {
      "cell_type": "code",
      "execution_count": null,
      "metadata": {
        "colab": {
          "base_uri": "https://localhost:8080/",
          "height": 299
        },
        "id": "h3f7pgXsDpEN",
        "outputId": "3524ce7b-44f1-4b6c-847f-0cff1c0163d0"
      },
      "outputs": [
        {
          "data": {
            "text/plain": [
              "[Text(0.5, 1.0, 'Fine Tune1')]"
            ]
          },
          "execution_count": 57,
          "metadata": {},
          "output_type": "execute_result"
        },
        {
          "data": {
            "image/png": "[encoded data removed]",
            "text/plain": [
              "<Figure size 432x288 with 2 Axes>"
            ]
          },
          "metadata": {
            "needs_background": "light"
          },
          "output_type": "display_data"
        }
      ],
      "source": [
        "import seaborn as sns\n",
        "from sklearn.metrics import confusion_matrix\n",
        "pred = model.predict(X_validation_new)\n",
        "\n",
        "#y_pred = model.predict_generator(test_generator,steps=n_pred//10,verbose=1)\n",
        "\n",
        "labels = (pred > 0.5).astype(np.int)\n",
        "\n",
        "conf = confusion_matrix(y_validation_new.iloc[:,0], labels[:,0])\n",
        "tn, fp, fn, tp = confusion_matrix(y_validation_new.iloc[:,0], labels[:,0]).ravel()\n",
        "\n",
        "group_names = ['True Neg','False Pos','False Neg','True Pos']\n",
        "group_counts = [\"{0:0.0f}\".format(value) for value in\n",
        "                conf.flatten()]\n",
        "group_percentages = [\"{0:.2%}\".format(value) for value in\n",
        "                     conf.flatten()/np.sum(conf)]\n",
        "labels = [f\"{v1}\\n{v2}\\n{v3}\" for v1, v2, v3 in\n",
        "          zip(group_names,group_counts,group_percentages)]\n",
        "labels = np.asarray(labels).reshape(2,2)\n",
        "sns.heatmap(conf, annot=labels, fmt='', cmap='Blues').set(title='Fine Tune1')"
      ]
    },
    {
      "cell_type": "markdown",
      "metadata": {
        "id": "Rbw873rXA-ig"
      },
      "source": [
        "#### Adjusting Kernel_size"
      ]
    },
    {
      "cell_type": "code",
      "execution_count": null,
      "metadata": {
        "colab": {
          "base_uri": "https://localhost:8080/"
        },
        "id": "OaTqcSBG_bGN",
        "outputId": "f72268ea-4ee1-4c35-dd5d-8f7a80f94480"
      },
      "outputs": [
        {
          "name": "stderr",
          "output_type": "stream",
          "text": [
            "/usr/local/lib/python3.7/dist-packages/joblib/externals/loky/process_executor.py:705: UserWarning: A worker stopped while some jobs were given to the executor. This can be caused by a too short worker timeout or by a memory leak.\n",
            "  \"timeout or by a memory leak.\", UserWarning\n"
          ]
        },
        {
          "name": "stdout",
          "output_type": "stream",
          "text": [
            "Best score is 0.7542, Best parameter is {'activation_fun1': 'relu', 'kernel_number': 1}\n",
            "0.7542 (0.1088) with {'activation_fun1': 'relu', 'kernel_number': 1}\n",
            "0.7132 (0.1372) with {'activation_fun1': 'relu', 'kernel_number': 2}\n",
            "0.7163 (0.1392) with {'activation_fun1': 'relu', 'kernel_number': 3}\n",
            "0.7206 (0.0774) with {'activation_fun1': 'relu', 'kernel_number': 4}\n",
            "0.7144 (0.0578) with {'activation_fun1': 'tanh', 'kernel_number': 1}\n",
            "0.7190 (0.0597) with {'activation_fun1': 'tanh', 'kernel_number': 2}\n",
            "0.7190 (0.0766) with {'activation_fun1': 'tanh', 'kernel_number': 3}\n",
            "0.6916 (0.0456) with {'activation_fun1': 'tanh', 'kernel_number': 4}\n"
          ]
        }
      ],
      "source": [
        "warnings.simplefilter(action='ignore', category=DeprecationWarning)\n",
        "# Establish the Model Our New Function will Inform\n",
        "basemodel = compile_model()\n",
        "\n",
        "# Define the Grid Search Parameters \n",
        "kernel_number = [1, 2, 3, 4]\n",
        "activation_fun1 = ['relu', 'tanh']\n",
        "\n",
        "param_grid = dict(kernel_number=kernel_number, activation_fun1=activation_fun1)\n",
        "\n",
        "# Call the new Model Function in the KerasClassifier Package \n",
        "model = KerasClassifier(build_fn = compile_model, verbose=0) \n",
        "\n",
        "# Use n_jobs=-1 to Parallelize Across Available Processors (to speed it up)\n",
        "grid = GridSearchCV(estimator=model, param_grid=param_grid, n_jobs = -1)\n",
        "grid = grid.fit(X_train_new, y_train_new)\n",
        "\n",
        "# Print Best Training Results\n",
        "print(\"Best score is {:.4f},\".format(grid.best_score_),\"Best parameter is {}\".format(grid.best_params_))\n",
        "\n",
        "# Summarize Training Results\n",
        "means = grid.cv_results_['mean_test_score']\n",
        "stds = grid.cv_results_['std_test_score']\n",
        "params = grid.cv_results_['params']\n",
        "for mean, stdev, param in zip(means, stds, params):\n",
        "    print(\"{:.4f} ({:.4f}) with {}\".format(mean, stdev, param))"
      ]
    },
    {
      "cell_type": "code",
      "execution_count": null,
      "metadata": {
        "colab": {
          "base_uri": "https://localhost:8080/"
        },
        "id": "dNKlRZLKFPQI",
        "outputId": "07d0f479-add7-4855-c478-b1ed874c5305"
      },
      "outputs": [
        {
          "name": "stdout",
          "output_type": "stream",
          "text": [
            "Epoch 1/5\n",
            "24/24 [==============================] - 3s 113ms/step - loss: 0.6260 - accuracy: 0.6413 - val_loss: 0.6496 - val_accuracy: 0.7051\n",
            "Epoch 2/5\n",
            "24/24 [==============================] - 4s 151ms/step - loss: 0.5378 - accuracy: 0.7614 - val_loss: 0.6645 - val_accuracy: 0.5641\n",
            "Epoch 3/5\n",
            "24/24 [==============================] - 3s 118ms/step - loss: 0.4846 - accuracy: 0.7857 - val_loss: 0.7189 - val_accuracy: 0.5769\n",
            "Epoch 4/5\n",
            "24/24 [==============================] - 4s 149ms/step - loss: 0.4805 - accuracy: 0.7812 - val_loss: 0.5591 - val_accuracy: 0.7179\n",
            "Epoch 5/5\n",
            "24/24 [==============================] - 3s 145ms/step - loss: 0.4831 - accuracy: 0.7720 - val_loss: 0.6480 - val_accuracy: 0.6795\n"
          ]
        }
      ],
      "source": [
        "model = compile_model(learn_rate = 0.01, filter_number = 32, kernel_number = 1, d_strides = (3,3), activation_fun1 = 'relu', activation_fun2 = 'tanh', d_pool_size = 2, neuron = 128)\n",
        "hist = model.fit(X_train_new, y_train_new,\n",
        "                    epochs=5, batch_size = 28, validation_data=(X_validation_new, y_validation_new))"
      ]
    },
    {
      "cell_type": "code",
      "execution_count": null,
      "metadata": {
        "colab": {
          "base_uri": "https://localhost:8080/",
          "height": 573
        },
        "id": "qfnmJTxGFVp3",
        "outputId": "ff4fc37d-6a16-4006-a733-1ce12faca1b6"
      },
      "outputs": [
        {
          "data": {
            "image/png": "[encoded data removed]",
            "text/plain": [
              "<Figure size 432x288 with 1 Axes>"
            ]
          },
          "metadata": {
            "needs_background": "light"
          },
          "output_type": "display_data"
        },
        {
          "data": {
            "image/png": "[encoded data removed]",
            "text/plain": [
              "<Figure size 432x288 with 1 Axes>"
            ]
          },
          "metadata": {
            "needs_background": "light"
          },
          "output_type": "display_data"
        }
      ],
      "source": [
        "import matplotlib.pyplot as plt\n",
        "\"\"\" Plot the train and validation Loss \"\"\"\n",
        "\n",
        "plt.plot(hist.history['loss'])\n",
        "plt.plot(hist.history['val_loss'])\n",
        "plt.title('model loss(base model)')\n",
        "plt.ylabel('loss')\n",
        "plt.xlabel('epoch')\n",
        "#plt.ylim(0.4,0.8)\n",
        "plt.legend(['train', 'validation'], loc='upper left')\n",
        "plt.show()\n",
        "\n",
        "\"\"\" Plot the train and validation Accuracy \"\"\"\n",
        "\n",
        "plt.plot(hist.history['accuracy'])\n",
        "plt.plot(hist.history['val_accuracy'])\n",
        "plt.title('model accuracy(base model)')\n",
        "plt.ylabel('accuracy')\n",
        "plt.xlabel('epoch')\n",
        "#plt.ylim(0.5,0.8)\n",
        "plt.legend(['train', 'validation'], loc='upper left')\n",
        "plt.show()"
      ]
    },
    {
      "cell_type": "code",
      "execution_count": null,
      "metadata": {
        "colab": {
          "base_uri": "https://localhost:8080/",
          "height": 299
        },
        "id": "rvhra-b8FgOO",
        "outputId": "971d272a-ccca-46f4-d8cc-5cb0a88544a5"
      },
      "outputs": [
        {
          "data": {
            "text/plain": [
              "[Text(0.5, 1.0, 'Fine Tune2')]"
            ]
          },
          "execution_count": 61,
          "metadata": {},
          "output_type": "execute_result"
        },
        {
          "data": {
            "image/png": "[encoded data removed]",
            "text/plain": [
              "<Figure size 432x288 with 2 Axes>"
            ]
          },
          "metadata": {
            "needs_background": "light"
          },
          "output_type": "display_data"
        }
      ],
      "source": [
        "import seaborn as sns\n",
        "from sklearn.metrics import confusion_matrix\n",
        "pred = model.predict(X_validation_new)\n",
        "\n",
        "#y_pred = model.predict_generator(test_generator,steps=n_pred//10,verbose=1)\n",
        "\n",
        "labels = (pred > 0.5).astype(np.int)\n",
        "\n",
        "conf = confusion_matrix(y_validation_new.iloc[:,0], labels[:,0])\n",
        "tn, fp, fn, tp = confusion_matrix(y_validation_new.iloc[:,0], labels[:,0]).ravel()\n",
        "\n",
        "group_names = ['True Neg','False Pos','False Neg','True Pos']\n",
        "group_counts = [\"{0:0.0f}\".format(value) for value in\n",
        "                conf.flatten()]\n",
        "group_percentages = [\"{0:.2%}\".format(value) for value in\n",
        "                     conf.flatten()/np.sum(conf)]\n",
        "labels = [f\"{v1}\\n{v2}\\n{v3}\" for v1, v2, v3 in\n",
        "          zip(group_names,group_counts,group_percentages)]\n",
        "labels = np.asarray(labels).reshape(2,2)\n",
        "sns.heatmap(conf, annot=labels, fmt='', cmap='Blues').set(title='Fine Tune2')"
      ]
    },
    {
      "cell_type": "markdown",
      "metadata": {
        "id": "DbjG2M43BkjQ"
      },
      "source": [
        "#### Adjusting number of filters"
      ]
    },
    {
      "cell_type": "code",
      "execution_count": null,
      "metadata": {
        "colab": {
          "base_uri": "https://localhost:8080/"
        },
        "id": "qRf40CXUBnPA",
        "outputId": "c78af9ea-df38-4e25-b8a3-c1910c45f713"
      },
      "outputs": [
        {
          "name": "stderr",
          "output_type": "stream",
          "text": [
            "/usr/local/lib/python3.7/dist-packages/joblib/externals/loky/process_executor.py:705: UserWarning: A worker stopped while some jobs were given to the executor. This can be caused by a too short worker timeout or by a memory leak.\n",
            "  \"timeout or by a memory leak.\", UserWarning\n"
          ]
        },
        {
          "name": "stdout",
          "output_type": "stream",
          "text": [
            "Best score is 0.7420, Best parameter is {'activation_fun1': 'relu', 'filter_number': 48}\n",
            "0.6856 (0.0993) with {'activation_fun1': 'relu', 'filter_number': 8}\n",
            "0.6870 (0.0412) with {'activation_fun1': 'relu', 'filter_number': 16}\n",
            "0.7086 (0.1092) with {'activation_fun1': 'relu', 'filter_number': 32}\n",
            "0.7420 (0.0913) with {'activation_fun1': 'relu', 'filter_number': 48}\n",
            "0.7101 (0.1020) with {'activation_fun1': 'relu', 'filter_number': 64}\n",
            "0.7283 (0.0937) with {'activation_fun1': 'tanh', 'filter_number': 8}\n",
            "0.7069 (0.0836) with {'activation_fun1': 'tanh', 'filter_number': 16}\n",
            "0.6869 (0.0540) with {'activation_fun1': 'tanh', 'filter_number': 32}\n",
            "0.7192 (0.0924) with {'activation_fun1': 'tanh', 'filter_number': 48}\n",
            "0.7358 (0.0724) with {'activation_fun1': 'tanh', 'filter_number': 64}\n"
          ]
        }
      ],
      "source": [
        "warnings.simplefilter(action='ignore', category=DeprecationWarning)\n",
        "# Establish the Model Our New Function will Inform\n",
        "basemodel = compile_model()\n",
        "\n",
        "# Define the Grid Search Parameters \n",
        "filter_number = [8, 16, 32, 48, 64]\n",
        "activation_fun1 = ['relu', 'tanh']\n",
        "\n",
        "param_grid = dict(filter_number=filter_number, activation_fun1=activation_fun1)\n",
        "\n",
        "# Call the new Model Function in the KerasClassifier Package \n",
        "model = KerasClassifier(build_fn = compile_model, verbose=0) \n",
        "\n",
        "# Use n_jobs=-1 to Parallelize Across Available Processors (to speed it up)\n",
        "grid = GridSearchCV(estimator=model, param_grid=param_grid, n_jobs = -1)\n",
        "grid = grid.fit(X_train_new, y_train_new)\n",
        "\n",
        "# Print Best Training Results\n",
        "print(\"Best score is {:.4f},\".format(grid.best_score_),\"Best parameter is {}\".format(grid.best_params_))\n",
        "\n",
        "# Summarize Training Results\n",
        "means = grid.cv_results_['mean_test_score']\n",
        "stds = grid.cv_results_['std_test_score']\n",
        "params = grid.cv_results_['params']\n",
        "for mean, stdev, param in zip(means, stds, params):\n",
        "    print(\"{:.4f} ({:.4f}) with {}\".format(mean, stdev, param))"
      ]
    },
    {
      "cell_type": "markdown",
      "metadata": {
        "id": "MNKOfw7unHWU"
      },
      "source": [
        "**Note: This set of parameters is best in the fine-tuning process**"
      ]
    },
    {
      "cell_type": "code",
      "execution_count": null,
      "metadata": {
        "colab": {
          "base_uri": "https://localhost:8080/"
        },
        "id": "wZ-YCTO2G8GM",
        "outputId": "8e210d27-9cbd-44d4-d95e-25554eed1c92"
      },
      "outputs": [
        {
          "name": "stdout",
          "output_type": "stream",
          "text": [
            "Epoch 1/10\n",
            "24/24 [==============================] - 6s 205ms/step - loss: 0.5998 - accuracy: 0.6702 - val_loss: 0.6612 - val_accuracy: 0.5897\n",
            "Epoch 2/10\n",
            "24/24 [==============================] - 3s 143ms/step - loss: 0.5048 - accuracy: 0.7644 - val_loss: 0.6093 - val_accuracy: 0.6282\n",
            "Epoch 3/10\n",
            "24/24 [==============================] - 3s 132ms/step - loss: 0.5239 - accuracy: 0.7432 - val_loss: 0.6021 - val_accuracy: 0.6923\n",
            "Epoch 4/10\n",
            "24/24 [==============================] - 3s 133ms/step - loss: 0.4982 - accuracy: 0.7796 - val_loss: 0.6208 - val_accuracy: 0.6795\n",
            "Epoch 5/10\n",
            "24/24 [==============================] - 3s 133ms/step - loss: 0.4525 - accuracy: 0.8040 - val_loss: 0.7607 - val_accuracy: 0.6026\n",
            "Epoch 6/10\n",
            "24/24 [==============================] - 3s 133ms/step - loss: 0.4793 - accuracy: 0.7720 - val_loss: 0.6092 - val_accuracy: 0.6282\n",
            "Epoch 7/10\n",
            "24/24 [==============================] - 3s 133ms/step - loss: 0.4450 - accuracy: 0.7979 - val_loss: 0.6342 - val_accuracy: 0.7051\n",
            "Epoch 8/10\n",
            "24/24 [==============================] - 3s 135ms/step - loss: 0.4649 - accuracy: 0.7736 - val_loss: 0.6115 - val_accuracy: 0.7051\n",
            "Epoch 9/10\n",
            "24/24 [==============================] - 3s 135ms/step - loss: 0.4556 - accuracy: 0.7903 - val_loss: 0.6472 - val_accuracy: 0.6923\n",
            "Epoch 10/10\n",
            "24/24 [==============================] - 3s 133ms/step - loss: 0.4358 - accuracy: 0.7979 - val_loss: 0.6196 - val_accuracy: 0.7051\n"
          ]
        }
      ],
      "source": [
        "model = compile_model(learn_rate = 0.01, filter_number = 48, kernel_number = 1, d_strides = (3,3), activation_fun1 = 'relu', activation_fun2 = 'tanh', d_pool_size = 2, neuron = 128)\n",
        "hist = model.fit(X_train_new, y_train_new,\n",
        "                    epochs=10, batch_size = 28, validation_data=(X_validation_new, y_validation_new))"
      ]
    },
    {
      "cell_type": "code",
      "execution_count": null,
      "metadata": {
        "colab": {
          "base_uri": "https://localhost:8080/",
          "height": 573
        },
        "id": "mODXDyKbG_St",
        "outputId": "6ee20670-0939-4706-9071-78660832c9e4"
      },
      "outputs": [
        {
          "data": {
            "image/png": "[encoded data removed]",
            "text/plain": [
              "<Figure size 432x288 with 1 Axes>"
            ]
          },
          "metadata": {
            "needs_background": "light"
          },
          "output_type": "display_data"
        },
        {
          "data": {
            "image/png": "[encoded data removed]",
            "text/plain": [
              "<Figure size 432x288 with 1 Axes>"
            ]
          },
          "metadata": {
            "needs_background": "light"
          },
          "output_type": "display_data"
        }
      ],
      "source": [
        "import matplotlib.pyplot as plt\n",
        "\"\"\" Plot the train and validation Loss \"\"\"\n",
        "\n",
        "plt.plot(hist.history['loss'])\n",
        "plt.plot(hist.history['val_loss'])\n",
        "plt.title('model loss(base model)')\n",
        "plt.ylabel('loss')\n",
        "plt.xlabel('epoch')\n",
        "#plt.ylim(0.4,0.8)\n",
        "plt.legend(['train', 'validation'], loc='upper left')\n",
        "plt.show()\n",
        "\n",
        "\"\"\" Plot the train and validation Accuracy \"\"\"\n",
        "\n",
        "plt.plot(hist.history['accuracy'])\n",
        "plt.plot(hist.history['val_accuracy'])\n",
        "plt.title('model accuracy(base model)')\n",
        "plt.ylabel('accuracy')\n",
        "plt.xlabel('epoch')\n",
        "#plt.ylim(0.5,0.8)\n",
        "plt.legend(['train', 'validation'], loc='upper left')\n",
        "plt.show()"
      ]
    },
    {
      "cell_type": "code",
      "execution_count": null,
      "metadata": {
        "colab": {
          "base_uri": "https://localhost:8080/",
          "height": 299
        },
        "id": "9A7zhvPUHB55",
        "outputId": "4ff6593a-00c9-40e3-e8f1-9a20b2496611"
      },
      "outputs": [
        {
          "data": {
            "text/plain": [
              "[Text(0.5, 1.0, 'Fine Tune')]"
            ]
          },
          "execution_count": 68,
          "metadata": {},
          "output_type": "execute_result"
        },
        {
          "data": {
            "image/png": "[encoded data removed]",
            "text/plain": [
              "<Figure size 432x288 with 2 Axes>"
            ]
          },
          "metadata": {
            "needs_background": "light"
          },
          "output_type": "display_data"
        }
      ],
      "source": [
        "import seaborn as sns\n",
        "from sklearn.metrics import confusion_matrix\n",
        "pred = model.predict(X_validation_new)\n",
        "\n",
        "#y_pred = model.predict_generator(test_generator,steps=n_pred//10,verbose=1)\n",
        "\n",
        "labels = (pred > 0.5).astype(np.int)\n",
        "\n",
        "conf = confusion_matrix(y_validation_new.iloc[:,0], labels[:,0])\n",
        "tn, fp, fn, tp = confusion_matrix(y_validation_new.iloc[:,0], labels[:,0]).ravel()\n",
        "\n",
        "group_names = ['True Neg','False Pos','False Neg','True Pos']\n",
        "group_counts = [\"{0:0.0f}\".format(value) for value in\n",
        "                conf.flatten()]\n",
        "group_percentages = [\"{0:.2%}\".format(value) for value in\n",
        "                     conf.flatten()/np.sum(conf)]\n",
        "labels = [f\"{v1}\\n{v2}\\n{v3}\" for v1, v2, v3 in\n",
        "          zip(group_names,group_counts,group_percentages)]\n",
        "labels = np.asarray(labels).reshape(2,2)\n",
        "sns.heatmap(conf, annot=labels, fmt='', cmap='Blues').set(title='Fine Tune')"
      ]
    },
    {
      "cell_type": "code",
      "execution_count": null,
      "metadata": {
        "colab": {
          "base_uri": "https://localhost:8080/"
        },
        "id": "AmRgvIOzHB1Z",
        "outputId": "9d5e4b68-6cbc-4dbe-bebf-86fdc45f7711"
      },
      "outputs": [
        {
          "name": "stdout",
          "output_type": "stream",
          "text": [
            "Epoch 1/10\n",
            "24/24 [==============================] - 7s 258ms/step - loss: 0.6583 - accuracy: 0.6261 - val_loss: 0.5637 - val_accuracy: 0.7051\n",
            "Epoch 2/10\n",
            "24/24 [==============================] - 6s 246ms/step - loss: 0.5954 - accuracy: 0.6702 - val_loss: 0.5534 - val_accuracy: 0.6923\n",
            "Epoch 3/10\n",
            "24/24 [==============================] - 8s 351ms/step - loss: 0.5113 - accuracy: 0.7477 - val_loss: 0.7046 - val_accuracy: 0.6282\n",
            "Epoch 4/10\n",
            "24/24 [==============================] - 7s 270ms/step - loss: 0.4603 - accuracy: 0.7842 - val_loss: 0.6560 - val_accuracy: 0.6538\n",
            "Epoch 5/10\n",
            "24/24 [==============================] - 6s 246ms/step - loss: 0.4457 - accuracy: 0.8070 - val_loss: 0.7569 - val_accuracy: 0.6282\n",
            "Epoch 6/10\n",
            "24/24 [==============================] - 6s 248ms/step - loss: 0.4488 - accuracy: 0.7872 - val_loss: 0.6502 - val_accuracy: 0.6667\n",
            "Epoch 7/10\n",
            "24/24 [==============================] - 6s 247ms/step - loss: 0.4388 - accuracy: 0.8176 - val_loss: 0.7331 - val_accuracy: 0.6154\n",
            "Epoch 8/10\n",
            "24/24 [==============================] - 6s 245ms/step - loss: 0.4316 - accuracy: 0.8191 - val_loss: 0.7482 - val_accuracy: 0.6154\n",
            "Epoch 9/10\n",
            "24/24 [==============================] - 6s 248ms/step - loss: 0.4295 - accuracy: 0.8207 - val_loss: 0.8371 - val_accuracy: 0.5897\n",
            "Epoch 10/10\n",
            "24/24 [==============================] - 6s 246ms/step - loss: 0.4140 - accuracy: 0.8207 - val_loss: 0.7388 - val_accuracy: 0.6410\n"
          ]
        }
      ],
      "source": [
        "model = compile_model(learn_rate = 0.01, filter_number = 48, kernel_number = 1, d_strides = (2,2), activation_fun1 = 'relu', activation_fun2 = 'tanh', d_pool_size = 2, neuron = 128)\n",
        "hist = model.fit(X_train_new, y_train_new,\n",
        "                    epochs=10, batch_size = 28, validation_data=(X_validation_new, y_validation_new))"
      ]
    },
    {
      "cell_type": "code",
      "execution_count": null,
      "metadata": {
        "colab": {
          "base_uri": "https://localhost:8080/",
          "height": 573
        },
        "id": "QIAULM09O6ZM",
        "outputId": "f7ae8c33-622f-4c95-b520-8459b3dc956d"
      },
      "outputs": [
        {
          "data": {
            "image/png": "[encoded data removed]",
            "text/plain": [
              "<Figure size 432x288 with 1 Axes>"
            ]
          },
          "metadata": {
            "needs_background": "light"
          },
          "output_type": "display_data"
        },
        {
          "data": {
            "image/png": "[encoded data removed]",
            "text/plain": [
              "<Figure size 432x288 with 1 Axes>"
            ]
          },
          "metadata": {
            "needs_background": "light"
          },
          "output_type": "display_data"
        }
      ],
      "source": [
        "import matplotlib.pyplot as plt\n",
        "\"\"\" Plot the train and validation Loss \"\"\"\n",
        "\n",
        "plt.plot(hist.history['loss'])\n",
        "plt.plot(hist.history['val_loss'])\n",
        "plt.title('model loss(base model)')\n",
        "plt.ylabel('loss')\n",
        "plt.xlabel('epoch')\n",
        "#plt.ylim(0.4,0.8)\n",
        "plt.legend(['train', 'validation'], loc='upper left')\n",
        "plt.show()\n",
        "\n",
        "\"\"\" Plot the train and validation Accuracy \"\"\"\n",
        "\n",
        "plt.plot(hist.history['accuracy'])\n",
        "plt.plot(hist.history['val_accuracy'])\n",
        "plt.title('model accuracy(base model)')\n",
        "plt.ylabel('accuracy')\n",
        "plt.xlabel('epoch')\n",
        "#plt.ylim(0.5,0.8)\n",
        "plt.legend(['train', 'validation'], loc='upper left')\n",
        "plt.show()"
      ]
    },
    {
      "cell_type": "code",
      "execution_count": null,
      "metadata": {
        "colab": {
          "base_uri": "https://localhost:8080/",
          "height": 299
        },
        "id": "Rl-STZBaO7bL",
        "outputId": "3302ecf4-0505-4cf8-94d2-ccb1ef6237c5"
      },
      "outputs": [
        {
          "data": {
            "text/plain": [
              "[Text(0.5, 1.0, 'Fine Tune')]"
            ]
          },
          "execution_count": 81,
          "metadata": {},
          "output_type": "execute_result"
        },
        {
          "data": {
            "image/png": "[encoded data removed]",
            "text/plain": [
              "<Figure size 432x288 with 2 Axes>"
            ]
          },
          "metadata": {
            "needs_background": "light"
          },
          "output_type": "display_data"
        }
      ],
      "source": [
        "import seaborn as sns\n",
        "from sklearn.metrics import confusion_matrix\n",
        "pred = model.predict(X_validation_new)\n",
        "\n",
        "#y_pred = model.predict_generator(test_generator,steps=n_pred//10,verbose=1)\n",
        "\n",
        "labels = (pred > 0.5).astype(np.int)\n",
        "\n",
        "conf = confusion_matrix(y_validation_new.iloc[:,0], labels[:,0])\n",
        "tn, fp, fn, tp = confusion_matrix(y_validation_new.iloc[:,0], labels[:,0]).ravel()\n",
        "\n",
        "group_names = ['True Neg','False Pos','False Neg','True Pos']\n",
        "group_counts = [\"{0:0.0f}\".format(value) for value in\n",
        "                conf.flatten()]\n",
        "group_percentages = [\"{0:.2%}\".format(value) for value in\n",
        "                     conf.flatten()/np.sum(conf)]\n",
        "labels = [f\"{v1}\\n{v2}\\n{v3}\" for v1, v2, v3 in\n",
        "          zip(group_names,group_counts,group_percentages)]\n",
        "labels = np.asarray(labels).reshape(2,2)\n",
        "sns.heatmap(conf, annot=labels, fmt='', cmap='Blues').set(title='Fine Tune')"
      ]
    },
    {
      "cell_type": "markdown",
      "metadata": {
        "id": "HRonliuYB0SV"
      },
      "source": [
        "### Pooling Method"
      ]
    },
    {
      "cell_type": "markdown",
      "metadata": {
        "id": "3lklLmAcB637"
      },
      "source": [
        "#### Adjusing strides"
      ]
    },
    {
      "cell_type": "code",
      "execution_count": null,
      "metadata": {
        "colab": {
          "base_uri": "https://localhost:8080/"
        },
        "id": "IdEadHCwB8W8",
        "outputId": "940dbe4d-937a-47d3-eb10-9771cbf0ecc1"
      },
      "outputs": [
        {
          "name": "stderr",
          "output_type": "stream",
          "text": [
            "/usr/local/lib/python3.7/dist-packages/joblib/externals/loky/process_executor.py:705: UserWarning: A worker stopped while some jobs were given to the executor. This can be caused by a too short worker timeout or by a memory leak.\n",
            "  \"timeout or by a memory leak.\", UserWarning\n"
          ]
        },
        {
          "name": "stdout",
          "output_type": "stream",
          "text": [
            "Best score is 0.7496, Best parameter is {'activation_fun1': 'relu', 'd_strides': (2, 2)}\n",
            "0.7343 (0.0881) with {'activation_fun1': 'relu', 'd_strides': (1, 1)}\n",
            "0.7496 (0.1080) with {'activation_fun1': 'relu', 'd_strides': (2, 2)}\n",
            "0.7085 (0.0966) with {'activation_fun1': 'relu', 'd_strides': (3, 3)}\n",
            "0.6901 (0.0417) with {'activation_fun1': 'relu', 'd_strides': (4, 4)}\n",
            "0.7253 (0.1036) with {'activation_fun1': 'tanh', 'd_strides': (1, 1)}\n",
            "0.7404 (0.0851) with {'activation_fun1': 'tanh', 'd_strides': (2, 2)}\n",
            "0.7207 (0.0915) with {'activation_fun1': 'tanh', 'd_strides': (3, 3)}\n",
            "0.6856 (0.0703) with {'activation_fun1': 'tanh', 'd_strides': (4, 4)}\n"
          ]
        }
      ],
      "source": [
        "warnings.simplefilter(action='ignore', category=DeprecationWarning)\n",
        "# Establish the Model Our New Function will Inform\n",
        "basemodel = compile_model()\n",
        "\n",
        "# Define the Grid Search Parameters \n",
        "d_strides = [(1,1), (2,2) ,(3,3), (4,4)]\n",
        "activation_fun1 = ['relu', 'tanh']\n",
        "\n",
        "param_grid = dict(d_strides=d_strides, activation_fun1=activation_fun1)\n",
        "\n",
        "# Call the new Model Function in the KerasClassifier Package \n",
        "model = KerasClassifier(build_fn = compile_model, verbose=0) \n",
        "\n",
        "# Use n_jobs=-1 to Parallelize Across Available Processors (to speed it up)\n",
        "grid = GridSearchCV(estimator=model, param_grid=param_grid, n_jobs = -1)\n",
        "grid = grid.fit(X_train_new, y_train_new)\n",
        "\n",
        "# Print Best Training Results\n",
        "print(\"Best score is {:.4f},\".format(grid.best_score_),\"Best parameter is {}\".format(grid.best_params_))\n",
        "\n",
        "# Summarize Training Results\n",
        "means = grid.cv_results_['mean_test_score']\n",
        "stds = grid.cv_results_['std_test_score']\n",
        "params = grid.cv_results_['params']\n",
        "for mean, stdev, param in zip(means, stds, params):\n",
        "    print(\"{:.4f} ({:.4f}) with {}\".format(mean, stdev, param))"
      ]
    },
    {
      "cell_type": "markdown",
      "metadata": {
        "id": "Isf2shtKF0ZC"
      },
      "source": [
        "### full connection"
      ]
    },
    {
      "cell_type": "markdown",
      "metadata": {
        "id": "DxOZrTlHF-ZH"
      },
      "source": [
        "#### Adjusting number of neros"
      ]
    },
    {
      "cell_type": "code",
      "execution_count": null,
      "metadata": {
        "colab": {
          "base_uri": "https://localhost:8080/"
        },
        "id": "IZRMAOMOF_t3",
        "outputId": "21598221-aeb9-4e3f-c44d-f87070efc4c1"
      },
      "outputs": [
        {
          "name": "stderr",
          "output_type": "stream",
          "text": [
            "/usr/local/lib/python3.7/dist-packages/joblib/externals/loky/process_executor.py:705: UserWarning: A worker stopped while some jobs were given to the executor. This can be caused by a too short worker timeout or by a memory leak.\n",
            "  \"timeout or by a memory leak.\", UserWarning\n"
          ]
        },
        {
          "name": "stdout",
          "output_type": "stream",
          "text": [
            "Best score is 0.7542, Best parameter is {'activation_fun1': 'relu', 'neuron': 256}\n",
            "0.6810 (0.0682) with {'activation_fun1': 'relu', 'neuron': 32}\n",
            "0.6780 (0.0665) with {'activation_fun1': 'relu', 'neuron': 64}\n",
            "0.7008 (0.0676) with {'activation_fun1': 'relu', 'neuron': 128}\n",
            "0.7542 (0.1018) with {'activation_fun1': 'relu', 'neuron': 256}\n",
            "0.7466 (0.1130) with {'activation_fun1': 'tanh', 'neuron': 32}\n",
            "0.7175 (0.0766) with {'activation_fun1': 'tanh', 'neuron': 64}\n",
            "0.7069 (0.0710) with {'activation_fun1': 'tanh', 'neuron': 128}\n",
            "0.7114 (0.0709) with {'activation_fun1': 'tanh', 'neuron': 256}\n"
          ]
        }
      ],
      "source": [
        "warnings.simplefilter(action='ignore', category=DeprecationWarning)\n",
        "# Establish the Model Our New Function will Inform\n",
        "basemodel = compile_model()\n",
        "\n",
        "# Define the Grid Search Parameters \n",
        "neuron = [32, 64, 128, 256]\n",
        "activation_fun1 = ['relu', 'tanh']\n",
        "\n",
        "param_grid = dict(neuron=neuron, activation_fun1=activation_fun1)\n",
        "\n",
        "# Call the new Model Function in the KerasClassifier Package \n",
        "model = KerasClassifier(build_fn = compile_model, verbose=0) \n",
        "\n",
        "# Use n_jobs=-1 to Parallelize Across Available Processors (to speed it up)\n",
        "grid = GridSearchCV(estimator=model, param_grid=param_grid, n_jobs = -1)\n",
        "grid = grid.fit(X_train_new, y_train_new)\n",
        "\n",
        "# Print Best Training Results\n",
        "print(\"Best score is {:.4f},\".format(grid.best_score_),\"Best parameter is {}\".format(grid.best_params_))\n",
        "\n",
        "# Summarize Training Results\n",
        "means = grid.cv_results_['mean_test_score']\n",
        "stds = grid.cv_results_['std_test_score']\n",
        "params = grid.cv_results_['params']\n",
        "for mean, stdev, param in zip(means, stds, params):\n",
        "    print(\"{:.4f} ({:.4f}) with {}\".format(mean, stdev, param))"
      ]
    },
    {
      "cell_type": "code",
      "execution_count": null,
      "metadata": {
        "colab": {
          "base_uri": "https://localhost:8080/"
        },
        "id": "oMf5GBmKNSfD",
        "outputId": "d30b1ddc-3ad3-429e-d01a-b558be16e2ad"
      },
      "outputs": [
        {
          "name": "stdout",
          "output_type": "stream",
          "text": [
            "Epoch 1/10\n",
            "24/24 [==============================] - 7s 272ms/step - loss: 0.7158 - accuracy: 0.6033 - val_loss: 0.7243 - val_accuracy: 0.6795\n",
            "Epoch 2/10\n",
            "24/24 [==============================] - 6s 260ms/step - loss: 0.5745 - accuracy: 0.7097 - val_loss: 0.6095 - val_accuracy: 0.6026\n",
            "Epoch 3/10\n",
            "24/24 [==============================] - 6s 266ms/step - loss: 0.5165 - accuracy: 0.7614 - val_loss: 0.8259 - val_accuracy: 0.5513\n",
            "Epoch 4/10\n",
            "24/24 [==============================] - 6s 261ms/step - loss: 0.4863 - accuracy: 0.7812 - val_loss: 0.6292 - val_accuracy: 0.6538\n",
            "Epoch 5/10\n",
            "24/24 [==============================] - 6s 264ms/step - loss: 0.4467 - accuracy: 0.8055 - val_loss: 0.7249 - val_accuracy: 0.5897\n",
            "Epoch 6/10\n",
            "24/24 [==============================] - 6s 259ms/step - loss: 0.4292 - accuracy: 0.8131 - val_loss: 0.7245 - val_accuracy: 0.6667\n",
            "Epoch 7/10\n",
            "24/24 [==============================] - 6s 261ms/step - loss: 0.4046 - accuracy: 0.8267 - val_loss: 0.6124 - val_accuracy: 0.7179\n",
            "Epoch 8/10\n",
            "24/24 [==============================] - 11s 452ms/step - loss: 0.4173 - accuracy: 0.8191 - val_loss: 0.8990 - val_accuracy: 0.5897\n",
            "Epoch 9/10\n",
            "24/24 [==============================] - 11s 456ms/step - loss: 0.3799 - accuracy: 0.8435 - val_loss: 0.8920 - val_accuracy: 0.6282\n",
            "Epoch 10/10\n",
            "24/24 [==============================] - 8s 326ms/step - loss: 0.4141 - accuracy: 0.8207 - val_loss: 0.6471 - val_accuracy: 0.6795\n"
          ]
        }
      ],
      "source": [
        "model = compile_model(learn_rate = 0.01, filter_number = 48, kernel_number = 1, d_strides = (2,2), activation_fun1 = 'relu', activation_fun2 = 'tanh', d_pool_size = 2, neuron = 256)\n",
        "hist = model.fit(X_train_new, y_train_new,\n",
        "                    epochs=10, batch_size = 28, validation_data=(X_validation_new, y_validation_new))"
      ]
    },
    {
      "cell_type": "code",
      "execution_count": null,
      "metadata": {
        "colab": {
          "base_uri": "https://localhost:8080/",
          "height": 573
        },
        "id": "7GknbRz2NhM2",
        "outputId": "b25070a8-b9f9-4088-901b-35f0dd240a6c"
      },
      "outputs": [
        {
          "data": {
            "image/png": "[encoded data removed]",
            "text/plain": [
              "<Figure size 432x288 with 1 Axes>"
            ]
          },
          "metadata": {
            "needs_background": "light"
          },
          "output_type": "display_data"
        },
        {
          "data": {
            "image/png": "[encoded data removed]",
            "text/plain": [
              "<Figure size 432x288 with 1 Axes>"
            ]
          },
          "metadata": {
            "needs_background": "light"
          },
          "output_type": "display_data"
        }
      ],
      "source": [
        "import matplotlib.pyplot as plt\n",
        "\"\"\" Plot the train and validation Loss \"\"\"\n",
        "\n",
        "plt.plot(hist.history['loss'])\n",
        "plt.plot(hist.history['val_loss'])\n",
        "plt.title('model loss(base model)')\n",
        "plt.ylabel('loss')\n",
        "plt.xlabel('epoch')\n",
        "#plt.ylim(0.4,0.8)\n",
        "plt.legend(['train', 'validation'], loc='upper left')\n",
        "plt.show()\n",
        "\n",
        "\"\"\" Plot the train and validation Accuracy \"\"\"\n",
        "\n",
        "plt.plot(hist.history['accuracy'])\n",
        "plt.plot(hist.history['val_accuracy'])\n",
        "plt.title('model accuracy(base model)')\n",
        "plt.ylabel('accuracy')\n",
        "plt.xlabel('epoch')\n",
        "#plt.ylim(0.5,0.8)\n",
        "plt.legend(['train', 'validation'], loc='upper left')\n",
        "plt.show()"
      ]
    },
    {
      "cell_type": "code",
      "execution_count": null,
      "metadata": {
        "colab": {
          "base_uri": "https://localhost:8080/",
          "height": 299
        },
        "id": "IZTmZH3GNjjO",
        "outputId": "cf5faa2c-837d-4ea9-a507-02fbbb6d72cb"
      },
      "outputs": [
        {
          "data": {
            "text/plain": [
              "[Text(0.5, 1.0, 'Fine Tune')]"
            ]
          },
          "execution_count": 78,
          "metadata": {},
          "output_type": "execute_result"
        },
        {
          "data": {
            "image/png": "[encoded data removed]",
            "text/plain": [
              "<Figure size 432x288 with 2 Axes>"
            ]
          },
          "metadata": {
            "needs_background": "light"
          },
          "output_type": "display_data"
        }
      ],
      "source": [
        "import seaborn as sns\n",
        "from sklearn.metrics import confusion_matrix\n",
        "pred = model.predict(X_validation_new)\n",
        "\n",
        "#y_pred = model.predict_generator(test_generator,steps=n_pred//10,verbose=1)\n",
        "\n",
        "labels = (pred > 0.5).astype(np.int)\n",
        "\n",
        "conf = confusion_matrix(y_validation_new.iloc[:,0], labels[:,0])\n",
        "tn, fp, fn, tp = confusion_matrix(y_validation_new.iloc[:,0], labels[:,0]).ravel()\n",
        "\n",
        "group_names = ['True Neg','False Pos','False Neg','True Pos']\n",
        "group_counts = [\"{0:0.0f}\".format(value) for value in\n",
        "                conf.flatten()]\n",
        "group_percentages = [\"{0:.2%}\".format(value) for value in\n",
        "                     conf.flatten()/np.sum(conf)]\n",
        "labels = [f\"{v1}\\n{v2}\\n{v3}\" for v1, v2, v3 in\n",
        "          zip(group_names,group_counts,group_percentages)]\n",
        "labels = np.asarray(labels).reshape(2,2)\n",
        "sns.heatmap(conf, annot=labels, fmt='', cmap='Blues').set(title='Fine Tune')"
      ]
    },
    {
      "cell_type": "code",
      "execution_count": null,
      "metadata": {
        "id": "nHIP2-Cg_bDd"
      },
      "outputs": [],
      "source": []
    }
  ],
  "metadata": {
    "colab": {
      "collapsed_sections": [],
      "name": "FinetuneModels_final.ipynb",
      "provenance": [],
      "toc_visible": true
    },
    "kernelspec": {
      "display_name": "Python 3",
      "name": "python3"
    },
    "language_info": {
      "name": "python"
    }
  },
  "nbformat": 4,
  "nbformat_minor": 0
}
